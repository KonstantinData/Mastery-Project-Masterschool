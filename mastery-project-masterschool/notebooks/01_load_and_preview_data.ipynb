{
 "cells": [
  {
   "cell_type": "markdown",
   "id": "ff2611cc",
   "metadata": {},
   "source": [
    "# **EDA & Feature Engneering**"
   ]
  },
  {
   "cell_type": "markdown",
   "id": "45899623",
   "metadata": {},
   "source": [
    "## 📥 Load Data from AWS S3 Bucket"
   ]
  },
  {
   "cell_type": "markdown",
   "id": "f830df5c",
   "metadata": {},
   "source": [
    "⚠️ No accesdetails needed for this Project"
   ]
  },
  {
   "cell_type": "code",
   "execution_count": 2,
   "id": "99c080d7",
   "metadata": {},
   "outputs": [],
   "source": [
    "import pandas as pd\n",
    "\n",
    "\n",
    "def load_flights_bronze():\n",
    "    url = \"https://lakehouse-masteryproject-2025.s3.eu-north-1.amazonaws.com/bronze/public_flights_export_2025-03-31_134734.csv\"\n",
    "    return pd.read_csv(url)\n",
    "\n",
    "def load_hotels_bronze():\n",
    "    url = \"https://lakehouse-masteryproject-2025.s3.eu-north-1.amazonaws.com/bronze/public_hotels_export_2025-03-31_171805.csv\"\n",
    "    return pd.read_csv(url)\n",
    "\n",
    "def load_sessions_bronze():\n",
    "    url = \"https://lakehouse-masteryproject-2025.s3.eu-north-1.amazonaws.com/bronze/public_sessions_export_2025-03-31_221253.csv\"\n",
    "    return pd.read_csv(url)\n",
    "\n",
    "def load_users_bronze():\n",
    "    url = \"https://lakehouse-masteryproject-2025.s3.eu-north-1.amazonaws.com/bronze/public_users_export_2025-04-01_101058.csv\"\n",
    "    return pd.read_csv(url)"
   ]
  },
  {
   "cell_type": "code",
   "execution_count": 3,
   "id": "9ab82064",
   "metadata": {},
   "outputs": [
    {
     "name": "stdout",
     "output_type": "stream",
     "text": [
      "✅ Flight, hotel, session and user data loaded successfully.\n"
     ]
    }
   ],
   "source": [
    "df_flights_bronze = load_flights_bronze()\n",
    "df_hotels_bronze = load_hotels_bronze()\n",
    "df_sessions_bronze = load_sessions_bronze()\n",
    "df_users_bronze = load_users_bronze()\n",
    "\n",
    "print(\"✅ Flight, hotel, session and user data loaded successfully.\")"
   ]
  },
  {
   "cell_type": "markdown",
   "id": "3084a73b",
   "metadata": {},
   "source": [
    "## 🔍Reducing Columns"
   ]
  },
  {
   "cell_type": "markdown",
   "id": "ad5abaf1",
   "metadata": {},
   "source": [
    "The next step is to reduce the columns to only those needed to validate the hypotheses behind the defined perks. All other columns are excluded unless they are required to calculate new features (e.g., `nights` for trip duration) or to support the interpretation of results.\n",
    "\n",
    "🧠 Personalization Scope (Project Context)\n",
    "\n",
    "In this project, **personalization** is based exclusively on **individual user behavior** observed within the TravelTide platform. This includes patterns such as discount usage, booking behavior, and cancellation frequency.\n",
    "\n",
    "Demographic or group-level attributes (e.g. family status, number of travelers, or room count) are not considered. The goal is to assign each user the perk most relevant to **how they interact** with the platform — not who they are or who they travel with.\n",
    "\n"
   ]
  },
  {
   "cell_type": "markdown",
   "id": "699efc82",
   "metadata": {},
   "source": [
    "### 👤 Reducing Columns – `users` Table\n"
   ]
  },
  {
   "cell_type": "markdown",
   "id": "f304530a",
   "metadata": {},
   "source": [
    "\n",
    "For the `users` table, we keep only the columns required to support the behavioral logic behind the defined perks. Since personalization in this project is based purely on **individual interaction behavior**, we exclude all demographic and group-related attributes.\n"
   ]
  },
  {
   "cell_type": "markdown",
   "id": "b23bfb5e",
   "metadata": {},
   "source": [
    "| Column         | Description                                                           | Keep? |\n",
    "|----------------|------------------------------------------------------------------------|:-----:|\n",
    "| `user_id`      | Required to join with sessions and flights                            | ✅    |\n",
    "| `birthdate`    | May support age-related behavioral segmentation if needed             | ✅    |\n",
    "| `has_children` | Not used for any defined perk — group/family-related                  | ❌    |\n",
    "| `gender`       | Not tied to any perk                                                  | ❌    |\n",
    "| `married`      | Not tied to any perk                                                  | ❌    |\n",
    "| `home_country` | Not required for perk logic                                           | ❌    |\n",
    "| `home_city`    | Too granular for this scope                                           | ❌    |\n",
    "| `home_airport` | Not relevant for current perks                                        | ❌    |\n",
    "| `sign_up_date` | Not used in perk logic                                                | ❌    |\n"
   ]
  },
  {
   "cell_type": "code",
   "execution_count": 14,
   "id": "dd060fd9",
   "metadata": {},
   "outputs": [
    {
     "data": {
      "application/vnd.microsoft.datawrangler.viewer.v0+json": {
       "columns": [
        {
         "name": "index",
         "rawType": "int64",
         "type": "integer"
        },
        {
         "name": "user_id",
         "rawType": "int64",
         "type": "integer"
        },
        {
         "name": "birthdate",
         "rawType": "object",
         "type": "string"
        }
       ],
       "conversionMethod": "pd.DataFrame",
       "ref": "e2204b67-2aa5-4977-92eb-b818f9f3f4aa",
       "rows": [
        [
         "0",
         "0",
         "1990-01-22"
        ],
        [
         "1",
         "1",
         "2000-11-08"
        ],
        [
         "2",
         "2",
         "1992-09-21"
        ],
        [
         "3",
         "3",
         "1996-11-27"
        ],
        [
         "4",
         "4",
         "1978-01-05"
        ]
       ],
       "shape": {
        "columns": 2,
        "rows": 5
       }
      },
      "text/html": [
       "<div>\n",
       "<style scoped>\n",
       "    .dataframe tbody tr th:only-of-type {\n",
       "        vertical-align: middle;\n",
       "    }\n",
       "\n",
       "    .dataframe tbody tr th {\n",
       "        vertical-align: top;\n",
       "    }\n",
       "\n",
       "    .dataframe thead th {\n",
       "        text-align: right;\n",
       "    }\n",
       "</style>\n",
       "<table border=\"1\" class=\"dataframe\">\n",
       "  <thead>\n",
       "    <tr style=\"text-align: right;\">\n",
       "      <th></th>\n",
       "      <th>user_id</th>\n",
       "      <th>birthdate</th>\n",
       "    </tr>\n",
       "  </thead>\n",
       "  <tbody>\n",
       "    <tr>\n",
       "      <th>0</th>\n",
       "      <td>0</td>\n",
       "      <td>1990-01-22</td>\n",
       "    </tr>\n",
       "    <tr>\n",
       "      <th>1</th>\n",
       "      <td>1</td>\n",
       "      <td>2000-11-08</td>\n",
       "    </tr>\n",
       "    <tr>\n",
       "      <th>2</th>\n",
       "      <td>2</td>\n",
       "      <td>1992-09-21</td>\n",
       "    </tr>\n",
       "    <tr>\n",
       "      <th>3</th>\n",
       "      <td>3</td>\n",
       "      <td>1996-11-27</td>\n",
       "    </tr>\n",
       "    <tr>\n",
       "      <th>4</th>\n",
       "      <td>4</td>\n",
       "      <td>1978-01-05</td>\n",
       "    </tr>\n",
       "  </tbody>\n",
       "</table>\n",
       "</div>"
      ],
      "text/plain": [
       "   user_id   birthdate\n",
       "0        0  1990-01-22\n",
       "1        1  2000-11-08\n",
       "2        2  1992-09-21\n",
       "3        3  1996-11-27\n",
       "4        4  1978-01-05"
      ]
     },
     "execution_count": 14,
     "metadata": {},
     "output_type": "execute_result"
    }
   ],
   "source": [
    "\n",
    "df_users_bronze = df_users_bronze[[\"user_id\", \"birthdate\"]]\n",
    "\n",
    "df_users_bronze.head()\n"
   ]
  },
  {
   "cell_type": "markdown",
   "id": "c163e215",
   "metadata": {},
   "source": [
    "### 🧾 Reducing Columns – `sessions` Table"
   ]
  },
  {
   "cell_type": "markdown",
   "id": "040efc87",
   "metadata": {},
   "source": [
    "\n",
    "The `sessions` table is the most important source for behavioral signals in this project. We retain only the columns directly required to support the five defined perks or essential to filtering and joining."
   ]
  },
  {
   "cell_type": "markdown",
   "id": "196e8923",
   "metadata": {},
   "source": [
    "| Column                   | Description                                                                 | Keep? |\n",
    "|--------------------------|-----------------------------------------------------------------------------|:-----:|\n",
    "| `session_id`             | Needed to count sessions per user (7+ sessions filter)                      | ✅    |\n",
    "| `user_id`                | Required to join with users                                                 | ✅    |\n",
    "| `trip_id`                | Required to connect to flights and hotels                                   | ✅    |\n",
    "| `session_start`          | Used to filter sessions after Jan 4, 2023                                   | ✅    |\n",
    "| `flight_discount`        | Supports the \"exclusive discounts\" perk                                     | ✅    |\n",
    "| `hotel_discount`         | Supports the \"exclusive discounts\" perk                                     | ✅    |\n",
    "| `flight_discount_amount` | Captures price sensitivity for flight discounts                             | ✅    |\n",
    "| `hotel_discount_amount`  | Captures price sensitivity for hotel discounts                              | ✅    |\n",
    "| `flight_booked`          | Required to understand booking behavior                                     | ✅    |\n",
    "| `hotel_booked`           | Required to validate hotel+flight pairing                                   | ✅    |\n",
    "| `page_clicks`            | Indicates user engagement — helps understand interaction effort             | ✅    |\n",
    "| `cancellation`           | Directly supports the \"no cancellation fees\" perk                           | ✅    |\n",
    "| `session_end`            | Not required for any of the defined perks                                   | ❌    |\n"
   ]
  },
  {
   "cell_type": "code",
   "execution_count": 15,
   "id": "13f460d2",
   "metadata": {},
   "outputs": [
    {
     "data": {
      "application/vnd.microsoft.datawrangler.viewer.v0+json": {
       "columns": [
        {
         "name": "index",
         "rawType": "int64",
         "type": "integer"
        },
        {
         "name": "session_id",
         "rawType": "object",
         "type": "string"
        },
        {
         "name": "user_id",
         "rawType": "int64",
         "type": "integer"
        },
        {
         "name": "trip_id",
         "rawType": "object",
         "type": "unknown"
        },
        {
         "name": "session_start",
         "rawType": "object",
         "type": "string"
        },
        {
         "name": "flight_discount",
         "rawType": "bool",
         "type": "boolean"
        },
        {
         "name": "hotel_discount",
         "rawType": "bool",
         "type": "boolean"
        },
        {
         "name": "flight_discount_amount",
         "rawType": "float64",
         "type": "float"
        },
        {
         "name": "hotel_discount_amount",
         "rawType": "float64",
         "type": "float"
        },
        {
         "name": "flight_booked",
         "rawType": "bool",
         "type": "boolean"
        },
        {
         "name": "hotel_booked",
         "rawType": "bool",
         "type": "boolean"
        },
        {
         "name": "page_clicks",
         "rawType": "int64",
         "type": "integer"
        },
        {
         "name": "cancellation",
         "rawType": "bool",
         "type": "boolean"
        }
       ],
       "conversionMethod": "pd.DataFrame",
       "ref": "354db715-8cce-400a-9727-e0ae029648aa",
       "rows": [
        [
         "0",
         "841803-95c93659053948049c73106ffdcf4df6",
         "841803",
         "841803-31d33d39b08f477bb8d9dd3b0dcbf1d3",
         "2023-05-17 19:40:00",
         "False",
         "False",
         null,
         null,
         "True",
         "True",
         "30",
         "False"
        ],
        [
         "1",
         "841804-bf1bfe452c4d4372b04d9612134006e7",
         "841804",
         null,
         "2023-05-17 22:40:00",
         "False",
         "False",
         null,
         null,
         "False",
         "False",
         "9",
         "False"
        ],
        [
         "2",
         "841805-70d695ee6540481bae7750e368c10443",
         "841805",
         "841805-506d17340ffa41659736fd258138a9b5",
         "2023-05-17 21:10:00",
         "False",
         "False",
         null,
         null,
         "True",
         "True",
         "24",
         "False"
        ],
        [
         "3",
         "841806-a03ac981d1c847979765669ca871a0cb",
         "841806",
         null,
         "2023-05-17 21:49:00",
         "True",
         "True",
         "0.2",
         "0.2",
         "False",
         "False",
         "42",
         "False"
        ],
        [
         "4",
         "841807-4febb023cd414a6196fc026af1928bfb",
         "841807",
         null,
         "2023-05-17 20:28:00",
         "False",
         "False",
         null,
         null,
         "False",
         "False",
         "4",
         "False"
        ]
       ],
       "shape": {
        "columns": 12,
        "rows": 5
       }
      },
      "text/html": [
       "<div>\n",
       "<style scoped>\n",
       "    .dataframe tbody tr th:only-of-type {\n",
       "        vertical-align: middle;\n",
       "    }\n",
       "\n",
       "    .dataframe tbody tr th {\n",
       "        vertical-align: top;\n",
       "    }\n",
       "\n",
       "    .dataframe thead th {\n",
       "        text-align: right;\n",
       "    }\n",
       "</style>\n",
       "<table border=\"1\" class=\"dataframe\">\n",
       "  <thead>\n",
       "    <tr style=\"text-align: right;\">\n",
       "      <th></th>\n",
       "      <th>session_id</th>\n",
       "      <th>user_id</th>\n",
       "      <th>trip_id</th>\n",
       "      <th>session_start</th>\n",
       "      <th>flight_discount</th>\n",
       "      <th>hotel_discount</th>\n",
       "      <th>flight_discount_amount</th>\n",
       "      <th>hotel_discount_amount</th>\n",
       "      <th>flight_booked</th>\n",
       "      <th>hotel_booked</th>\n",
       "      <th>page_clicks</th>\n",
       "      <th>cancellation</th>\n",
       "    </tr>\n",
       "  </thead>\n",
       "  <tbody>\n",
       "    <tr>\n",
       "      <th>0</th>\n",
       "      <td>841803-95c93659053948049c73106ffdcf4df6</td>\n",
       "      <td>841803</td>\n",
       "      <td>841803-31d33d39b08f477bb8d9dd3b0dcbf1d3</td>\n",
       "      <td>2023-05-17 19:40:00</td>\n",
       "      <td>False</td>\n",
       "      <td>False</td>\n",
       "      <td>NaN</td>\n",
       "      <td>NaN</td>\n",
       "      <td>True</td>\n",
       "      <td>True</td>\n",
       "      <td>30</td>\n",
       "      <td>False</td>\n",
       "    </tr>\n",
       "    <tr>\n",
       "      <th>1</th>\n",
       "      <td>841804-bf1bfe452c4d4372b04d9612134006e7</td>\n",
       "      <td>841804</td>\n",
       "      <td>NaN</td>\n",
       "      <td>2023-05-17 22:40:00</td>\n",
       "      <td>False</td>\n",
       "      <td>False</td>\n",
       "      <td>NaN</td>\n",
       "      <td>NaN</td>\n",
       "      <td>False</td>\n",
       "      <td>False</td>\n",
       "      <td>9</td>\n",
       "      <td>False</td>\n",
       "    </tr>\n",
       "    <tr>\n",
       "      <th>2</th>\n",
       "      <td>841805-70d695ee6540481bae7750e368c10443</td>\n",
       "      <td>841805</td>\n",
       "      <td>841805-506d17340ffa41659736fd258138a9b5</td>\n",
       "      <td>2023-05-17 21:10:00</td>\n",
       "      <td>False</td>\n",
       "      <td>False</td>\n",
       "      <td>NaN</td>\n",
       "      <td>NaN</td>\n",
       "      <td>True</td>\n",
       "      <td>True</td>\n",
       "      <td>24</td>\n",
       "      <td>False</td>\n",
       "    </tr>\n",
       "    <tr>\n",
       "      <th>3</th>\n",
       "      <td>841806-a03ac981d1c847979765669ca871a0cb</td>\n",
       "      <td>841806</td>\n",
       "      <td>NaN</td>\n",
       "      <td>2023-05-17 21:49:00</td>\n",
       "      <td>True</td>\n",
       "      <td>True</td>\n",
       "      <td>0.2</td>\n",
       "      <td>0.2</td>\n",
       "      <td>False</td>\n",
       "      <td>False</td>\n",
       "      <td>42</td>\n",
       "      <td>False</td>\n",
       "    </tr>\n",
       "    <tr>\n",
       "      <th>4</th>\n",
       "      <td>841807-4febb023cd414a6196fc026af1928bfb</td>\n",
       "      <td>841807</td>\n",
       "      <td>NaN</td>\n",
       "      <td>2023-05-17 20:28:00</td>\n",
       "      <td>False</td>\n",
       "      <td>False</td>\n",
       "      <td>NaN</td>\n",
       "      <td>NaN</td>\n",
       "      <td>False</td>\n",
       "      <td>False</td>\n",
       "      <td>4</td>\n",
       "      <td>False</td>\n",
       "    </tr>\n",
       "  </tbody>\n",
       "</table>\n",
       "</div>"
      ],
      "text/plain": [
       "                                session_id  user_id  \\\n",
       "0  841803-95c93659053948049c73106ffdcf4df6   841803   \n",
       "1  841804-bf1bfe452c4d4372b04d9612134006e7   841804   \n",
       "2  841805-70d695ee6540481bae7750e368c10443   841805   \n",
       "3  841806-a03ac981d1c847979765669ca871a0cb   841806   \n",
       "4  841807-4febb023cd414a6196fc026af1928bfb   841807   \n",
       "\n",
       "                                   trip_id        session_start  \\\n",
       "0  841803-31d33d39b08f477bb8d9dd3b0dcbf1d3  2023-05-17 19:40:00   \n",
       "1                                      NaN  2023-05-17 22:40:00   \n",
       "2  841805-506d17340ffa41659736fd258138a9b5  2023-05-17 21:10:00   \n",
       "3                                      NaN  2023-05-17 21:49:00   \n",
       "4                                      NaN  2023-05-17 20:28:00   \n",
       "\n",
       "   flight_discount  hotel_discount  flight_discount_amount  \\\n",
       "0            False           False                     NaN   \n",
       "1            False           False                     NaN   \n",
       "2            False           False                     NaN   \n",
       "3             True            True                     0.2   \n",
       "4            False           False                     NaN   \n",
       "\n",
       "   hotel_discount_amount  flight_booked  hotel_booked  page_clicks  \\\n",
       "0                    NaN           True          True           30   \n",
       "1                    NaN          False         False            9   \n",
       "2                    NaN           True          True           24   \n",
       "3                    0.2          False         False           42   \n",
       "4                    NaN          False         False            4   \n",
       "\n",
       "   cancellation  \n",
       "0         False  \n",
       "1         False  \n",
       "2         False  \n",
       "3         False  \n",
       "4         False  "
      ]
     },
     "execution_count": 15,
     "metadata": {},
     "output_type": "execute_result"
    }
   ],
   "source": [
    "df_sessions_bronze = df_sessions_bronze[\n",
    "    [\n",
    "        \"session_id\", \"user_id\", \"trip_id\", \"session_start\",\n",
    "        \"flight_discount\", \"hotel_discount\",\n",
    "        \"flight_discount_amount\", \"hotel_discount_amount\",\n",
    "        \"flight_booked\", \"hotel_booked\",\n",
    "        \"page_clicks\", \"cancellation\"\n",
    "    ]\n",
    "]\n",
    "df_sessions_bronze.head()"
   ]
  },
  {
   "cell_type": "markdown",
   "id": "ad837ed0",
   "metadata": {},
   "source": [
    "### ✈️ Reducing Columns – `flights` Table\n"
   ]
  },
  {
   "cell_type": "markdown",
   "id": "f5f7a8e8",
   "metadata": {},
   "source": [
    "\n",
    "We retain only the columns that are directly required to support perk validation. Columns related to destinations, time, or route details are excluded, as none of the five defined perks depend on them."
   ]
  },
  {
   "cell_type": "markdown",
   "id": "4afc5d83",
   "metadata": {},
   "source": [
    "| Column                   | Description                                                                                  |\n",
    "|--------------------------|----------------------------------------------------------------------------------------------|\n",
    "| `trip_id`                | ✅ Required to join with sessions                                                             |\n",
    "| `checked_bags`           | ✅ Directly supports the \"free checked bag\" perk                                              |\n",
    "| `base_fare_usd`          | ✅ Supports the \"exclusive discounts\" perk by capturing price sensitivity                     |\n",
    "| `trip_airline`           | ❌ Not needed for current perks                                                               |\n",
    "| `origin_airport`         | ❌ Not required for any defined perk                                                          |\n",
    "| `destination`            | ❌ Not required for any defined perk                                                          |\n",
    "| `destination_airport`    | ❌ Redundant and not perk-related                                                             |\n",
    "| `seats`                  | ❌ Not needed for defined perks                                                               |\n",
    "| `return_flight_booked`   | ❌ Not used for any current perk                                                              |\n",
    "| `departure_time`         | ❌ Not used for any current perk                                                              |\n",
    "| `return_time`            | ❌ Not used for any current perk                                                              |\n",
    "| `destination_airport_lat`| ❌ Mapping only — not used in perks                                                           |\n",
    "| `destination_airport_lon`| ❌ Mapping only — not used in perks                                                           |\n"
   ]
  },
  {
   "cell_type": "code",
   "execution_count": 16,
   "id": "1128ebaf",
   "metadata": {},
   "outputs": [
    {
     "data": {
      "application/vnd.microsoft.datawrangler.viewer.v0+json": {
       "columns": [
        {
         "name": "index",
         "rawType": "int64",
         "type": "integer"
        },
        {
         "name": "trip_id",
         "rawType": "object",
         "type": "string"
        },
        {
         "name": "checked_bags",
         "rawType": "int64",
         "type": "integer"
        },
        {
         "name": "base_fare_usd",
         "rawType": "float64",
         "type": "float"
        }
       ],
       "conversionMethod": "pd.DataFrame",
       "ref": "01b6caed-ee6a-4dc5-982a-8ee274f40b8a",
       "rows": [
        [
         "0",
         "693092-7b8767746abd45219ed468d58da9f702",
         "0",
         "479.31"
        ],
        [
         "1",
         "693124-1032149a9e01427da914b17ce6ef1926",
         "0",
         "575.78"
        ],
        [
         "2",
         "693149-0fdb31c7dc114a4d8a318f0feada365c",
         "0",
         "336.72"
        ],
        [
         "3",
         "693169-d120c3721d0b4bcca278639c981e4322",
         "0",
         "295.37"
        ],
        [
         "4",
         "693181-f4a2363db0ee452f8ac8c0fe3d4ef0ad",
         "1",
         "694.26"
        ]
       ],
       "shape": {
        "columns": 3,
        "rows": 5
       }
      },
      "text/html": [
       "<div>\n",
       "<style scoped>\n",
       "    .dataframe tbody tr th:only-of-type {\n",
       "        vertical-align: middle;\n",
       "    }\n",
       "\n",
       "    .dataframe tbody tr th {\n",
       "        vertical-align: top;\n",
       "    }\n",
       "\n",
       "    .dataframe thead th {\n",
       "        text-align: right;\n",
       "    }\n",
       "</style>\n",
       "<table border=\"1\" class=\"dataframe\">\n",
       "  <thead>\n",
       "    <tr style=\"text-align: right;\">\n",
       "      <th></th>\n",
       "      <th>trip_id</th>\n",
       "      <th>checked_bags</th>\n",
       "      <th>base_fare_usd</th>\n",
       "    </tr>\n",
       "  </thead>\n",
       "  <tbody>\n",
       "    <tr>\n",
       "      <th>0</th>\n",
       "      <td>693092-7b8767746abd45219ed468d58da9f702</td>\n",
       "      <td>0</td>\n",
       "      <td>479.31</td>\n",
       "    </tr>\n",
       "    <tr>\n",
       "      <th>1</th>\n",
       "      <td>693124-1032149a9e01427da914b17ce6ef1926</td>\n",
       "      <td>0</td>\n",
       "      <td>575.78</td>\n",
       "    </tr>\n",
       "    <tr>\n",
       "      <th>2</th>\n",
       "      <td>693149-0fdb31c7dc114a4d8a318f0feada365c</td>\n",
       "      <td>0</td>\n",
       "      <td>336.72</td>\n",
       "    </tr>\n",
       "    <tr>\n",
       "      <th>3</th>\n",
       "      <td>693169-d120c3721d0b4bcca278639c981e4322</td>\n",
       "      <td>0</td>\n",
       "      <td>295.37</td>\n",
       "    </tr>\n",
       "    <tr>\n",
       "      <th>4</th>\n",
       "      <td>693181-f4a2363db0ee452f8ac8c0fe3d4ef0ad</td>\n",
       "      <td>1</td>\n",
       "      <td>694.26</td>\n",
       "    </tr>\n",
       "  </tbody>\n",
       "</table>\n",
       "</div>"
      ],
      "text/plain": [
       "                                   trip_id  checked_bags  base_fare_usd\n",
       "0  693092-7b8767746abd45219ed468d58da9f702             0         479.31\n",
       "1  693124-1032149a9e01427da914b17ce6ef1926             0         575.78\n",
       "2  693149-0fdb31c7dc114a4d8a318f0feada365c             0         336.72\n",
       "3  693169-d120c3721d0b4bcca278639c981e4322             0         295.37\n",
       "4  693181-f4a2363db0ee452f8ac8c0fe3d4ef0ad             1         694.26"
      ]
     },
     "execution_count": 16,
     "metadata": {},
     "output_type": "execute_result"
    }
   ],
   "source": [
    "df_flights_bronze = df_flights_bronze[\n",
    "    [\"trip_id\", \"checked_bags\", \"base_fare_usd\"]\n",
    "]\n",
    "\n",
    "df_flights_bronze.head()\n"
   ]
  },
  {
   "cell_type": "markdown",
   "id": "a288e412",
   "metadata": {},
   "source": [
    "### 🏨 Reducing Columns – `hotels` Table"
   ]
  },
  {
   "cell_type": "markdown",
   "id": "2b865abe",
   "metadata": {},
   "source": [
    "In the `hotels` table, we only keep columns that are directly needed to validate the defined perks. All other fields, such as room count, hotel brand, or check-in/out times, are excluded since they are not required for any of the five perks.\n"
   ]
  },
  {
   "cell_type": "markdown",
   "id": "0add020e",
   "metadata": {},
   "source": [
    "| Column               | Description                                                                                   |\n",
    "|----------------------|-----------------------------------------------------------------------------------------------|\n",
    "| `trip_id`            | ✅ Required to join hotels with sessions and flights                                          |\n",
    "| `nights`             | ✅ Required to validate the \"1 night free hotel with flight\" perk                             |\n",
    "| `hotel_per_room_usd` | ✅ Supports the \"exclusive discounts\" perk by capturing price sensitivity                      |\n",
    "| `hotel_name`         | ❌ Not needed for any defined perk                                                             |\n",
    "| `rooms`              | ❌ Not used for any current perk                                                               |\n",
    "| `check_in_time`      | ❌ Not required for any of the defined perks                                                   |\n",
    "| `check_out_time`     | ❌ Not required — duration is already captured by `nights`                                     |\n"
   ]
  },
  {
   "cell_type": "code",
   "execution_count": null,
   "id": "7dba010d",
   "metadata": {},
   "outputs": [],
   "source": [
    "df_hotels_bronze = df_hotels_bronze.drop(columns=[\"nights\"])"
   ]
  },
  {
   "cell_type": "markdown",
   "id": "e1a595d7",
   "metadata": {},
   "source": [
    "Instead of relying on the nights column from the dataset, we calculate it ourselves based on actual hote logic: check-in time, check-out time, and a grace period. A late checkout may result in an additional night being counted. This behavior is more realistic."
   ]
  },
  {
   "cell_type": "code",
   "execution_count": null,
   "id": "7b0dd999",
   "metadata": {},
   "outputs": [],
   "source": [
    "from datetime import datetime, timedelta\n",
    "import pandas as pd\n",
    "\n",
    "# Hotel rules\n",
    "CHECKIN_TIME = datetime.strptime(\"15:00\", \"%H:%M\").time()\n",
    "CHECKOUT_TIME = datetime.strptime(\"11:00\", \"%H:%M\").time()\n",
    "GRACE_PERIOD = timedelta(hours=1)  # 1-hour grace period\n",
    "\n",
    "# Function to calculate nights based on check-in/out times\n",
    "def calculate_nights_realistic(row):\n",
    "    check_in = row[\"check_in_time\"]\n",
    "    check_out = row[\"check_out_time\"]\n",
    "\n",
    "    if pd.isna(check_in) or pd.isna(check_out):\n",
    "        return None\n",
    "\n",
    "    check_in_date = check_in.date()\n",
    "    check_out_date = check_out.date()\n",
    "\n",
    "    # Base night count = number of calendar days\n",
    "    nights = (check_out_date - check_in_date).days\n",
    "\n",
    "    # Add 1 night if checkout was late (after grace period)\n",
    "    checkout_deadline = datetime.combine(check_out_date, CHECKOUT_TIME) + GRACE_PERIOD\n",
    "    if check_out > checkout_deadline:\n",
    "        nights += 1\n",
    "\n",
    "    return nights\n",
    "\n",
    "# Apply to dataset\n",
    "df_hotels_bronze[\"nights\"] = df_hotels_bronze.apply(calculate_nights_realistic, axis=1)\n"
   ]
  },
  {
   "cell_type": "code",
   "execution_count": 18,
   "id": "ac3c269d",
   "metadata": {},
   "outputs": [
    {
     "data": {
      "application/vnd.microsoft.datawrangler.viewer.v0+json": {
       "columns": [
        {
         "name": "index",
         "rawType": "int64",
         "type": "integer"
        },
        {
         "name": "trip_id",
         "rawType": "object",
         "type": "string"
        },
        {
         "name": "nights",
         "rawType": "int64",
         "type": "integer"
        },
        {
         "name": "hotel_per_room_usd",
         "rawType": "int64",
         "type": "integer"
        }
       ],
       "conversionMethod": "pd.DataFrame",
       "ref": "84c4ff4a-3457-45a0-a953-9db58a6a26bd",
       "rows": [
        [
         "0",
         "234666-99574aa53f30402ba04bfe2f3337c566",
         "2",
         "226"
        ],
        [
         "1",
         "234707-4c0cfdb5ff4a4cd8bda5feed22f790d7",
         "1",
         "114"
        ],
        [
         "2",
         "234745-a8f944dc121c4003b16c108c9c590965",
         "3",
         "322"
        ],
        [
         "3",
         "234905-c1e14087ef1f4a7a8413a12ef4208135",
         "2",
         "228"
        ],
        [
         "4",
         "235101-cd0e752033db4f488fa75b5eb8feb2c8",
         "1",
         "163"
        ]
       ],
       "shape": {
        "columns": 3,
        "rows": 5
       }
      },
      "text/html": [
       "<div>\n",
       "<style scoped>\n",
       "    .dataframe tbody tr th:only-of-type {\n",
       "        vertical-align: middle;\n",
       "    }\n",
       "\n",
       "    .dataframe tbody tr th {\n",
       "        vertical-align: top;\n",
       "    }\n",
       "\n",
       "    .dataframe thead th {\n",
       "        text-align: right;\n",
       "    }\n",
       "</style>\n",
       "<table border=\"1\" class=\"dataframe\">\n",
       "  <thead>\n",
       "    <tr style=\"text-align: right;\">\n",
       "      <th></th>\n",
       "      <th>trip_id</th>\n",
       "      <th>nights</th>\n",
       "      <th>hotel_per_room_usd</th>\n",
       "    </tr>\n",
       "  </thead>\n",
       "  <tbody>\n",
       "    <tr>\n",
       "      <th>0</th>\n",
       "      <td>234666-99574aa53f30402ba04bfe2f3337c566</td>\n",
       "      <td>2</td>\n",
       "      <td>226</td>\n",
       "    </tr>\n",
       "    <tr>\n",
       "      <th>1</th>\n",
       "      <td>234707-4c0cfdb5ff4a4cd8bda5feed22f790d7</td>\n",
       "      <td>1</td>\n",
       "      <td>114</td>\n",
       "    </tr>\n",
       "    <tr>\n",
       "      <th>2</th>\n",
       "      <td>234745-a8f944dc121c4003b16c108c9c590965</td>\n",
       "      <td>3</td>\n",
       "      <td>322</td>\n",
       "    </tr>\n",
       "    <tr>\n",
       "      <th>3</th>\n",
       "      <td>234905-c1e14087ef1f4a7a8413a12ef4208135</td>\n",
       "      <td>2</td>\n",
       "      <td>228</td>\n",
       "    </tr>\n",
       "    <tr>\n",
       "      <th>4</th>\n",
       "      <td>235101-cd0e752033db4f488fa75b5eb8feb2c8</td>\n",
       "      <td>1</td>\n",
       "      <td>163</td>\n",
       "    </tr>\n",
       "  </tbody>\n",
       "</table>\n",
       "</div>"
      ],
      "text/plain": [
       "                                   trip_id  nights  hotel_per_room_usd\n",
       "0  234666-99574aa53f30402ba04bfe2f3337c566       2                 226\n",
       "1  234707-4c0cfdb5ff4a4cd8bda5feed22f790d7       1                 114\n",
       "2  234745-a8f944dc121c4003b16c108c9c590965       3                 322\n",
       "3  234905-c1e14087ef1f4a7a8413a12ef4208135       2                 228\n",
       "4  235101-cd0e752033db4f488fa75b5eb8feb2c8       1                 163"
      ]
     },
     "execution_count": 18,
     "metadata": {},
     "output_type": "execute_result"
    }
   ],
   "source": [
    "df_hotels_bronze = df_hotels_bronze[[\"trip_id\", \"nights\", \"hotel_per_room_usd\"]]\n",
    "\n",
    "df_hotels_bronze.head()"
   ]
  },
  {
   "cell_type": "markdown",
   "id": "878667e9",
   "metadata": {},
   "source": [
    "## 🔄 Parse and Standardize Data Types"
   ]
  },
  {
   "cell_type": "markdown",
   "id": "85160b71",
   "metadata": {},
   "source": [
    "Before we can assign perks or create user-level aggregations, we need to ensure that all four tables — `users`, `sessions`, `flights`, and `hotels` — are clean and consistent. This includes standardizing data types, handling missing values, and ensuring that binary and datetime fields are correctly formatted.\n",
    "\n",
    "Each table requires slightly different steps, depending on the structure of the data it contains."
   ]
  },
  {
   "cell_type": "markdown",
   "id": "715da046",
   "metadata": {},
   "source": [
    "### 👤 Data Preparation – `users` Table"
   ]
  },
  {
   "cell_type": "markdown",
   "id": "412d0e13",
   "metadata": {},
   "source": [
    "The `users` table contains only two columns needed for the defined perks: `user_id` and `birthdate`. Our main goal here is to ensure `birthdate` is in datetime format so we can calculate user age if needed.\n"
   ]
  },
  {
   "cell_type": "markdown",
   "id": "7402125a",
   "metadata": {},
   "source": [
    "Step 1 – Convert Columns to Correct Data Types\n"
   ]
  },
  {
   "cell_type": "code",
   "execution_count": 69,
   "id": "1a93711b",
   "metadata": {},
   "outputs": [],
   "source": [
    "df_users_bronze[\"birthdate\"] = pd.to_datetime(df_users_bronze[\"birthdate\"], errors=\"coerce\")"
   ]
  },
  {
   "cell_type": "markdown",
   "id": "6a3ec197",
   "metadata": {},
   "source": [
    "Step 2 – Handle Missing Values"
   ]
  },
  {
   "cell_type": "code",
   "execution_count": 71,
   "id": "d18e98cf",
   "metadata": {},
   "outputs": [],
   "source": [
    "# Check for nulls\n",
    "df_users_bronze.isna().sum()\n",
    "\n",
    "# Drop rows with missing user_id or birthdate\n",
    "df_users_bronze = df_users_bronze.dropna(subset=[\"user_id\", \"birthdate\"])\n"
   ]
  },
  {
   "cell_type": "code",
   "execution_count": 72,
   "id": "6109cc03",
   "metadata": {},
   "outputs": [
    {
     "data": {
      "application/vnd.microsoft.datawrangler.viewer.v0+json": {
       "columns": [
        {
         "name": "index",
         "rawType": "int64",
         "type": "integer"
        },
        {
         "name": "user_id",
         "rawType": "int64",
         "type": "integer"
        },
        {
         "name": "birthdate",
         "rawType": "datetime64[ns]",
         "type": "datetime"
        }
       ],
       "conversionMethod": "pd.DataFrame",
       "ref": "6c0cb793-6c10-474f-9d0e-9116ef9714b0",
       "rows": [
        [
         "0",
         "0",
         "1990-01-22 00:00:00"
        ],
        [
         "1",
         "1",
         "2000-11-08 00:00:00"
        ],
        [
         "2",
         "2",
         "1992-09-21 00:00:00"
        ],
        [
         "3",
         "3",
         "1996-11-27 00:00:00"
        ],
        [
         "4",
         "4",
         "1978-01-05 00:00:00"
        ]
       ],
       "shape": {
        "columns": 2,
        "rows": 5
       }
      },
      "text/html": [
       "<div>\n",
       "<style scoped>\n",
       "    .dataframe tbody tr th:only-of-type {\n",
       "        vertical-align: middle;\n",
       "    }\n",
       "\n",
       "    .dataframe tbody tr th {\n",
       "        vertical-align: top;\n",
       "    }\n",
       "\n",
       "    .dataframe thead th {\n",
       "        text-align: right;\n",
       "    }\n",
       "</style>\n",
       "<table border=\"1\" class=\"dataframe\">\n",
       "  <thead>\n",
       "    <tr style=\"text-align: right;\">\n",
       "      <th></th>\n",
       "      <th>user_id</th>\n",
       "      <th>birthdate</th>\n",
       "    </tr>\n",
       "  </thead>\n",
       "  <tbody>\n",
       "    <tr>\n",
       "      <th>0</th>\n",
       "      <td>0</td>\n",
       "      <td>1990-01-22</td>\n",
       "    </tr>\n",
       "    <tr>\n",
       "      <th>1</th>\n",
       "      <td>1</td>\n",
       "      <td>2000-11-08</td>\n",
       "    </tr>\n",
       "    <tr>\n",
       "      <th>2</th>\n",
       "      <td>2</td>\n",
       "      <td>1992-09-21</td>\n",
       "    </tr>\n",
       "    <tr>\n",
       "      <th>3</th>\n",
       "      <td>3</td>\n",
       "      <td>1996-11-27</td>\n",
       "    </tr>\n",
       "    <tr>\n",
       "      <th>4</th>\n",
       "      <td>4</td>\n",
       "      <td>1978-01-05</td>\n",
       "    </tr>\n",
       "  </tbody>\n",
       "</table>\n",
       "</div>"
      ],
      "text/plain": [
       "   user_id  birthdate\n",
       "0        0 1990-01-22\n",
       "1        1 2000-11-08\n",
       "2        2 1992-09-21\n",
       "3        3 1996-11-27\n",
       "4        4 1978-01-05"
      ]
     },
     "execution_count": 72,
     "metadata": {},
     "output_type": "execute_result"
    }
   ],
   "source": [
    "df_users_bronze.head()"
   ]
  },
  {
   "cell_type": "markdown",
   "id": "4679d506",
   "metadata": {},
   "source": [
    "### 🧾 Data Preparation – `sessions` Table"
   ]
  },
  {
   "cell_type": "markdown",
   "id": "64de2ae3",
   "metadata": {},
   "source": [
    "We start by preparing the `sessions` table. The main focus is on:\n",
    "\n",
    "- Ensuring correct data types (especially for datetime and boolean fields)\n",
    "- Handling missing values\n",
    "- Verifying binary logic for downstream scoring and aggregation"
   ]
  },
  {
   "cell_type": "markdown",
   "id": "3cc9834b",
   "metadata": {},
   "source": [
    "Step 1 – Convert Columns to Correct Data Types"
   ]
  },
  {
   "cell_type": "code",
   "execution_count": 21,
   "id": "50aeb18f",
   "metadata": {},
   "outputs": [],
   "source": [
    "df_sessions_bronze[\"session_start\"] = pd.to_datetime(df_sessions_bronze[\"session_start\"])\n",
    "df_sessions_bronze[\"flight_discount\"] = df_sessions_bronze[\"flight_discount\"].astype(bool)\n",
    "df_sessions_bronze[\"hotel_discount\"] = df_sessions_bronze[\"hotel_discount\"].astype(bool)\n",
    "df_sessions_bronze[\"flight_booked\"] = df_sessions_bronze[\"flight_booked\"].astype(bool)\n",
    "df_sessions_bronze[\"hotel_booked\"] = df_sessions_bronze[\"hotel_booked\"].astype(bool)\n",
    "df_sessions_bronze[\"cancellation\"] = df_sessions_bronze[\"cancellation\"].astype(bool)"
   ]
  },
  {
   "cell_type": "markdown",
   "id": "87e595a3",
   "metadata": {},
   "source": [
    "Step 2 – Handle Missing Values"
   ]
  },
  {
   "cell_type": "code",
   "execution_count": 22,
   "id": "267ba44a",
   "metadata": {},
   "outputs": [],
   "source": [
    "# Check for nulls\n",
    "df_sessions_bronze.isna().sum()\n",
    "\n",
    "# Drop sessions without user_id or trip_id, which are critical\n",
    "df_sessions_bronze = df_sessions_bronze.dropna(subset=[\"user_id\", \"trip_id\"])\n",
    "\n",
    "# Fill missing discount amounts with 0\n",
    "df_sessions_bronze[\"flight_discount_amount\"] = df_sessions_bronze[\"flight_discount_amount\"].fillna(0)\n",
    "df_sessions_bronze[\"hotel_discount_amount\"] = df_sessions_bronze[\"hotel_discount_amount\"].fillna(0)\n"
   ]
  },
  {
   "cell_type": "markdown",
   "id": "9d122c54",
   "metadata": {},
   "source": [
    "Step 3 – Validate Binary Columns"
   ]
  },
  {
   "cell_type": "code",
   "execution_count": 23,
   "id": "1591ec3e",
   "metadata": {},
   "outputs": [
    {
     "name": "stdout",
     "output_type": "stream",
     "text": [
      "flight_discount [False  True]\n",
      "hotel_discount [False  True]\n",
      "flight_booked [ True False]\n",
      "hotel_booked [ True False]\n",
      "cancellation [False  True]\n"
     ]
    }
   ],
   "source": [
    "# Confirm binary fields contain only True/False\n",
    "binary_fields = [\"flight_discount\", \"hotel_discount\", \"flight_booked\", \"hotel_booked\", \"cancellation\"]\n",
    "for col in binary_fields:\n",
    "    print(col, df_sessions_bronze[col].unique())\n"
   ]
  },
  {
   "cell_type": "markdown",
   "id": "24f4ad0e",
   "metadata": {},
   "source": [
    "### ✈️ Data Preparation – `flights` Table"
   ]
  },
  {
   "cell_type": "markdown",
   "id": "ff8c65ee",
   "metadata": {},
   "source": [
    "In the `flights` table, we prepare the data by ensuring correct data types and handling missing values in price and baggage-related columns. Since only three columns are needed to validate the defined perks, we focus cleanup on those specifically.\n"
   ]
  },
  {
   "cell_type": "markdown",
   "id": "dd23ab83",
   "metadata": {},
   "source": [
    "Step 1 – Convert Columns to Correct Data Types"
   ]
  },
  {
   "cell_type": "code",
   "execution_count": 27,
   "id": "90095382",
   "metadata": {},
   "outputs": [],
   "source": [
    "df_flights_bronze[\"checked_bags\"] = pd.to_numeric(df_flights_bronze[\"checked_bags\"], errors=\"coerce\")\n",
    "df_flights_bronze[\"base_fare_usd\"] = pd.to_numeric(df_flights_bronze[\"base_fare_usd\"], errors=\"coerce\")"
   ]
  },
  {
   "cell_type": "markdown",
   "id": "646d1bf6",
   "metadata": {},
   "source": [
    "Step 2 – Handle Missing Values"
   ]
  },
  {
   "cell_type": "code",
   "execution_count": 28,
   "id": "d1bea04d",
   "metadata": {},
   "outputs": [],
   "source": [
    "# Check for nulls\n",
    "df_flights_bronze.isna().sum()\n",
    "\n",
    "# Drop rows missing critical fields\n",
    "df_flights_bronze = df_flights_bronze.dropna(subset=[\"trip_id\", \"checked_bags\", \"base_fare_usd\"])"
   ]
  },
  {
   "cell_type": "markdown",
   "id": "7434119b",
   "metadata": {},
   "source": [
    "### 🏨 Data Preparation – `hotels` Table"
   ]
  },
  {
   "cell_type": "markdown",
   "id": "e25a3412",
   "metadata": {},
   "source": [
    "In the `hotels` table, we focus on ensuring that time and price fields are correctly formatted and that missing values are handled. This is especially important for calculating `nights` from `check_in_time` and `check_out_time`.\n"
   ]
  },
  {
   "cell_type": "markdown",
   "id": "7cf4e896",
   "metadata": {},
   "source": [
    "Step 1 – Convert Columns to Correct Data Types"
   ]
  },
  {
   "cell_type": "code",
   "execution_count": 32,
   "id": "fab575a2",
   "metadata": {},
   "outputs": [],
   "source": [
    "df_hotels_bronze[\"nights\"] = pd.to_numeric(df_hotels_bronze[\"nights\"], errors=\"coerce\")\n",
    "df_hotels_bronze[\"hotel_per_room_usd\"] = pd.to_numeric(df_hotels_bronze[\"hotel_per_room_usd\"], errors=\"coerce\")"
   ]
  },
  {
   "cell_type": "markdown",
   "id": "1887e554",
   "metadata": {},
   "source": [
    "Step 2 – Handle Missing Values"
   ]
  },
  {
   "cell_type": "code",
   "execution_count": 35,
   "id": "d78f78fb",
   "metadata": {},
   "outputs": [],
   "source": [
    "# Check for nulls\n",
    "df_hotels_bronze.isna().sum()\n",
    "\n",
    "# Drop rows with missing trip_id or calculated nights\n",
    "df_hotels_bronze = df_hotels_bronze.dropna(subset=[\"trip_id\", \"nights\"])\n"
   ]
  },
  {
   "cell_type": "markdown",
   "id": "7eed5986",
   "metadata": {},
   "source": [
    "## 💾 Save Silver Tables for Manual Upload to AWS S3 Bucket"
   ]
  },
  {
   "cell_type": "code",
   "execution_count": 75,
   "id": "94631ad0",
   "metadata": {},
   "outputs": [
    {
     "name": "stdout",
     "output_type": "stream",
     "text": [
      "✅ Exported: silver_exports/flights_silver.csv\n",
      "✅ Exported: silver_exports/users_silver.csv\n",
      "✅ Exported: silver_exports/hotels_silver.csv\n",
      "✅ Exported: silver_exports/sessions_silver.csv\n"
     ]
    }
   ],
   "source": [
    "import pandas as pd\n",
    "import os\n",
    "\n",
    "# Silver DataFrames (copies of bronze, after cleaning)\n",
    "df_flights_silver = df_flights_bronze\n",
    "df_hotels_silver = df_hotels_bronze\n",
    "df_sessions_silver = df_sessions_bronze\n",
    "df_users_silver = df_users_bronze\n",
    "\n",
    "# Folder to save locally before manual S3 upload\n",
    "silver_local_path = \"silver_exports/\"\n",
    "os.makedirs(silver_local_path, exist_ok=True)\n",
    "\n",
    "# Tables to save\n",
    "tables = {\n",
    "    \"flights_silver\": df_flights_silver,\n",
    "    \"users_silver\": df_users_silver,\n",
    "    \"hotels_silver\": df_hotels_silver,\n",
    "    \"sessions_silver\": df_sessions_silver\n",
    "}\n",
    "\n",
    "# Save each table as CSV locally\n",
    "for name, df in tables.items():\n",
    "    try:\n",
    "        path = os.path.join(silver_local_path, f\"{name}.csv\")\n",
    "        df.to_csv(path, index=False)\n",
    "        print(f\"✅ Exported: {path}\")\n",
    "    except Exception as e:\n",
    "        print(f\"❌ Error in {name}: {e}\")\n"
   ]
  },
  {
   "cell_type": "markdown",
   "id": "33d15ae4",
   "metadata": {},
   "source": [
    "## 💾 Gold Level Preparation & Save Gold Tables for Manual Upload to AWS S3 Bucket"
   ]
  },
  {
   "cell_type": "markdown",
   "id": "eda18629",
   "metadata": {},
   "source": [
    "Before aggregating features and clustering, we filter the silver data to include only users who meet the cohort condition defined during EDA."
   ]
  },
  {
   "cell_type": "markdown",
   "id": "15953aa9",
   "metadata": {},
   "source": [
    "### 📎 Filter Cohort – Users with ≥ 7 Sessions Since Jan 4, 2023"
   ]
  },
  {
   "cell_type": "code",
   "execution_count": 76,
   "id": "652abd4a",
   "metadata": {},
   "outputs": [
    {
     "name": "stdout",
     "output_type": "stream",
     "text": [
      "✅ Filtered to cohort: 79 users with ≥ 7 sessions since 2023-01-04.\n"
     ]
    }
   ],
   "source": [
    "import pandas as pd\n",
    "\n",
    "# 1. Filter sessions since January 4, 2023\n",
    "df_sessions_silver[\"session_start\"] = pd.to_datetime(df_sessions_silver[\"session_start\"])\n",
    "recent_sessions = df_sessions_silver[df_sessions_silver[\"session_start\"] >= \"2023-01-04\"]\n",
    "\n",
    "# 2. Count sessions per user and select those with ≥ 7\n",
    "session_counts = recent_sessions[\"user_id\"].value_counts()\n",
    "eligible_user_ids = session_counts[session_counts >= 7].index\n",
    "\n",
    "# 3. Filter all silver tables to include only eligible users\n",
    "df_sessions_silver = df_sessions_silver[df_sessions_silver[\"user_id\"].isin(eligible_user_ids)]\n",
    "df_users_silver = df_users_silver[df_users_silver[\"user_id\"].isin(eligible_user_ids)]\n",
    "\n",
    "# 4. Keep only trips linked to eligible users for hotel/flight data\n",
    "valid_trip_ids = df_sessions_silver[\"trip_id\"].dropna().unique()\n",
    "df_flights_silver = df_flights_silver[df_flights_silver[\"trip_id\"].isin(valid_trip_ids)]\n",
    "df_hotels_silver = df_hotels_silver[df_hotels_silver[\"trip_id\"].isin(valid_trip_ids)]\n",
    "\n",
    "print(f\"✅ Filtered to cohort: {len(eligible_user_ids)} users with ≥ 7 sessions since 2023-01-04.\")"
   ]
  },
  {
   "cell_type": "markdown",
   "id": "8f15cd80",
   "metadata": {},
   "source": [
    "🟡 Export Gold Layer – Final User-Cohort Data"
   ]
  },
  {
   "cell_type": "code",
   "execution_count": 77,
   "id": "13343b07",
   "metadata": {},
   "outputs": [
    {
     "name": "stdout",
     "output_type": "stream",
     "text": [
      "✅ Exported: gold_exports/flights_gold.csv\n",
      "✅ Exported: gold_exports/users_gold.csv\n",
      "✅ Exported: gold_exports/hotels_gold.csv\n",
      "✅ Exported: gold_exports/sessions_gold.csv\n"
     ]
    }
   ],
   "source": [
    "import pandas as pd\n",
    "import os\n",
    "\n",
    "# Gold DataFrames (filtered for cohort and ready for clustering)\n",
    "df_flights_gold = df_flights_silver\n",
    "df_hotels_gold = df_hotels_silver\n",
    "df_sessions_gold = df_sessions_silver\n",
    "df_users_gold = df_users_silver\n",
    "\n",
    "# Folder to save locally before manual S3 upload\n",
    "gold_local_path = \"gold_exports/\"\n",
    "os.makedirs(gold_local_path, exist_ok=True)\n",
    "\n",
    "# Tables to save\n",
    "tables = {\n",
    "    \"flights_gold\": df_flights_gold,\n",
    "    \"users_gold\": df_users_gold,\n",
    "    \"hotels_gold\": df_hotels_gold,\n",
    "    \"sessions_gold\": df_sessions_gold\n",
    "}\n",
    "\n",
    "# Save each table as CSV locally\n",
    "for name, df in tables.items():\n",
    "    try:\n",
    "        path = os.path.join(gold_local_path, f\"{name}.csv\")\n",
    "        df.to_csv(path, index=False)\n",
    "        print(f\"✅ Exported: {path}\")\n",
    "    except Exception as e:\n",
    "        print(f\"❌ Error in {name}: {e}\")\n"
   ]
  },
  {
   "cell_type": "markdown",
   "id": "791ea5c2",
   "metadata": {},
   "source": [
    "# **Customer Segmentation**"
   ]
  },
  {
   "cell_type": "markdown",
   "id": "e626c24c",
   "metadata": {},
   "source": [
    "Now that the data is cleaned and all perk-relevant features have been engineered, we begin the segmentation phase.\n",
    "\n",
    "The goal is to group customers based on their behavior and assign the most suitable perk to each group.\n"
   ]
  },
  {
   "cell_type": "markdown",
   "id": "cbb73b11",
   "metadata": {},
   "source": [
    "### ✅ Step Overview\n",
    "\n"
   ]
  },
  {
   "cell_type": "markdown",
   "id": "31d26e10",
   "metadata": {},
   "source": [
    "1. **Aggregate metrics at user level**  \n",
    "   - Calculate behavioral features (e.g., number of sessions, cancellation rate, discount usage)\n",
    "\n",
    "2. **Standardize features for clustering**  \n",
    "   - Normalize or scale numeric values (e.g., MinMaxScaler)\n",
    "\n",
    "3. **Apply clustering algorithm**  \n",
    "   - Use unsupervised learning (e.g., K-Means or DBSCAN) to form customer groups\n",
    "\n",
    "4. **Explore and interpret the clusters**  \n",
    "   - Analyze cluster composition to understand behavioral patterns\n",
    "\n",
    "5. **Assign best-fitting perk to each group**  \n",
    "   - Match perk logic to dominant behavior in each cluster\n",
    "\n",
    "---\n",
    "\n",
    "The outcome of this step will be:\n",
    "- A set of behaviorally meaningful user segments\n",
    "- Each segment matched to a perk based on its collective characteristics"
   ]
  },
  {
   "cell_type": "markdown",
   "id": "2ce12657",
   "metadata": {},
   "source": [
    "### 📊 Step 1 – User-Level Aggregation"
   ]
  },
  {
   "cell_type": "markdown",
   "id": "f6ee8395",
   "metadata": {},
   "source": [
    "To segment customers meaningfully, we first create a single user-level DataFrame that aggregates all relevant behavioral metrics from the cleaned `silver` tables.\n",
    "\n",
    "These features will serve as input for clustering."
   ]
  },
  {
   "cell_type": "markdown",
   "id": "862fe0ef",
   "metadata": {},
   "source": [
    "✅ Features to Aggregate Per User\n",
    "\n",
    "| Feature                     | Source Table        | Description                                                                 |\n",
    "|-----------------------------|---------------------|-----------------------------------------------------------------------------|\n",
    "| `total_sessions`           | sessions_silver     | Total number of sessions per user                                           |\n",
    "| `cancellation_rate`        | sessions_silver     | Share of sessions marked as cancellations                                   |\n",
    "| `discount_usage_rate`      | sessions_silver     | Share of sessions where any discount was applied                            |\n",
    "| `total_nights`             | hotels_silver       | Total number of nights across all hotel bookings                            |\n",
    "| `total_checked_bags`       | flights_silver      | Total number of checked bags across all flights                             |\n",
    "| `total_base_fare`          | flights_silver      | Sum of base flight fares — indicates price sensitivity or booking class     |\n"
   ]
  },
  {
   "cell_type": "code",
   "execution_count": null,
   "id": "50cb7255",
   "metadata": {},
   "outputs": [],
   "source": []
  }
 ],
 "metadata": {
  "kernelspec": {
   "display_name": "Python (mastery-project)",
   "language": "python",
   "name": "mastery-env"
  },
  "language_info": {
   "codemirror_mode": {
    "name": "ipython",
    "version": 3
   },
   "file_extension": ".py",
   "mimetype": "text/x-python",
   "name": "python",
   "nbconvert_exporter": "python",
   "pygments_lexer": "ipython3",
   "version": "3.13.2"
  }
 },
 "nbformat": 4,
 "nbformat_minor": 5
}
