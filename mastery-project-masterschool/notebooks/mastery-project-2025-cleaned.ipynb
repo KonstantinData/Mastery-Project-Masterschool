{
 "cells": [
  {
   "cell_type": "markdown",
   "id": "647d8ba1",
   "metadata": {},
   "source": [
    "# <span style=\"color:#e67e22;\">◼</span> **Project Overview**\n"
   ]
  },
  {
   "cell_type": "markdown",
   "id": "b24faf25",
   "metadata": {},
   "source": [
    "\n",
    "This notebook is part of *Master Project 2025*, which focuses on assigning personalized perks to users based on their behavior on the travel platform. The analysis is entirely behavior-driven and deliberately excludes demographic or personal information. The ultimate goal is to segment users into meaningful groups and link each group with the most relevant perk.\n",
    "\n",
    "Only perks that are supported by the available data are considered. These include:\n",
    "\n",
    "- ✅ **Free checked bag**  \n",
    "- ✅ **No cancellation fees**  \n",
    "- ✅ **Exclusive discounts**  \n",
    "- ✅ **One night free hotel with flight**  \n",
    "- ❌ *Free hotel meal* (excluded due to missing data support)\n",
    "\n",
    "This notebook covers the first steps of the analysis pipeline: loading and previewing raw data, selecting relevant variables, cleaning and transforming the datasets, and generating user-level features. These steps prepare the data for clustering, which will be used to assign the most suitable perk to each user segment."
   ]
  },
  {
   "cell_type": "markdown",
   "id": "ff2611cc",
   "metadata": {},
   "source": [
    "# <span style=\"color:#e67e22;\">◼</span> **EDA & Feature Engineering**"
   ]
  },
  {
   "cell_type": "markdown",
   "id": "45899623",
   "metadata": {},
   "source": [
    "## <span style=\"color:#1f4e79;\">◼</span> Load Data from AWS S3 Bucket"
   ]
  },
  {
   "cell_type": "markdown",
   "id": "f830df5c",
   "metadata": {},
   "source": [
    "No acces details needed for this Project"
   ]
  },
  {
   "cell_type": "code",
   "execution_count": 1,
   "id": "99c080d7",
   "metadata": {},
   "outputs": [],
   "source": [
    "import pandas as pd\n",
    "\n",
    "\n",
    "def load_flights_bronze():\n",
    "    url = \"https://lakehouse-masteryproject-2025.s3.eu-north-1.amazonaws.com/bronze/public_flights_export_2025-03-31_134734.csv\"\n",
    "    return pd.read_csv(url)\n",
    "\n",
    "def load_hotels_bronze():\n",
    "    url = \"https://lakehouse-masteryproject-2025.s3.eu-north-1.amazonaws.com/bronze/public_hotels_export_2025-03-31_171805.csv\"\n",
    "    return pd.read_csv(url)\n",
    "\n",
    "def load_sessions_bronze():\n",
    "    url = \"https://lakehouse-masteryproject-2025.s3.eu-north-1.amazonaws.com/bronze/public_sessions_export_2025-03-31_221253.csv\"\n",
    "    return pd.read_csv(url)\n",
    "\n",
    "def load_users_bronze():\n",
    "    url = \"https://lakehouse-masteryproject-2025.s3.eu-north-1.amazonaws.com/bronze/public_users_export_2025-04-01_101058.csv\"\n",
    "    return pd.read_csv(url)"
   ]
  },
  {
   "cell_type": "code",
   "execution_count": 2,
   "id": "9ab82064",
   "metadata": {},
   "outputs": [
    {
     "name": "stdout",
     "output_type": "stream",
     "text": [
      "✅ Flight, hotel, session and user data loaded successfully.\n"
     ]
    }
   ],
   "source": [
    "df_flights_raw = load_flights_bronze()\n",
    "df_hotels_raw = load_hotels_bronze()\n",
    "df_sessions_raw = load_sessions_bronze()\n",
    "df_users_raw = load_users_bronze()\n",
    "\n",
    "print(\"✅ Flight, hotel, session and user data loaded successfully.\")"
   ]
  },
  {
   "cell_type": "markdown",
   "id": "3084a73b",
   "metadata": {},
   "source": [
    "## <span style=\"color:#1f4e79;\">◼</span> Reducing Columns"
   ]
  },
  {
   "cell_type": "markdown",
   "id": "ad5abaf1",
   "metadata": {},
   "source": [
    "The next step is to reduce the columns to only those needed to validate the hypotheses behind the defined perks. All other columns are excluded unless they are required to calculate new features (e.g., `nights` for trip duration) or to support the interpretation of results.\n",
    "\n",
    "**Personalization Scope (Project Context)**\n",
    "\n",
    "- In this project, personalization is based exclusively on **individual user behavior** observed within the TravelTide platform. This includes patterns such as discount usage, booking behavior, and cancellation frequency.\n",
    "\n",
    "- Demographic or group-level attributes (e.g. family status, number of travelers, or room count) are not considered. The goal is to assign each user the perk most relevant to **how they interact** with the platform — not who they are or who they travel with.\n",
    "\n"
   ]
  },
  {
   "cell_type": "markdown",
   "id": "699efc82",
   "metadata": {},
   "source": [
    "### <span style=\"color:#4b5320;\">◼</span> Reducing Columns – `users` Table\n"
   ]
  },
  {
   "cell_type": "markdown",
   "id": "f304530a",
   "metadata": {},
   "source": [
    "\n",
    "For the `users` table, we keep only the columns required to support the behavioral logic behind the defined perks. Since personalization in this project is based purely on **individual interaction behavior**, we exclude all demographic and group-related attributes.\n"
   ]
  },
  {
   "cell_type": "markdown",
   "id": "b23bfb5e",
   "metadata": {},
   "source": [
    "| Column         | Description                                                           | Keep? |\n",
    "|----------------|------------------------------------------------------------------------|:-----:|\n",
    "| `user_id`      | Required to join with sessions and flights                            | ✅    |\n",
    "| `birthdate`    | Age not relevant to behavior-based logic                              | ❌    |\n",
    "| `has_children` | Not used for any defined perk — group/family-related                  | ❌    |\n",
    "| `gender`       | Not tied to any perk                                                  | ❌    |\n",
    "| `married`      | Not tied to any perk                                                  | ❌    |\n",
    "| `home_country` | Not required for perk logic                                           | ❌    |\n",
    "| `home_city`    | Too granular for this scope                                           | ❌    |\n",
    "| `home_airport` | Not relevant for current perks                                        | ❌    |\n",
    "| `sign_up_date` | Not used in perk logic                                                | ❌    |\n"
   ]
  },
  {
   "cell_type": "code",
   "execution_count": 3,
   "id": "766fcedc",
   "metadata": {},
   "outputs": [
    {
     "data": {
      "application/vnd.microsoft.datawrangler.viewer.v0+json": {
       "columns": [
        {
         "name": "index",
         "rawType": "int64",
         "type": "integer"
        },
        {
         "name": "user_id",
         "rawType": "int64",
         "type": "integer"
        }
       ],
       "conversionMethod": "pd.DataFrame",
       "ref": "2d633ff3-1164-44a1-91c5-076a1b1c41fc",
       "rows": [
        [
         "0",
         "841803"
        ],
        [
         "1",
         "841804"
        ],
        [
         "2",
         "841805"
        ],
        [
         "3",
         "841806"
        ],
        [
         "4",
         "841807"
        ]
       ],
       "shape": {
        "columns": 1,
        "rows": 5
       }
      },
      "text/html": [
       "<div>\n",
       "<style scoped>\n",
       "    .dataframe tbody tr th:only-of-type {\n",
       "        vertical-align: middle;\n",
       "    }\n",
       "\n",
       "    .dataframe tbody tr th {\n",
       "        vertical-align: top;\n",
       "    }\n",
       "\n",
       "    .dataframe thead th {\n",
       "        text-align: right;\n",
       "    }\n",
       "</style>\n",
       "<table border=\"1\" class=\"dataframe\">\n",
       "  <thead>\n",
       "    <tr style=\"text-align: right;\">\n",
       "      <th></th>\n",
       "      <th>user_id</th>\n",
       "    </tr>\n",
       "  </thead>\n",
       "  <tbody>\n",
       "    <tr>\n",
       "      <th>0</th>\n",
       "      <td>841803</td>\n",
       "    </tr>\n",
       "    <tr>\n",
       "      <th>1</th>\n",
       "      <td>841804</td>\n",
       "    </tr>\n",
       "    <tr>\n",
       "      <th>2</th>\n",
       "      <td>841805</td>\n",
       "    </tr>\n",
       "    <tr>\n",
       "      <th>3</th>\n",
       "      <td>841806</td>\n",
       "    </tr>\n",
       "    <tr>\n",
       "      <th>4</th>\n",
       "      <td>841807</td>\n",
       "    </tr>\n",
       "  </tbody>\n",
       "</table>\n",
       "</div>"
      ],
      "text/plain": [
       "   user_id\n",
       "0   841803\n",
       "1   841804\n",
       "2   841805\n",
       "3   841806\n",
       "4   841807"
      ]
     },
     "execution_count": 3,
     "metadata": {},
     "output_type": "execute_result"
    }
   ],
   "source": [
    "df_users_raw = df_sessions_raw[\n",
    "    ['user_id']\n",
    "]\n",
    "df_users_raw.head()"
   ]
  },
  {
   "cell_type": "markdown",
   "id": "c163e215",
   "metadata": {},
   "source": [
    "### <span style=\"color:#4b5320;\">◼</span> Reducing Columns – `sessions` Table"
   ]
  },
  {
   "cell_type": "markdown",
   "id": "040efc87",
   "metadata": {},
   "source": [
    "\n",
    "The `sessions` table is the most important source for behavioral signals in this project. We retain only the columns directly required to support the five defined perks or essential to filtering and joining."
   ]
  },
  {
   "cell_type": "markdown",
   "id": "196e8923",
   "metadata": {},
   "source": [
    "| Column                   | Description                                                                 | Keep? |\n",
    "|--------------------------|-----------------------------------------------------------------------------|:-----:|\n",
    "| `session_id`             | Needed to count sessions per user (7+ sessions filter)                      | ✅    |\n",
    "| `user_id`                | Required to join with users                                                 | ✅    |\n",
    "| `trip_id`                | Required to connect to flights and hotels                                   | ✅    |\n",
    "| `session_start`          | Used to filter sessions after Jan 4, 2023                                   | ✅    |\n",
    "| `flight_discount`        | Supports the \"exclusive discounts\" perk                                     | ✅    |\n",
    "| `hotel_discount`         | Supports the \"exclusive discounts\" perk                                     | ✅    |\n",
    "| `flight_discount_amount` | Captures price sensitivity for flight discounts                             | ✅    |\n",
    "| `hotel_discount_amount`  | Captures price sensitivity for hotel discounts                              | ✅    |\n",
    "| `flight_booked`          | Required to understand booking behavior                                     | ✅    |\n",
    "| `hotel_booked`           | Required to validate hotel+flight pairing                                   | ✅    |\n",
    "| `page_clicks`            | Indicates user engagement — helps understand interaction effort             | ✅    |\n",
    "| `cancellation`           | Directly supports the \"no cancellation fees\" perk                           | ✅    |\n",
    "| `session_end`            | Not required for any of the defined perks                                   | ❌    |\n"
   ]
  },
  {
   "cell_type": "code",
   "execution_count": 4,
   "id": "13f460d2",
   "metadata": {},
   "outputs": [
    {
     "data": {
      "application/vnd.microsoft.datawrangler.viewer.v0+json": {
       "columns": [
        {
         "name": "index",
         "rawType": "int64",
         "type": "integer"
        },
        {
         "name": "session_id",
         "rawType": "object",
         "type": "string"
        },
        {
         "name": "user_id",
         "rawType": "int64",
         "type": "integer"
        },
        {
         "name": "trip_id",
         "rawType": "object",
         "type": "unknown"
        },
        {
         "name": "session_start",
         "rawType": "object",
         "type": "string"
        },
        {
         "name": "flight_discount",
         "rawType": "bool",
         "type": "boolean"
        },
        {
         "name": "hotel_discount",
         "rawType": "bool",
         "type": "boolean"
        },
        {
         "name": "flight_discount_amount",
         "rawType": "float64",
         "type": "float"
        },
        {
         "name": "hotel_discount_amount",
         "rawType": "float64",
         "type": "float"
        },
        {
         "name": "flight_booked",
         "rawType": "bool",
         "type": "boolean"
        },
        {
         "name": "hotel_booked",
         "rawType": "bool",
         "type": "boolean"
        },
        {
         "name": "page_clicks",
         "rawType": "int64",
         "type": "integer"
        },
        {
         "name": "cancellation",
         "rawType": "bool",
         "type": "boolean"
        }
       ],
       "conversionMethod": "pd.DataFrame",
       "ref": "330c65b3-9250-4f01-96de-d836ba34e586",
       "rows": [
        [
         "0",
         "841803-95c93659053948049c73106ffdcf4df6",
         "841803",
         "841803-31d33d39b08f477bb8d9dd3b0dcbf1d3",
         "2023-05-17 19:40:00",
         "False",
         "False",
         null,
         null,
         "True",
         "True",
         "30",
         "False"
        ],
        [
         "1",
         "841804-bf1bfe452c4d4372b04d9612134006e7",
         "841804",
         null,
         "2023-05-17 22:40:00",
         "False",
         "False",
         null,
         null,
         "False",
         "False",
         "9",
         "False"
        ],
        [
         "2",
         "841805-70d695ee6540481bae7750e368c10443",
         "841805",
         "841805-506d17340ffa41659736fd258138a9b5",
         "2023-05-17 21:10:00",
         "False",
         "False",
         null,
         null,
         "True",
         "True",
         "24",
         "False"
        ],
        [
         "3",
         "841806-a03ac981d1c847979765669ca871a0cb",
         "841806",
         null,
         "2023-05-17 21:49:00",
         "True",
         "True",
         "0.2",
         "0.2",
         "False",
         "False",
         "42",
         "False"
        ],
        [
         "4",
         "841807-4febb023cd414a6196fc026af1928bfb",
         "841807",
         null,
         "2023-05-17 20:28:00",
         "False",
         "False",
         null,
         null,
         "False",
         "False",
         "4",
         "False"
        ]
       ],
       "shape": {
        "columns": 12,
        "rows": 5
       }
      },
      "text/html": [
       "<div>\n",
       "<style scoped>\n",
       "    .dataframe tbody tr th:only-of-type {\n",
       "        vertical-align: middle;\n",
       "    }\n",
       "\n",
       "    .dataframe tbody tr th {\n",
       "        vertical-align: top;\n",
       "    }\n",
       "\n",
       "    .dataframe thead th {\n",
       "        text-align: right;\n",
       "    }\n",
       "</style>\n",
       "<table border=\"1\" class=\"dataframe\">\n",
       "  <thead>\n",
       "    <tr style=\"text-align: right;\">\n",
       "      <th></th>\n",
       "      <th>session_id</th>\n",
       "      <th>user_id</th>\n",
       "      <th>trip_id</th>\n",
       "      <th>session_start</th>\n",
       "      <th>flight_discount</th>\n",
       "      <th>hotel_discount</th>\n",
       "      <th>flight_discount_amount</th>\n",
       "      <th>hotel_discount_amount</th>\n",
       "      <th>flight_booked</th>\n",
       "      <th>hotel_booked</th>\n",
       "      <th>page_clicks</th>\n",
       "      <th>cancellation</th>\n",
       "    </tr>\n",
       "  </thead>\n",
       "  <tbody>\n",
       "    <tr>\n",
       "      <th>0</th>\n",
       "      <td>841803-95c93659053948049c73106ffdcf4df6</td>\n",
       "      <td>841803</td>\n",
       "      <td>841803-31d33d39b08f477bb8d9dd3b0dcbf1d3</td>\n",
       "      <td>2023-05-17 19:40:00</td>\n",
       "      <td>False</td>\n",
       "      <td>False</td>\n",
       "      <td>NaN</td>\n",
       "      <td>NaN</td>\n",
       "      <td>True</td>\n",
       "      <td>True</td>\n",
       "      <td>30</td>\n",
       "      <td>False</td>\n",
       "    </tr>\n",
       "    <tr>\n",
       "      <th>1</th>\n",
       "      <td>841804-bf1bfe452c4d4372b04d9612134006e7</td>\n",
       "      <td>841804</td>\n",
       "      <td>NaN</td>\n",
       "      <td>2023-05-17 22:40:00</td>\n",
       "      <td>False</td>\n",
       "      <td>False</td>\n",
       "      <td>NaN</td>\n",
       "      <td>NaN</td>\n",
       "      <td>False</td>\n",
       "      <td>False</td>\n",
       "      <td>9</td>\n",
       "      <td>False</td>\n",
       "    </tr>\n",
       "    <tr>\n",
       "      <th>2</th>\n",
       "      <td>841805-70d695ee6540481bae7750e368c10443</td>\n",
       "      <td>841805</td>\n",
       "      <td>841805-506d17340ffa41659736fd258138a9b5</td>\n",
       "      <td>2023-05-17 21:10:00</td>\n",
       "      <td>False</td>\n",
       "      <td>False</td>\n",
       "      <td>NaN</td>\n",
       "      <td>NaN</td>\n",
       "      <td>True</td>\n",
       "      <td>True</td>\n",
       "      <td>24</td>\n",
       "      <td>False</td>\n",
       "    </tr>\n",
       "    <tr>\n",
       "      <th>3</th>\n",
       "      <td>841806-a03ac981d1c847979765669ca871a0cb</td>\n",
       "      <td>841806</td>\n",
       "      <td>NaN</td>\n",
       "      <td>2023-05-17 21:49:00</td>\n",
       "      <td>True</td>\n",
       "      <td>True</td>\n",
       "      <td>0.2</td>\n",
       "      <td>0.2</td>\n",
       "      <td>False</td>\n",
       "      <td>False</td>\n",
       "      <td>42</td>\n",
       "      <td>False</td>\n",
       "    </tr>\n",
       "    <tr>\n",
       "      <th>4</th>\n",
       "      <td>841807-4febb023cd414a6196fc026af1928bfb</td>\n",
       "      <td>841807</td>\n",
       "      <td>NaN</td>\n",
       "      <td>2023-05-17 20:28:00</td>\n",
       "      <td>False</td>\n",
       "      <td>False</td>\n",
       "      <td>NaN</td>\n",
       "      <td>NaN</td>\n",
       "      <td>False</td>\n",
       "      <td>False</td>\n",
       "      <td>4</td>\n",
       "      <td>False</td>\n",
       "    </tr>\n",
       "  </tbody>\n",
       "</table>\n",
       "</div>"
      ],
      "text/plain": [
       "                                session_id  user_id  \\\n",
       "0  841803-95c93659053948049c73106ffdcf4df6   841803   \n",
       "1  841804-bf1bfe452c4d4372b04d9612134006e7   841804   \n",
       "2  841805-70d695ee6540481bae7750e368c10443   841805   \n",
       "3  841806-a03ac981d1c847979765669ca871a0cb   841806   \n",
       "4  841807-4febb023cd414a6196fc026af1928bfb   841807   \n",
       "\n",
       "                                   trip_id        session_start  \\\n",
       "0  841803-31d33d39b08f477bb8d9dd3b0dcbf1d3  2023-05-17 19:40:00   \n",
       "1                                      NaN  2023-05-17 22:40:00   \n",
       "2  841805-506d17340ffa41659736fd258138a9b5  2023-05-17 21:10:00   \n",
       "3                                      NaN  2023-05-17 21:49:00   \n",
       "4                                      NaN  2023-05-17 20:28:00   \n",
       "\n",
       "   flight_discount  hotel_discount  flight_discount_amount  \\\n",
       "0            False           False                     NaN   \n",
       "1            False           False                     NaN   \n",
       "2            False           False                     NaN   \n",
       "3             True            True                     0.2   \n",
       "4            False           False                     NaN   \n",
       "\n",
       "   hotel_discount_amount  flight_booked  hotel_booked  page_clicks  \\\n",
       "0                    NaN           True          True           30   \n",
       "1                    NaN          False         False            9   \n",
       "2                    NaN           True          True           24   \n",
       "3                    0.2          False         False           42   \n",
       "4                    NaN          False         False            4   \n",
       "\n",
       "   cancellation  \n",
       "0         False  \n",
       "1         False  \n",
       "2         False  \n",
       "3         False  \n",
       "4         False  "
      ]
     },
     "execution_count": 4,
     "metadata": {},
     "output_type": "execute_result"
    }
   ],
   "source": [
    "df_sessions_raw = df_sessions_raw[\n",
    "    [\n",
    "        \"session_id\", \"user_id\", \"trip_id\", \"session_start\",\n",
    "        \"flight_discount\", \"hotel_discount\",\n",
    "        \"flight_discount_amount\", \"hotel_discount_amount\",\n",
    "        \"flight_booked\", \"hotel_booked\",\n",
    "        \"page_clicks\", \"cancellation\"\n",
    "    ]\n",
    "]\n",
    "df_sessions_raw.head()"
   ]
  },
  {
   "cell_type": "markdown",
   "id": "ad837ed0",
   "metadata": {},
   "source": [
    "### <span style=\"color:#4b5320;\">◼</span> Reducing Columns – `flights` Table\n"
   ]
  },
  {
   "cell_type": "markdown",
   "id": "f5f7a8e8",
   "metadata": {},
   "source": [
    "\n",
    "We retain only the columns that are directly required to support perk validation. Columns related to destinations, time, or route details are excluded, as none of the five defined perks depend on them."
   ]
  },
  {
   "cell_type": "markdown",
   "id": "4afc5d83",
   "metadata": {},
   "source": [
    "| Column                   | Description                                                                                  |\n",
    "|--------------------------|----------------------------------------------------------------------------------------------|\n",
    "| `trip_id`                | ✅ Required to join with sessions                                                             |\n",
    "| `checked_bags`           | ✅ Directly supports the \"free checked bag\" perk                                              |\n",
    "| `base_fare_usd`          | ✅ Supports the \"exclusive discounts\" perk by capturing price sensitivity                     |\n",
    "| `trip_airline`           | ❌ Not needed for current perks                                                               |\n",
    "| `origin_airport`         | ❌ Not required for any defined perk                                                          |\n",
    "| `destination`            | ❌ Not required for any defined perk                                                          |\n",
    "| `destination_airport`    | ❌ Redundant and not perk-related                                                             |\n",
    "| `seats`                  | ❌ Not needed for defined perks                                                               |\n",
    "| `return_flight_booked`   | ❌ Not used for any current perk                                                              |\n",
    "| `departure_time`         | ❌ Not used for any current perk                                                              |\n",
    "| `return_time`            | ❌ Not used for any current perk                                                              |\n",
    "| `destination_airport_lat`| ❌ Mapping only — not used in perks                                                           |\n",
    "| `destination_airport_lon`| ❌ Mapping only — not used in perks                                                           |\n"
   ]
  },
  {
   "cell_type": "code",
   "execution_count": 5,
   "id": "1128ebaf",
   "metadata": {},
   "outputs": [
    {
     "data": {
      "application/vnd.microsoft.datawrangler.viewer.v0+json": {
       "columns": [
        {
         "name": "index",
         "rawType": "int64",
         "type": "integer"
        },
        {
         "name": "trip_id",
         "rawType": "object",
         "type": "string"
        },
        {
         "name": "checked_bags",
         "rawType": "int64",
         "type": "integer"
        },
        {
         "name": "base_fare_usd",
         "rawType": "float64",
         "type": "float"
        }
       ],
       "conversionMethod": "pd.DataFrame",
       "ref": "5171c2eb-46eb-4ec2-954d-5753615fc364",
       "rows": [
        [
         "0",
         "693092-7b8767746abd45219ed468d58da9f702",
         "0",
         "479.31"
        ],
        [
         "1",
         "693124-1032149a9e01427da914b17ce6ef1926",
         "0",
         "575.78"
        ],
        [
         "2",
         "693149-0fdb31c7dc114a4d8a318f0feada365c",
         "0",
         "336.72"
        ],
        [
         "3",
         "693169-d120c3721d0b4bcca278639c981e4322",
         "0",
         "295.37"
        ],
        [
         "4",
         "693181-f4a2363db0ee452f8ac8c0fe3d4ef0ad",
         "1",
         "694.26"
        ]
       ],
       "shape": {
        "columns": 3,
        "rows": 5
       }
      },
      "text/html": [
       "<div>\n",
       "<style scoped>\n",
       "    .dataframe tbody tr th:only-of-type {\n",
       "        vertical-align: middle;\n",
       "    }\n",
       "\n",
       "    .dataframe tbody tr th {\n",
       "        vertical-align: top;\n",
       "    }\n",
       "\n",
       "    .dataframe thead th {\n",
       "        text-align: right;\n",
       "    }\n",
       "</style>\n",
       "<table border=\"1\" class=\"dataframe\">\n",
       "  <thead>\n",
       "    <tr style=\"text-align: right;\">\n",
       "      <th></th>\n",
       "      <th>trip_id</th>\n",
       "      <th>checked_bags</th>\n",
       "      <th>base_fare_usd</th>\n",
       "    </tr>\n",
       "  </thead>\n",
       "  <tbody>\n",
       "    <tr>\n",
       "      <th>0</th>\n",
       "      <td>693092-7b8767746abd45219ed468d58da9f702</td>\n",
       "      <td>0</td>\n",
       "      <td>479.31</td>\n",
       "    </tr>\n",
       "    <tr>\n",
       "      <th>1</th>\n",
       "      <td>693124-1032149a9e01427da914b17ce6ef1926</td>\n",
       "      <td>0</td>\n",
       "      <td>575.78</td>\n",
       "    </tr>\n",
       "    <tr>\n",
       "      <th>2</th>\n",
       "      <td>693149-0fdb31c7dc114a4d8a318f0feada365c</td>\n",
       "      <td>0</td>\n",
       "      <td>336.72</td>\n",
       "    </tr>\n",
       "    <tr>\n",
       "      <th>3</th>\n",
       "      <td>693169-d120c3721d0b4bcca278639c981e4322</td>\n",
       "      <td>0</td>\n",
       "      <td>295.37</td>\n",
       "    </tr>\n",
       "    <tr>\n",
       "      <th>4</th>\n",
       "      <td>693181-f4a2363db0ee452f8ac8c0fe3d4ef0ad</td>\n",
       "      <td>1</td>\n",
       "      <td>694.26</td>\n",
       "    </tr>\n",
       "  </tbody>\n",
       "</table>\n",
       "</div>"
      ],
      "text/plain": [
       "                                   trip_id  checked_bags  base_fare_usd\n",
       "0  693092-7b8767746abd45219ed468d58da9f702             0         479.31\n",
       "1  693124-1032149a9e01427da914b17ce6ef1926             0         575.78\n",
       "2  693149-0fdb31c7dc114a4d8a318f0feada365c             0         336.72\n",
       "3  693169-d120c3721d0b4bcca278639c981e4322             0         295.37\n",
       "4  693181-f4a2363db0ee452f8ac8c0fe3d4ef0ad             1         694.26"
      ]
     },
     "execution_count": 5,
     "metadata": {},
     "output_type": "execute_result"
    }
   ],
   "source": [
    "df_flights_raw = df_flights_raw[\n",
    "    [\"trip_id\", \"checked_bags\", \"base_fare_usd\"]\n",
    "]\n",
    "\n",
    "df_flights_raw.head()\n"
   ]
  },
  {
   "cell_type": "markdown",
   "id": "a288e412",
   "metadata": {},
   "source": [
    "### <span style=\"color:#4b5320;\">◼</span> Reducing Columns – `hotels` Table"
   ]
  },
  {
   "cell_type": "markdown",
   "id": "2b865abe",
   "metadata": {},
   "source": [
    "In the `hotels` table, we only keep columns that are directly needed to validate the defined perks. All other fields, such as room count, hotel brand, or check-in/out times, are excluded since they are not required for any of the five perks.\n"
   ]
  },
  {
   "cell_type": "markdown",
   "id": "0add020e",
   "metadata": {},
   "source": [
    "| Column               | Description                                                                                   |\n",
    "|----------------------|-----------------------------------------------------------------------------------------------|\n",
    "| `trip_id`            | ✅ Required to join hotels with sessions and flights                                          |\n",
    "| `nights`             | ✅ Required to validate the \"1 night free hotel with flight\" perk                             |\n",
    "| `hotel_per_room_usd` | ✅ Supports the \"exclusive discounts\" perk by capturing price sensitivity                      |\n",
    "| `hotel_name`         | ❌ Not needed for any defined perk                                                             |\n",
    "| `rooms`              | ❌ Not used for any current perk                                                               |\n",
    "| `check_in_time`      | ❌ Not required for any of the defined perks                                                   |\n",
    "| `check_out_time`     | ❌ Not required — duration is already captured by `nights`                                     |\n"
   ]
  },
  {
   "cell_type": "markdown",
   "id": "e1a595d7",
   "metadata": {},
   "source": [
    "Instead of relying on the nights column from the dataset, we calculate it ourselves based on actual hote logic: check-in time, check-out time, and a grace period. A late checkout may result in an additional night being counted. This behavior is more realistic."
   ]
  },
  {
   "cell_type": "code",
   "execution_count": 6,
   "id": "7dba010d",
   "metadata": {},
   "outputs": [],
   "source": [
    "df_hotels_raw = df_hotels_raw.drop(columns=[\"nights\"])"
   ]
  },
  {
   "cell_type": "code",
   "execution_count": 7,
   "id": "7b0dd999",
   "metadata": {},
   "outputs": [],
   "source": [
    "from datetime import datetime, timedelta\n",
    "import pandas as pd\n",
    "\n",
    "# Hotel rules\n",
    "CHECKIN_TIME = datetime.strptime(\"15:00\", \"%H:%M\").time()\n",
    "CHECKOUT_TIME = datetime.strptime(\"11:00\", \"%H:%M\").time()\n",
    "GRACE_PERIOD = timedelta(hours=1)  # 1-hour grace period\n",
    "\n",
    "# Convert check-in/out columns to datetime first\n",
    "df_hotels_raw[\"check_in_time\"] = pd.to_datetime(df_hotels_raw[\"check_in_time\"], errors=\"coerce\")\n",
    "df_hotels_raw[\"check_out_time\"] = pd.to_datetime(df_hotels_raw[\"check_out_time\"], errors=\"coerce\")\n",
    "\n",
    "# Function to calculate realistic nights\n",
    "def calculate_nights_realistic(row):\n",
    "    check_in = row[\"check_in_time\"]\n",
    "    check_out = row[\"check_out_time\"]\n",
    "\n",
    "    if pd.isna(check_in) or pd.isna(check_out):\n",
    "        return None\n",
    "\n",
    "    check_in_date = check_in.date()\n",
    "    check_out_date = check_out.date()\n",
    "    nights = (check_out_date - check_in_date).days\n",
    "\n",
    "    # Add 1 night if checkout was late (after grace period)\n",
    "    checkout_deadline = datetime.combine(check_out_date, CHECKOUT_TIME) + GRACE_PERIOD\n",
    "    if check_out > checkout_deadline:\n",
    "        nights += 1\n",
    "\n",
    "    return max(nights, 0)  # Ensure non-negative result\n",
    "\n",
    "# Recalculate nights column\n",
    "df_hotels_raw[\"nights\"] = df_hotels_raw.apply(calculate_nights_realistic, axis=1)\n"
   ]
  },
  {
   "cell_type": "code",
   "execution_count": 8,
   "id": "ac3c269d",
   "metadata": {},
   "outputs": [
    {
     "data": {
      "application/vnd.microsoft.datawrangler.viewer.v0+json": {
       "columns": [
        {
         "name": "index",
         "rawType": "int64",
         "type": "integer"
        },
        {
         "name": "trip_id",
         "rawType": "object",
         "type": "string"
        },
        {
         "name": "nights",
         "rawType": "float64",
         "type": "float"
        },
        {
         "name": "hotel_per_room_usd",
         "rawType": "int64",
         "type": "integer"
        }
       ],
       "conversionMethod": "pd.DataFrame",
       "ref": "84f447b6-3847-4706-afbd-99f6652d8815",
       "rows": [
        [
         "0",
         "234666-99574aa53f30402ba04bfe2f3337c566",
         "2.0",
         "226"
        ],
        [
         "1",
         "234707-4c0cfdb5ff4a4cd8bda5feed22f790d7",
         "2.0",
         "114"
        ],
        [
         "2",
         "234745-a8f944dc121c4003b16c108c9c590965",
         "4.0",
         "322"
        ],
        [
         "3",
         "234905-c1e14087ef1f4a7a8413a12ef4208135",
         "2.0",
         "228"
        ],
        [
         "4",
         "235101-cd0e752033db4f488fa75b5eb8feb2c8",
         "2.0",
         "163"
        ]
       ],
       "shape": {
        "columns": 3,
        "rows": 5
       }
      },
      "text/html": [
       "<div>\n",
       "<style scoped>\n",
       "    .dataframe tbody tr th:only-of-type {\n",
       "        vertical-align: middle;\n",
       "    }\n",
       "\n",
       "    .dataframe tbody tr th {\n",
       "        vertical-align: top;\n",
       "    }\n",
       "\n",
       "    .dataframe thead th {\n",
       "        text-align: right;\n",
       "    }\n",
       "</style>\n",
       "<table border=\"1\" class=\"dataframe\">\n",
       "  <thead>\n",
       "    <tr style=\"text-align: right;\">\n",
       "      <th></th>\n",
       "      <th>trip_id</th>\n",
       "      <th>nights</th>\n",
       "      <th>hotel_per_room_usd</th>\n",
       "    </tr>\n",
       "  </thead>\n",
       "  <tbody>\n",
       "    <tr>\n",
       "      <th>0</th>\n",
       "      <td>234666-99574aa53f30402ba04bfe2f3337c566</td>\n",
       "      <td>2.0</td>\n",
       "      <td>226</td>\n",
       "    </tr>\n",
       "    <tr>\n",
       "      <th>1</th>\n",
       "      <td>234707-4c0cfdb5ff4a4cd8bda5feed22f790d7</td>\n",
       "      <td>2.0</td>\n",
       "      <td>114</td>\n",
       "    </tr>\n",
       "    <tr>\n",
       "      <th>2</th>\n",
       "      <td>234745-a8f944dc121c4003b16c108c9c590965</td>\n",
       "      <td>4.0</td>\n",
       "      <td>322</td>\n",
       "    </tr>\n",
       "    <tr>\n",
       "      <th>3</th>\n",
       "      <td>234905-c1e14087ef1f4a7a8413a12ef4208135</td>\n",
       "      <td>2.0</td>\n",
       "      <td>228</td>\n",
       "    </tr>\n",
       "    <tr>\n",
       "      <th>4</th>\n",
       "      <td>235101-cd0e752033db4f488fa75b5eb8feb2c8</td>\n",
       "      <td>2.0</td>\n",
       "      <td>163</td>\n",
       "    </tr>\n",
       "  </tbody>\n",
       "</table>\n",
       "</div>"
      ],
      "text/plain": [
       "                                   trip_id  nights  hotel_per_room_usd\n",
       "0  234666-99574aa53f30402ba04bfe2f3337c566     2.0                 226\n",
       "1  234707-4c0cfdb5ff4a4cd8bda5feed22f790d7     2.0                 114\n",
       "2  234745-a8f944dc121c4003b16c108c9c590965     4.0                 322\n",
       "3  234905-c1e14087ef1f4a7a8413a12ef4208135     2.0                 228\n",
       "4  235101-cd0e752033db4f488fa75b5eb8feb2c8     2.0                 163"
      ]
     },
     "execution_count": 8,
     "metadata": {},
     "output_type": "execute_result"
    }
   ],
   "source": [
    "df_hotels_raw = df_hotels_raw[[\"trip_id\", \"nights\", \"hotel_per_room_usd\"]]\n",
    "\n",
    "df_hotels_raw.head()"
   ]
  },
  {
   "cell_type": "markdown",
   "id": "878667e9",
   "metadata": {},
   "source": [
    "## <span style=\"color:#1f4e79;\">◼</span> Parse and Standardize Data Types"
   ]
  },
  {
   "cell_type": "markdown",
   "id": "85160b71",
   "metadata": {},
   "source": [
    "Before we can assign perks or create user-level aggregations, we need to ensure that all four tables — `users`, `sessions`, `flights`, and `hotels` — are clean and consistent. This includes standardizing data types, handling missing values, and ensuring that binary and datetime fields are correctly formatted.\n",
    "\n",
    "Each table requires slightly different steps, depending on the structure of the data it contains."
   ]
  },
  {
   "cell_type": "markdown",
   "id": "715da046",
   "metadata": {},
   "source": [
    "### <span style=\"color:#4b5320;\">◼</span> Data Preparation – `users` Table"
   ]
  },
  {
   "cell_type": "markdown",
   "id": "412d0e13",
   "metadata": {},
   "source": [
    "The `users` table contains only two columns needed for the defined perks: `user_id` and `birthdate`. Our main goal here is to ensure `birthdate` is in datetime format so we can calculate user age if needed.\n"
   ]
  },
  {
   "cell_type": "markdown",
   "id": "6a3ec197",
   "metadata": {},
   "source": [
    "#### <span style=\"color:#800020;\">◼</span> Handle Missing Values"
   ]
  },
  {
   "cell_type": "code",
   "execution_count": 9,
   "id": "d18e98cf",
   "metadata": {},
   "outputs": [],
   "source": [
    "# Check for nulls\n",
    "# df_users_raw.isna().sum()\n",
    "\n",
    "# Drop rows with missing user_id or birthdate\n",
    "df_users_raw = df_users_raw.dropna(subset=[\"user_id\"])\n"
   ]
  },
  {
   "cell_type": "code",
   "execution_count": 10,
   "id": "6109cc03",
   "metadata": {},
   "outputs": [
    {
     "data": {
      "application/vnd.microsoft.datawrangler.viewer.v0+json": {
       "columns": [
        {
         "name": "index",
         "rawType": "int64",
         "type": "integer"
        },
        {
         "name": "user_id",
         "rawType": "int64",
         "type": "integer"
        }
       ],
       "conversionMethod": "pd.DataFrame",
       "ref": "6edcfcdb-0746-4aad-bb69-ebfc39d50f93",
       "rows": [
        [
         "0",
         "841803"
        ],
        [
         "1",
         "841804"
        ],
        [
         "2",
         "841805"
        ],
        [
         "3",
         "841806"
        ],
        [
         "4",
         "841807"
        ]
       ],
       "shape": {
        "columns": 1,
        "rows": 5
       }
      },
      "text/html": [
       "<div>\n",
       "<style scoped>\n",
       "    .dataframe tbody tr th:only-of-type {\n",
       "        vertical-align: middle;\n",
       "    }\n",
       "\n",
       "    .dataframe tbody tr th {\n",
       "        vertical-align: top;\n",
       "    }\n",
       "\n",
       "    .dataframe thead th {\n",
       "        text-align: right;\n",
       "    }\n",
       "</style>\n",
       "<table border=\"1\" class=\"dataframe\">\n",
       "  <thead>\n",
       "    <tr style=\"text-align: right;\">\n",
       "      <th></th>\n",
       "      <th>user_id</th>\n",
       "    </tr>\n",
       "  </thead>\n",
       "  <tbody>\n",
       "    <tr>\n",
       "      <th>0</th>\n",
       "      <td>841803</td>\n",
       "    </tr>\n",
       "    <tr>\n",
       "      <th>1</th>\n",
       "      <td>841804</td>\n",
       "    </tr>\n",
       "    <tr>\n",
       "      <th>2</th>\n",
       "      <td>841805</td>\n",
       "    </tr>\n",
       "    <tr>\n",
       "      <th>3</th>\n",
       "      <td>841806</td>\n",
       "    </tr>\n",
       "    <tr>\n",
       "      <th>4</th>\n",
       "      <td>841807</td>\n",
       "    </tr>\n",
       "  </tbody>\n",
       "</table>\n",
       "</div>"
      ],
      "text/plain": [
       "   user_id\n",
       "0   841803\n",
       "1   841804\n",
       "2   841805\n",
       "3   841806\n",
       "4   841807"
      ]
     },
     "execution_count": 10,
     "metadata": {},
     "output_type": "execute_result"
    }
   ],
   "source": [
    "df_users_raw.head()"
   ]
  },
  {
   "cell_type": "markdown",
   "id": "4679d506",
   "metadata": {},
   "source": [
    "### <span style=\"color:#4b5320;\">◼</span> Data Preparation – `sessions` Table"
   ]
  },
  {
   "cell_type": "markdown",
   "id": "64de2ae3",
   "metadata": {},
   "source": [
    "We start by preparing the `sessions` table. The main focus is on:\n",
    "\n",
    "- Ensuring correct data types (especially for datetime and boolean fields)\n",
    "- Handling missing values\n",
    "- Verifying binary logic for downstream scoring and aggregation"
   ]
  },
  {
   "cell_type": "markdown",
   "id": "3cc9834b",
   "metadata": {},
   "source": [
    "#### <span style=\"color:#800020;\">◼</span> Convert Columns to Correct Data Types"
   ]
  },
  {
   "cell_type": "code",
   "execution_count": 11,
   "id": "50aeb18f",
   "metadata": {},
   "outputs": [],
   "source": [
    "df_sessions_raw[\"session_start\"] = pd.to_datetime(df_sessions_raw[\"session_start\"])\n",
    "df_sessions_raw[\"flight_discount\"] = df_sessions_raw[\"flight_discount\"].astype(bool)\n",
    "df_sessions_raw[\"hotel_discount\"] = df_sessions_raw[\"hotel_discount\"].astype(bool)\n",
    "df_sessions_raw[\"flight_booked\"] = df_sessions_raw[\"flight_booked\"].astype(bool)\n",
    "df_sessions_raw[\"hotel_booked\"] = df_sessions_raw[\"hotel_booked\"].astype(bool)\n",
    "df_sessions_raw[\"cancellation\"] = df_sessions_raw[\"cancellation\"].astype(bool)"
   ]
  },
  {
   "cell_type": "markdown",
   "id": "87e595a3",
   "metadata": {},
   "source": [
    "#### <span style=\"color:#800020;\">◼</span> Handle Missing Values"
   ]
  },
  {
   "cell_type": "code",
   "execution_count": 12,
   "id": "267ba44a",
   "metadata": {},
   "outputs": [],
   "source": [
    "# Keep only sessions that can be assigned to a user\n",
    "df_sessions_raw = df_sessions_raw[df_sessions_raw[\"user_id\"].notna()]\n",
    "\n",
    "# Fill discount amounts with 0 (no discount used)\n",
    "df_sessions_raw[\"flight_discount_amount\"] = df_sessions_raw[\"flight_discount_amount\"].fillna(0)\n",
    "df_sessions_raw[\"hotel_discount_amount\"] = df_sessions_raw[\"hotel_discount_amount\"].fillna(0)\n",
    "\n",
    "# Optional: fill cancellation with False if missing (assume no cancel if not logged)\n",
    "df_sessions_raw[\"cancellation\"] = df_sessions_raw[\"cancellation\"].fillna(False)\n",
    "\n",
    "# Drop rows with missing session_id (truly broken)\n",
    "df_sessions_raw = df_sessions_raw[df_sessions_raw[\"session_id\"].notna()]\n"
   ]
  },
  {
   "cell_type": "markdown",
   "id": "9d122c54",
   "metadata": {},
   "source": [
    "#### <span style=\"color:#800020;\">◼</span> Validate Binary Columns"
   ]
  },
  {
   "cell_type": "code",
   "execution_count": 13,
   "id": "1591ec3e",
   "metadata": {},
   "outputs": [
    {
     "name": "stdout",
     "output_type": "stream",
     "text": [
      "flight_discount [False  True]\n",
      "hotel_discount [False  True]\n",
      "flight_booked [ True False]\n",
      "hotel_booked [ True False]\n",
      "cancellation [False  True]\n"
     ]
    }
   ],
   "source": [
    "# Confirm binary fields contain only True/False\n",
    "binary_fields = [\"flight_discount\", \"hotel_discount\", \"flight_booked\", \"hotel_booked\", \"cancellation\"]\n",
    "for col in binary_fields:\n",
    "    print(col, df_sessions_raw[col].unique())\n"
   ]
  },
  {
   "cell_type": "code",
   "execution_count": 14,
   "id": "36b5f5af",
   "metadata": {},
   "outputs": [
    {
     "data": {
      "application/vnd.microsoft.datawrangler.viewer.v0+json": {
       "columns": [
        {
         "name": "index",
         "rawType": "int64",
         "type": "integer"
        },
        {
         "name": "session_id",
         "rawType": "object",
         "type": "string"
        },
        {
         "name": "user_id",
         "rawType": "int64",
         "type": "integer"
        },
        {
         "name": "trip_id",
         "rawType": "object",
         "type": "unknown"
        },
        {
         "name": "session_start",
         "rawType": "datetime64[ns]",
         "type": "datetime"
        },
        {
         "name": "flight_discount",
         "rawType": "bool",
         "type": "boolean"
        },
        {
         "name": "hotel_discount",
         "rawType": "bool",
         "type": "boolean"
        },
        {
         "name": "flight_discount_amount",
         "rawType": "float64",
         "type": "float"
        },
        {
         "name": "hotel_discount_amount",
         "rawType": "float64",
         "type": "float"
        },
        {
         "name": "flight_booked",
         "rawType": "bool",
         "type": "boolean"
        },
        {
         "name": "hotel_booked",
         "rawType": "bool",
         "type": "boolean"
        },
        {
         "name": "page_clicks",
         "rawType": "int64",
         "type": "integer"
        },
        {
         "name": "cancellation",
         "rawType": "bool",
         "type": "boolean"
        }
       ],
       "conversionMethod": "pd.DataFrame",
       "ref": "11637923-ec30-48d5-a32b-74a8e5ea44c2",
       "rows": [
        [
         "0",
         "841803-95c93659053948049c73106ffdcf4df6",
         "841803",
         "841803-31d33d39b08f477bb8d9dd3b0dcbf1d3",
         "2023-05-17 19:40:00",
         "False",
         "False",
         "0.0",
         "0.0",
         "True",
         "True",
         "30",
         "False"
        ],
        [
         "1",
         "841804-bf1bfe452c4d4372b04d9612134006e7",
         "841804",
         null,
         "2023-05-17 22:40:00",
         "False",
         "False",
         "0.0",
         "0.0",
         "False",
         "False",
         "9",
         "False"
        ],
        [
         "2",
         "841805-70d695ee6540481bae7750e368c10443",
         "841805",
         "841805-506d17340ffa41659736fd258138a9b5",
         "2023-05-17 21:10:00",
         "False",
         "False",
         "0.0",
         "0.0",
         "True",
         "True",
         "24",
         "False"
        ],
        [
         "3",
         "841806-a03ac981d1c847979765669ca871a0cb",
         "841806",
         null,
         "2023-05-17 21:49:00",
         "True",
         "True",
         "0.2",
         "0.2",
         "False",
         "False",
         "42",
         "False"
        ],
        [
         "4",
         "841807-4febb023cd414a6196fc026af1928bfb",
         "841807",
         null,
         "2023-05-17 20:28:00",
         "False",
         "False",
         "0.0",
         "0.0",
         "False",
         "False",
         "4",
         "False"
        ]
       ],
       "shape": {
        "columns": 12,
        "rows": 5
       }
      },
      "text/html": [
       "<div>\n",
       "<style scoped>\n",
       "    .dataframe tbody tr th:only-of-type {\n",
       "        vertical-align: middle;\n",
       "    }\n",
       "\n",
       "    .dataframe tbody tr th {\n",
       "        vertical-align: top;\n",
       "    }\n",
       "\n",
       "    .dataframe thead th {\n",
       "        text-align: right;\n",
       "    }\n",
       "</style>\n",
       "<table border=\"1\" class=\"dataframe\">\n",
       "  <thead>\n",
       "    <tr style=\"text-align: right;\">\n",
       "      <th></th>\n",
       "      <th>session_id</th>\n",
       "      <th>user_id</th>\n",
       "      <th>trip_id</th>\n",
       "      <th>session_start</th>\n",
       "      <th>flight_discount</th>\n",
       "      <th>hotel_discount</th>\n",
       "      <th>flight_discount_amount</th>\n",
       "      <th>hotel_discount_amount</th>\n",
       "      <th>flight_booked</th>\n",
       "      <th>hotel_booked</th>\n",
       "      <th>page_clicks</th>\n",
       "      <th>cancellation</th>\n",
       "    </tr>\n",
       "  </thead>\n",
       "  <tbody>\n",
       "    <tr>\n",
       "      <th>0</th>\n",
       "      <td>841803-95c93659053948049c73106ffdcf4df6</td>\n",
       "      <td>841803</td>\n",
       "      <td>841803-31d33d39b08f477bb8d9dd3b0dcbf1d3</td>\n",
       "      <td>2023-05-17 19:40:00</td>\n",
       "      <td>False</td>\n",
       "      <td>False</td>\n",
       "      <td>0.0</td>\n",
       "      <td>0.0</td>\n",
       "      <td>True</td>\n",
       "      <td>True</td>\n",
       "      <td>30</td>\n",
       "      <td>False</td>\n",
       "    </tr>\n",
       "    <tr>\n",
       "      <th>1</th>\n",
       "      <td>841804-bf1bfe452c4d4372b04d9612134006e7</td>\n",
       "      <td>841804</td>\n",
       "      <td>NaN</td>\n",
       "      <td>2023-05-17 22:40:00</td>\n",
       "      <td>False</td>\n",
       "      <td>False</td>\n",
       "      <td>0.0</td>\n",
       "      <td>0.0</td>\n",
       "      <td>False</td>\n",
       "      <td>False</td>\n",
       "      <td>9</td>\n",
       "      <td>False</td>\n",
       "    </tr>\n",
       "    <tr>\n",
       "      <th>2</th>\n",
       "      <td>841805-70d695ee6540481bae7750e368c10443</td>\n",
       "      <td>841805</td>\n",
       "      <td>841805-506d17340ffa41659736fd258138a9b5</td>\n",
       "      <td>2023-05-17 21:10:00</td>\n",
       "      <td>False</td>\n",
       "      <td>False</td>\n",
       "      <td>0.0</td>\n",
       "      <td>0.0</td>\n",
       "      <td>True</td>\n",
       "      <td>True</td>\n",
       "      <td>24</td>\n",
       "      <td>False</td>\n",
       "    </tr>\n",
       "    <tr>\n",
       "      <th>3</th>\n",
       "      <td>841806-a03ac981d1c847979765669ca871a0cb</td>\n",
       "      <td>841806</td>\n",
       "      <td>NaN</td>\n",
       "      <td>2023-05-17 21:49:00</td>\n",
       "      <td>True</td>\n",
       "      <td>True</td>\n",
       "      <td>0.2</td>\n",
       "      <td>0.2</td>\n",
       "      <td>False</td>\n",
       "      <td>False</td>\n",
       "      <td>42</td>\n",
       "      <td>False</td>\n",
       "    </tr>\n",
       "    <tr>\n",
       "      <th>4</th>\n",
       "      <td>841807-4febb023cd414a6196fc026af1928bfb</td>\n",
       "      <td>841807</td>\n",
       "      <td>NaN</td>\n",
       "      <td>2023-05-17 20:28:00</td>\n",
       "      <td>False</td>\n",
       "      <td>False</td>\n",
       "      <td>0.0</td>\n",
       "      <td>0.0</td>\n",
       "      <td>False</td>\n",
       "      <td>False</td>\n",
       "      <td>4</td>\n",
       "      <td>False</td>\n",
       "    </tr>\n",
       "  </tbody>\n",
       "</table>\n",
       "</div>"
      ],
      "text/plain": [
       "                                session_id  user_id  \\\n",
       "0  841803-95c93659053948049c73106ffdcf4df6   841803   \n",
       "1  841804-bf1bfe452c4d4372b04d9612134006e7   841804   \n",
       "2  841805-70d695ee6540481bae7750e368c10443   841805   \n",
       "3  841806-a03ac981d1c847979765669ca871a0cb   841806   \n",
       "4  841807-4febb023cd414a6196fc026af1928bfb   841807   \n",
       "\n",
       "                                   trip_id       session_start  \\\n",
       "0  841803-31d33d39b08f477bb8d9dd3b0dcbf1d3 2023-05-17 19:40:00   \n",
       "1                                      NaN 2023-05-17 22:40:00   \n",
       "2  841805-506d17340ffa41659736fd258138a9b5 2023-05-17 21:10:00   \n",
       "3                                      NaN 2023-05-17 21:49:00   \n",
       "4                                      NaN 2023-05-17 20:28:00   \n",
       "\n",
       "   flight_discount  hotel_discount  flight_discount_amount  \\\n",
       "0            False           False                     0.0   \n",
       "1            False           False                     0.0   \n",
       "2            False           False                     0.0   \n",
       "3             True            True                     0.2   \n",
       "4            False           False                     0.0   \n",
       "\n",
       "   hotel_discount_amount  flight_booked  hotel_booked  page_clicks  \\\n",
       "0                    0.0           True          True           30   \n",
       "1                    0.0          False         False            9   \n",
       "2                    0.0           True          True           24   \n",
       "3                    0.2          False         False           42   \n",
       "4                    0.0          False         False            4   \n",
       "\n",
       "   cancellation  \n",
       "0         False  \n",
       "1         False  \n",
       "2         False  \n",
       "3         False  \n",
       "4         False  "
      ]
     },
     "execution_count": 14,
     "metadata": {},
     "output_type": "execute_result"
    }
   ],
   "source": [
    "df_sessions_raw.head()"
   ]
  },
  {
   "cell_type": "markdown",
   "id": "24f4ad0e",
   "metadata": {},
   "source": [
    "### <span style=\"color:#4b5320;\">◼</span> Data Preparation – `flights` Table"
   ]
  },
  {
   "cell_type": "markdown",
   "id": "ff8c65ee",
   "metadata": {},
   "source": [
    "In the `flights` table, we prepare the data by ensuring correct data types and handling missing values in price and baggage-related columns. Since only three columns are needed to validate the defined perks, we focus cleanup on those specifically.\n"
   ]
  },
  {
   "cell_type": "markdown",
   "id": "dd23ab83",
   "metadata": {},
   "source": [
    "#### <span style=\"color:#800020;\">◼</span> Convert Columns to Correct Data Types"
   ]
  },
  {
   "cell_type": "code",
   "execution_count": 15,
   "id": "90095382",
   "metadata": {},
   "outputs": [],
   "source": [
    "df_flights_raw[\"checked_bags\"] = pd.to_numeric(df_flights_raw[\"checked_bags\"], errors=\"coerce\")\n",
    "df_flights_raw[\"base_fare_usd\"] = pd.to_numeric(df_flights_raw[\"base_fare_usd\"], errors=\"coerce\")"
   ]
  },
  {
   "cell_type": "markdown",
   "id": "646d1bf6",
   "metadata": {},
   "source": [
    "#### <span style=\"color:#800020;\">◼</span> Handle Missing Values"
   ]
  },
  {
   "cell_type": "code",
   "execution_count": 16,
   "id": "d1bea04d",
   "metadata": {},
   "outputs": [],
   "source": [
    "# Check for nulls\n",
    "df_flights_raw.isna().sum()\n",
    "\n",
    "# Drop only rows without a trip_id – these cannot be matched to sessions and are considered unusable\n",
    "df_flights_raw = df_flights_raw[df_flights_raw[\"trip_id\"].notna()]\n",
    "\n",
    "# Fill missing checked bags with 0\n",
    "# Reason: If no value is present, we assume the user booked a flight without checked baggage\n",
    "df_flights_raw[\"checked_bags\"] = df_flights_raw[\"checked_bags\"].fillna(0)\n",
    "\n",
    "# Fill missing base fare with 0\n",
    "# Reason: If the base fare is missing, we assume no price was charged — likely no booking or data gap\n",
    "df_flights_raw[\"base_fare_usd\"] = df_flights_raw[\"base_fare_usd\"].fillna(0)\n"
   ]
  },
  {
   "cell_type": "code",
   "execution_count": 17,
   "id": "42fc154f",
   "metadata": {},
   "outputs": [
    {
     "data": {
      "application/vnd.microsoft.datawrangler.viewer.v0+json": {
       "columns": [
        {
         "name": "index",
         "rawType": "int64",
         "type": "integer"
        },
        {
         "name": "trip_id",
         "rawType": "object",
         "type": "string"
        },
        {
         "name": "checked_bags",
         "rawType": "int64",
         "type": "integer"
        },
        {
         "name": "base_fare_usd",
         "rawType": "float64",
         "type": "float"
        }
       ],
       "conversionMethod": "pd.DataFrame",
       "ref": "67fd480c-70ed-4ef7-978b-150e971ed734",
       "rows": [
        [
         "0",
         "693092-7b8767746abd45219ed468d58da9f702",
         "0",
         "479.31"
        ],
        [
         "1",
         "693124-1032149a9e01427da914b17ce6ef1926",
         "0",
         "575.78"
        ],
        [
         "2",
         "693149-0fdb31c7dc114a4d8a318f0feada365c",
         "0",
         "336.72"
        ],
        [
         "3",
         "693169-d120c3721d0b4bcca278639c981e4322",
         "0",
         "295.37"
        ],
        [
         "4",
         "693181-f4a2363db0ee452f8ac8c0fe3d4ef0ad",
         "1",
         "694.26"
        ]
       ],
       "shape": {
        "columns": 3,
        "rows": 5
       }
      },
      "text/html": [
       "<div>\n",
       "<style scoped>\n",
       "    .dataframe tbody tr th:only-of-type {\n",
       "        vertical-align: middle;\n",
       "    }\n",
       "\n",
       "    .dataframe tbody tr th {\n",
       "        vertical-align: top;\n",
       "    }\n",
       "\n",
       "    .dataframe thead th {\n",
       "        text-align: right;\n",
       "    }\n",
       "</style>\n",
       "<table border=\"1\" class=\"dataframe\">\n",
       "  <thead>\n",
       "    <tr style=\"text-align: right;\">\n",
       "      <th></th>\n",
       "      <th>trip_id</th>\n",
       "      <th>checked_bags</th>\n",
       "      <th>base_fare_usd</th>\n",
       "    </tr>\n",
       "  </thead>\n",
       "  <tbody>\n",
       "    <tr>\n",
       "      <th>0</th>\n",
       "      <td>693092-7b8767746abd45219ed468d58da9f702</td>\n",
       "      <td>0</td>\n",
       "      <td>479.31</td>\n",
       "    </tr>\n",
       "    <tr>\n",
       "      <th>1</th>\n",
       "      <td>693124-1032149a9e01427da914b17ce6ef1926</td>\n",
       "      <td>0</td>\n",
       "      <td>575.78</td>\n",
       "    </tr>\n",
       "    <tr>\n",
       "      <th>2</th>\n",
       "      <td>693149-0fdb31c7dc114a4d8a318f0feada365c</td>\n",
       "      <td>0</td>\n",
       "      <td>336.72</td>\n",
       "    </tr>\n",
       "    <tr>\n",
       "      <th>3</th>\n",
       "      <td>693169-d120c3721d0b4bcca278639c981e4322</td>\n",
       "      <td>0</td>\n",
       "      <td>295.37</td>\n",
       "    </tr>\n",
       "    <tr>\n",
       "      <th>4</th>\n",
       "      <td>693181-f4a2363db0ee452f8ac8c0fe3d4ef0ad</td>\n",
       "      <td>1</td>\n",
       "      <td>694.26</td>\n",
       "    </tr>\n",
       "  </tbody>\n",
       "</table>\n",
       "</div>"
      ],
      "text/plain": [
       "                                   trip_id  checked_bags  base_fare_usd\n",
       "0  693092-7b8767746abd45219ed468d58da9f702             0         479.31\n",
       "1  693124-1032149a9e01427da914b17ce6ef1926             0         575.78\n",
       "2  693149-0fdb31c7dc114a4d8a318f0feada365c             0         336.72\n",
       "3  693169-d120c3721d0b4bcca278639c981e4322             0         295.37\n",
       "4  693181-f4a2363db0ee452f8ac8c0fe3d4ef0ad             1         694.26"
      ]
     },
     "execution_count": 17,
     "metadata": {},
     "output_type": "execute_result"
    }
   ],
   "source": [
    "df_flights_raw.head()"
   ]
  },
  {
   "cell_type": "markdown",
   "id": "7434119b",
   "metadata": {},
   "source": [
    "### <span style=\"color:#4b5320;\">◼</span> Data Preparation – `hotels` Table"
   ]
  },
  {
   "cell_type": "markdown",
   "id": "e25a3412",
   "metadata": {},
   "source": [
    "In the `hotels` table, we focus on ensuring that time and price fields are correctly formatted and that missing values are handled. This is especially important for calculating `nights` from `check_in_time` and `check_out_time`.\n"
   ]
  },
  {
   "cell_type": "markdown",
   "id": "7cf4e896",
   "metadata": {},
   "source": [
    "#### <span style=\"color:#800020;\">◼</span> Convert Columns to Correct Data Types"
   ]
  },
  {
   "cell_type": "code",
   "execution_count": 18,
   "id": "fab575a2",
   "metadata": {},
   "outputs": [],
   "source": [
    "df_hotels_raw[\"nights\"] = pd.to_numeric(df_hotels_raw[\"nights\"], errors=\"coerce\")\n",
    "df_hotels_raw[\"hotel_per_room_usd\"] = pd.to_numeric(df_hotels_raw[\"hotel_per_room_usd\"], errors=\"coerce\")"
   ]
  },
  {
   "cell_type": "markdown",
   "id": "1887e554",
   "metadata": {},
   "source": [
    "#### <span style=\"color:#800020;\">◼</span> Handle Missing Values"
   ]
  },
  {
   "cell_type": "code",
   "execution_count": 19,
   "id": "d78f78fb",
   "metadata": {},
   "outputs": [],
   "source": [
    "# Check for nulls\n",
    "df_hotels_raw.isna().sum()\n",
    "\n",
    "# Drop only rows without a trip_id – these cannot be matched to sessions and are considered unusable\n",
    "df_hotels_raw = df_hotels_raw[df_hotels_raw[\"trip_id\"].notna()]\n",
    "\n",
    "# Fill missing nights with 0\n",
    "# Reason: A missing value likely means no stay was recorded or hotel was not booked\n",
    "df_hotels_raw[\"nights\"] = df_hotels_raw[\"nights\"].fillna(0)\n",
    "\n",
    "# Fill missing hotel price with 0\n",
    "# Reason: If the room price is missing, we assume the user didn’t book or the cost was 0 (e.g., reward night)\n",
    "df_hotels_raw[\"hotel_per_room_usd\"] = df_hotels_raw[\"hotel_per_room_usd\"].fillna(0)\n"
   ]
  },
  {
   "cell_type": "markdown",
   "id": "7eed5986",
   "metadata": {},
   "source": [
    "#### <span style=\"color:#800020;\">◼</span> Export Silver Tables for Manual AWS S3 Upload"
   ]
  },
  {
   "cell_type": "code",
   "execution_count": 20,
   "id": "94631ad0",
   "metadata": {},
   "outputs": [
    {
     "name": "stdout",
     "output_type": "stream",
     "text": [
      "✅ Exported: silver_exports/flights_silver.csv\n",
      "✅ Exported: silver_exports/users_silver.csv\n",
      "✅ Exported: silver_exports/hotels_silver.csv\n",
      "✅ Exported: silver_exports/sessions_silver.csv\n"
     ]
    }
   ],
   "source": [
    "import pandas as pd\n",
    "import os\n",
    "\n",
    "# Silver DataFrames (copies of bronze, after cleaning)\n",
    "df_flights_processed = df_flights_raw\n",
    "df_hotels_processed = df_hotels_raw\n",
    "df_sessions_processed = df_sessions_raw\n",
    "df_users_processed = df_users_raw\n",
    "\n",
    "# Folder to save locally before manual S3 upload\n",
    "silver_local_path = \"silver_exports/\"\n",
    "os.makedirs(silver_local_path, exist_ok=True)\n",
    "\n",
    "# Tables to save\n",
    "tables = {\n",
    "    \"flights_silver\": df_flights_processed,\n",
    "    \"users_silver\": df_users_processed,\n",
    "    \"hotels_silver\": df_hotels_processed,\n",
    "    \"sessions_silver\": df_sessions_processed\n",
    "}\n",
    "\n",
    "# Save each table as CSV locally\n",
    "for name, df in tables.items():\n",
    "    try:\n",
    "        path = os.path.join(silver_local_path, f\"{name}.csv\")\n",
    "        df.to_csv(path, index=False)\n",
    "        print(f\"✅ Exported: {path}\")\n",
    "    except Exception as e:\n",
    "        print(f\"❌ Error in {name}: {e}\")\n"
   ]
  },
  {
   "cell_type": "markdown",
   "id": "33d15ae4",
   "metadata": {},
   "source": [
    "## <span style=\"color:#1f4e79;\">◼</span> Users with ≥ 7 Sessions Since January 4, 2023"
   ]
  },
  {
   "cell_type": "markdown",
   "id": "eda18629",
   "metadata": {},
   "source": [
    "This threshold is defined in the official project guidelines. Users with fewer than 7 sessions since January 4, 2023 are excluded to ensure that only active users with sufficient interaction history are included in the analysis."
   ]
  },
  {
   "cell_type": "code",
   "execution_count": 21,
   "id": "652abd4a",
   "metadata": {},
   "outputs": [
    {
     "name": "stdout",
     "output_type": "stream",
     "text": [
      "✅ Filtered to cohort: 24724 users with ≥ 7 sessions since 2023-01-04.\n"
     ]
    }
   ],
   "source": [
    "import pandas as pd\n",
    "\n",
    "# 1. Filter sessions since January 4, 2023\n",
    "df_sessions_processed[\"session_start\"] = pd.to_datetime(df_sessions_processed[\"session_start\"])\n",
    "recent_sessions = df_sessions_processed[df_sessions_processed[\"session_start\"] >= \"2023-01-04\"]\n",
    "\n",
    "# 2. Count sessions per user and select those with ≥ 7\n",
    "session_counts = recent_sessions[\"user_id\"].value_counts()\n",
    "eligible_user_ids = session_counts[session_counts >= 7].index\n",
    "\n",
    "# 3. Filter all silver tables to include only eligible users\n",
    "df_sessions_processed = df_sessions_processed[df_sessions_processed[\"user_id\"].isin(eligible_user_ids)]\n",
    "df_users_processed = df_users_processed[df_users_processed[\"user_id\"].isin(eligible_user_ids)]\n",
    "\n",
    "# 4. Keep only trips linked to eligible users for hotel/flight data\n",
    "valid_trip_ids = df_sessions_processed[\"trip_id\"].dropna().unique()\n",
    "df_flights_processed = df_flights_processed[df_flights_processed[\"trip_id\"].isin(valid_trip_ids)]\n",
    "df_hotels_processed = df_hotels_processed[df_hotels_processed[\"trip_id\"].isin(valid_trip_ids)]\n",
    "\n",
    "print(f\"✅ Filtered to cohort: {len(eligible_user_ids)} users with ≥ 7 sessions since 2023-01-04.\")"
   ]
  },
  {
   "cell_type": "markdown",
   "id": "791ea5c2",
   "metadata": {},
   "source": [
    "# <span style=\"color:#e67e22;\">◼</span> **Customer Segmentation**"
   ]
  },
  {
   "cell_type": "markdown",
   "id": "e626c24c",
   "metadata": {},
   "source": [
    "Now that the data is cleaned and all perk-relevant features have been engineered, we begin the segmentation phase. The goal is to group customers based on their behavior and assign the most suitable perk to each group.\n"
   ]
  },
  {
   "cell_type": "markdown",
   "id": "cbb73b11",
   "metadata": {},
   "source": [
    "## <span style=\"color:#1f4e79;\">◼</span> Clustering Pipeline Overview\n",
    "\n",
    "To assign the most suitable perk to each user based on behavior, the following five-step clustering process is applied:\n",
    "\n",
    "\n"
   ]
  },
  {
   "cell_type": "markdown",
   "id": "31d26e10",
   "metadata": {},
   "source": [
    "1. Aggregate user-level metrics  \n",
    "   ○ Create behavioral features (e.g., sessions, cancellations, discounts)  \n",
    "\n",
    "2. Scale features for clustering  \n",
    "   ○ Normalize numeric values (e.g., MinMaxScaler)  \n",
    "\n",
    "3. Analyze clustering logic & choose method  \n",
    "   ○ Check feature correlation and determine optimal number of clusters  and use K-Means to segment users based on behavior  \n",
    "\n",
    "4. Interpret clusters & assign perks  \n",
    "   ○ Match perk logic to the dominant patterns in each group  \n"
   ]
  },
  {
   "cell_type": "markdown",
   "id": "2ce12657",
   "metadata": {},
   "source": [
    "### <span style=\"color:#4b5320;\">◼</span> Step 1 – User-Level Aggregation"
   ]
  },
  {
   "cell_type": "markdown",
   "id": "f6ee8395",
   "metadata": {},
   "source": [
    "To segment customers meaningfully, we first create a single user-level DataFrame that aggregates all relevant behavioral metrics from the cleaned `silver` tables.\n",
    "\n",
    "These features will serve as input for clustering."
   ]
  },
  {
   "cell_type": "markdown",
   "id": "862fe0ef",
   "metadata": {},
   "source": [
    "**<span style=\"color:#1f77b4\">Features to Aggregate Per User**\n",
    "| Feature                     | Source Table        | Description                                                                 |\n",
    "|-----------------------------|---------------------|-----------------------------------------------------------------------------|\n",
    "| `total_sessions`           | sessions_silver     | Total number of sessions per user                                           |\n",
    "| `cancellation_rate`        | sessions_silver     | Share of sessions marked as cancellations                                   |\n",
    "| `discount_usage_rate`      | sessions_silver     | Share of sessions where any discount was applied                            |\n",
    "| `total_nights`             | hotels_silver       | Total number of nights across all hotel bookings                            |\n",
    "| `total_checked_bags`       | flights_silver      | Total number of checked bags across all flights                             |\n",
    "| `total_base_fare`          | flights_silver      | Sum of base flight fares — indicates price sensitivity or booking class     |\n"
   ]
  },
  {
   "cell_type": "markdown",
   "id": "c6908cb6",
   "metadata": {},
   "source": [
    "#### <span style=\"color:#800020;\">◼</span> Aggregation Code – Create `df_user_features`"
   ]
  },
  {
   "cell_type": "code",
   "execution_count": 22,
   "id": "c4ec6db4",
   "metadata": {},
   "outputs": [],
   "source": [
    "# ✅ Create a copy to avoid SettingWithCopyWarning\n",
    "df_sessions_processed = df_sessions_processed.copy()\n",
    "\n",
    "# 🧩 Add helper column: True if any discount was used in a session\n",
    "df_sessions_processed[\"used_any_discount\"] = df_sessions_processed[\"flight_discount\"] | df_sessions_processed[\"hotel_discount\"]\n",
    "\n",
    "# 📊 Aggregate session-level features per user\n",
    "sessions_agg = df_sessions_processed.groupby(\"user_id\").agg(\n",
    "    total_sessions=(\"session_id\", \"count\"),\n",
    "    cancellation_rate=(\"cancellation\", \"mean\"),\n",
    "    discount_usage_rate=(\"used_any_discount\", \"mean\")\n",
    ").reset_index()\n"
   ]
  },
  {
   "cell_type": "code",
   "execution_count": 23,
   "id": "8b76a2d3",
   "metadata": {},
   "outputs": [
    {
     "name": "stdout",
     "output_type": "stream",
     "text": [
      "✅ User-level features aggregated.\n"
     ]
    },
    {
     "data": {
      "application/vnd.microsoft.datawrangler.viewer.v0+json": {
       "columns": [
        {
         "name": "index",
         "rawType": "int64",
         "type": "integer"
        },
        {
         "name": "user_id",
         "rawType": "int64",
         "type": "integer"
        },
        {
         "name": "total_sessions",
         "rawType": "int64",
         "type": "integer"
        },
        {
         "name": "cancellation_rate",
         "rawType": "float64",
         "type": "float"
        },
        {
         "name": "discount_usage_rate",
         "rawType": "float64",
         "type": "float"
        },
        {
         "name": "total_nights",
         "rawType": "float64",
         "type": "float"
        },
        {
         "name": "total_checked_bags",
         "rawType": "float64",
         "type": "float"
        },
        {
         "name": "total_base_fare",
         "rawType": "float64",
         "type": "float"
        }
       ],
       "conversionMethod": "pd.DataFrame",
       "ref": "9c32047d-0854-4bf7-91df-0906efaf696d",
       "rows": [
        [
         "0",
         "3468",
         "13",
         "0.07692307692307693",
         "0.3076923076923077",
         "19.0",
         "4.0",
         "6951.76"
        ],
        [
         "1",
         "4605",
         "14",
         "0.0",
         "0.14285714285714285",
         "0.0",
         "0.0",
         "0.0"
        ],
        [
         "2",
         "6402",
         "12",
         "0.08333333333333333",
         "0.25",
         "14.0",
         "1.0",
         "210.13"
        ],
        [
         "3",
         "23557",
         "12",
         "0.08333333333333333",
         "0.3333333333333333",
         "3.0",
         "2.0",
         "721.71"
        ],
        [
         "4",
         "26878",
         "13",
         "0.07692307692307693",
         "0.3076923076923077",
         "11.0",
         "0.0",
         "1988.3899999999999"
        ]
       ],
       "shape": {
        "columns": 7,
        "rows": 5
       }
      },
      "text/html": [
       "<div>\n",
       "<style scoped>\n",
       "    .dataframe tbody tr th:only-of-type {\n",
       "        vertical-align: middle;\n",
       "    }\n",
       "\n",
       "    .dataframe tbody tr th {\n",
       "        vertical-align: top;\n",
       "    }\n",
       "\n",
       "    .dataframe thead th {\n",
       "        text-align: right;\n",
       "    }\n",
       "</style>\n",
       "<table border=\"1\" class=\"dataframe\">\n",
       "  <thead>\n",
       "    <tr style=\"text-align: right;\">\n",
       "      <th></th>\n",
       "      <th>user_id</th>\n",
       "      <th>total_sessions</th>\n",
       "      <th>cancellation_rate</th>\n",
       "      <th>discount_usage_rate</th>\n",
       "      <th>total_nights</th>\n",
       "      <th>total_checked_bags</th>\n",
       "      <th>total_base_fare</th>\n",
       "    </tr>\n",
       "  </thead>\n",
       "  <tbody>\n",
       "    <tr>\n",
       "      <th>0</th>\n",
       "      <td>3468</td>\n",
       "      <td>13</td>\n",
       "      <td>0.076923</td>\n",
       "      <td>0.307692</td>\n",
       "      <td>19.0</td>\n",
       "      <td>4.0</td>\n",
       "      <td>6951.76</td>\n",
       "    </tr>\n",
       "    <tr>\n",
       "      <th>1</th>\n",
       "      <td>4605</td>\n",
       "      <td>14</td>\n",
       "      <td>0.000000</td>\n",
       "      <td>0.142857</td>\n",
       "      <td>0.0</td>\n",
       "      <td>0.0</td>\n",
       "      <td>0.00</td>\n",
       "    </tr>\n",
       "    <tr>\n",
       "      <th>2</th>\n",
       "      <td>6402</td>\n",
       "      <td>12</td>\n",
       "      <td>0.083333</td>\n",
       "      <td>0.250000</td>\n",
       "      <td>14.0</td>\n",
       "      <td>1.0</td>\n",
       "      <td>210.13</td>\n",
       "    </tr>\n",
       "    <tr>\n",
       "      <th>3</th>\n",
       "      <td>23557</td>\n",
       "      <td>12</td>\n",
       "      <td>0.083333</td>\n",
       "      <td>0.333333</td>\n",
       "      <td>3.0</td>\n",
       "      <td>2.0</td>\n",
       "      <td>721.71</td>\n",
       "    </tr>\n",
       "    <tr>\n",
       "      <th>4</th>\n",
       "      <td>26878</td>\n",
       "      <td>13</td>\n",
       "      <td>0.076923</td>\n",
       "      <td>0.307692</td>\n",
       "      <td>11.0</td>\n",
       "      <td>0.0</td>\n",
       "      <td>1988.39</td>\n",
       "    </tr>\n",
       "  </tbody>\n",
       "</table>\n",
       "</div>"
      ],
      "text/plain": [
       "   user_id  total_sessions  cancellation_rate  discount_usage_rate  \\\n",
       "0     3468              13           0.076923             0.307692   \n",
       "1     4605              14           0.000000             0.142857   \n",
       "2     6402              12           0.083333             0.250000   \n",
       "3    23557              12           0.083333             0.333333   \n",
       "4    26878              13           0.076923             0.307692   \n",
       "\n",
       "   total_nights  total_checked_bags  total_base_fare  \n",
       "0          19.0                 4.0          6951.76  \n",
       "1           0.0                 0.0             0.00  \n",
       "2          14.0                 1.0           210.13  \n",
       "3           3.0                 2.0           721.71  \n",
       "4          11.0                 0.0          1988.39  "
      ]
     },
     "execution_count": 23,
     "metadata": {},
     "output_type": "execute_result"
    }
   ],
   "source": [
    "# --- Prepare sessions ---\n",
    "# Add helper column: True if user used any discount (flight or hotel)\n",
    "df_sessions_processed.loc[:, \"used_any_discount\"] = (\n",
    "    df_sessions_processed[\"flight_discount\"] | df_sessions_processed[\"hotel_discount\"]\n",
    ")\n",
    "\n",
    "# Aggregate session-based metrics\n",
    "sessions_agg = df_sessions_processed.groupby(\"user_id\").agg(\n",
    "    total_sessions=(\"session_id\", \"count\"),\n",
    "    cancellation_rate=(\"cancellation\", \"mean\"),\n",
    "    discount_usage_rate=(\"used_any_discount\", \"mean\")\n",
    ")\n",
    "\n",
    "# --- Prepare hotels ---\n",
    "hotels_agg = df_hotels_processed.groupby(\"trip_id\")[\"nights\"].sum().reset_index()\n",
    "hotels_sessions = df_sessions_processed[[\"user_id\", \"trip_id\"]].drop_duplicates()\n",
    "hotels_joined = hotels_sessions.merge(hotels_agg, on=\"trip_id\", how=\"left\")\n",
    "hotel_user_agg = hotels_joined.groupby(\"user_id\")[\"nights\"].sum().rename(\"total_nights\")\n",
    "\n",
    "# --- Prepare flights ---\n",
    "flights_agg = df_flights_processed.groupby(\"trip_id\").agg(\n",
    "    total_checked_bags=(\"checked_bags\", \"sum\"),\n",
    "    total_base_fare=(\"base_fare_usd\", \"sum\")\n",
    ").reset_index()\n",
    "flights_sessions = df_sessions_processed[[\"user_id\", \"trip_id\"]].drop_duplicates()\n",
    "flights_joined = flights_sessions.merge(flights_agg, on=\"trip_id\", how=\"left\")\n",
    "flight_user_agg = flights_joined.groupby(\"user_id\").agg(\n",
    "    total_checked_bags=(\"total_checked_bags\", \"sum\"),\n",
    "    total_base_fare=(\"total_base_fare\", \"sum\")\n",
    ")\n",
    "\n",
    "# --- Merge all user-level features ---\n",
    "df_user_features = (\n",
    "    sessions_agg\n",
    "    .join(hotel_user_agg, how=\"left\")\n",
    "    .join(flight_user_agg, how=\"left\")\n",
    "    .fillna(0)\n",
    "    .reset_index()\n",
    ")\n",
    "\n",
    "print(\"✅ User-level features aggregated.\")\n",
    "df_user_features.head()"
   ]
  },
  {
   "cell_type": "markdown",
   "id": "ae401df0",
   "metadata": {},
   "source": [
    "### <span style=\"color:#4b5320;\">◼</span> Step 2 – Feature Scaling for Clustering"
   ]
  },
  {
   "cell_type": "markdown",
   "id": "dbedd9c5",
   "metadata": {},
   "source": [
    "To ensure all features contribute equally to the clustering process, we standardize selected user-level metrics using `MinMaxScaler`. This transforms all values into a uniform range between 0 and 1.\n",
    "\n",
    "**<span style=\"color:#1f77b4\">Features scaled:**\n",
    "- `total_sessions`\n",
    "- `cancellation_rate`\n",
    "- `discount_usage_rate`\n",
    "- `total_nights`\n",
    "- `total_checked_bags`\n",
    "- `total_base_fare`\n",
    "\n",
    "The scaled values are stored in a new DataFrame (`df_scaled`) and are now ready for use in the clustering algorithm.\n"
   ]
  },
  {
   "cell_type": "code",
   "execution_count": 24,
   "id": "da9a3abc",
   "metadata": {},
   "outputs": [
    {
     "name": "stdout",
     "output_type": "stream",
     "text": [
      "✅ Scaled features ready for clustering.\n"
     ]
    },
    {
     "data": {
      "application/vnd.microsoft.datawrangler.viewer.v0+json": {
       "columns": [
        {
         "name": "index",
         "rawType": "int64",
         "type": "integer"
        },
        {
         "name": "total_sessions",
         "rawType": "float64",
         "type": "float"
        },
        {
         "name": "cancellation_rate",
         "rawType": "float64",
         "type": "float"
        },
        {
         "name": "discount_usage_rate",
         "rawType": "float64",
         "type": "float"
        },
        {
         "name": "total_nights",
         "rawType": "float64",
         "type": "float"
        },
        {
         "name": "total_checked_bags",
         "rawType": "float64",
         "type": "float"
        },
        {
         "name": "total_base_fare",
         "rawType": "float64",
         "type": "float"
        },
        {
         "name": "user_id",
         "rawType": "int64",
         "type": "integer"
        }
       ],
       "conversionMethod": "pd.DataFrame",
       "ref": "fc19f3f9-0f76-49bb-9d9e-b9d80a87f54e",
       "rows": [
        [
         "0",
         "0.6666666666666667",
         "0.23076923076923078",
         "0.3076923076923077",
         "0.3064516129032258",
         "0.3333333333333333",
         "0.38782439294349463",
         "3468"
        ],
        [
         "1",
         "0.7777777777777777",
         "0.0",
         "0.14285714285714285",
         "0.0",
         "0.0",
         "0.0",
         "4605"
        ],
        [
         "2",
         "0.5555555555555556",
         "0.25",
         "0.25",
         "0.22580645161290322",
         "0.08333333333333333",
         "0.011722720532529393",
         "6402"
        ],
        [
         "3",
         "0.5555555555555556",
         "0.25",
         "0.3333333333333333",
         "0.04838709677419355",
         "0.16666666666666666",
         "0.04026271658274301",
         "23557"
        ],
        [
         "4",
         "0.6666666666666667",
         "0.23076923076923078",
         "0.3076923076923077",
         "0.1774193548387097",
         "0.0",
         "0.1109281886435831",
         "26878"
        ]
       ],
       "shape": {
        "columns": 7,
        "rows": 5
       }
      },
      "text/html": [
       "<div>\n",
       "<style scoped>\n",
       "    .dataframe tbody tr th:only-of-type {\n",
       "        vertical-align: middle;\n",
       "    }\n",
       "\n",
       "    .dataframe tbody tr th {\n",
       "        vertical-align: top;\n",
       "    }\n",
       "\n",
       "    .dataframe thead th {\n",
       "        text-align: right;\n",
       "    }\n",
       "</style>\n",
       "<table border=\"1\" class=\"dataframe\">\n",
       "  <thead>\n",
       "    <tr style=\"text-align: right;\">\n",
       "      <th></th>\n",
       "      <th>total_sessions</th>\n",
       "      <th>cancellation_rate</th>\n",
       "      <th>discount_usage_rate</th>\n",
       "      <th>total_nights</th>\n",
       "      <th>total_checked_bags</th>\n",
       "      <th>total_base_fare</th>\n",
       "      <th>user_id</th>\n",
       "    </tr>\n",
       "  </thead>\n",
       "  <tbody>\n",
       "    <tr>\n",
       "      <th>0</th>\n",
       "      <td>0.666667</td>\n",
       "      <td>0.230769</td>\n",
       "      <td>0.307692</td>\n",
       "      <td>0.306452</td>\n",
       "      <td>0.333333</td>\n",
       "      <td>0.387824</td>\n",
       "      <td>3468</td>\n",
       "    </tr>\n",
       "    <tr>\n",
       "      <th>1</th>\n",
       "      <td>0.777778</td>\n",
       "      <td>0.000000</td>\n",
       "      <td>0.142857</td>\n",
       "      <td>0.000000</td>\n",
       "      <td>0.000000</td>\n",
       "      <td>0.000000</td>\n",
       "      <td>4605</td>\n",
       "    </tr>\n",
       "    <tr>\n",
       "      <th>2</th>\n",
       "      <td>0.555556</td>\n",
       "      <td>0.250000</td>\n",
       "      <td>0.250000</td>\n",
       "      <td>0.225806</td>\n",
       "      <td>0.083333</td>\n",
       "      <td>0.011723</td>\n",
       "      <td>6402</td>\n",
       "    </tr>\n",
       "    <tr>\n",
       "      <th>3</th>\n",
       "      <td>0.555556</td>\n",
       "      <td>0.250000</td>\n",
       "      <td>0.333333</td>\n",
       "      <td>0.048387</td>\n",
       "      <td>0.166667</td>\n",
       "      <td>0.040263</td>\n",
       "      <td>23557</td>\n",
       "    </tr>\n",
       "    <tr>\n",
       "      <th>4</th>\n",
       "      <td>0.666667</td>\n",
       "      <td>0.230769</td>\n",
       "      <td>0.307692</td>\n",
       "      <td>0.177419</td>\n",
       "      <td>0.000000</td>\n",
       "      <td>0.110928</td>\n",
       "      <td>26878</td>\n",
       "    </tr>\n",
       "  </tbody>\n",
       "</table>\n",
       "</div>"
      ],
      "text/plain": [
       "   total_sessions  cancellation_rate  discount_usage_rate  total_nights  \\\n",
       "0        0.666667           0.230769             0.307692      0.306452   \n",
       "1        0.777778           0.000000             0.142857      0.000000   \n",
       "2        0.555556           0.250000             0.250000      0.225806   \n",
       "3        0.555556           0.250000             0.333333      0.048387   \n",
       "4        0.666667           0.230769             0.307692      0.177419   \n",
       "\n",
       "   total_checked_bags  total_base_fare  user_id  \n",
       "0            0.333333         0.387824     3468  \n",
       "1            0.000000         0.000000     4605  \n",
       "2            0.083333         0.011723     6402  \n",
       "3            0.166667         0.040263    23557  \n",
       "4            0.000000         0.110928    26878  "
      ]
     },
     "execution_count": 24,
     "metadata": {},
     "output_type": "execute_result"
    }
   ],
   "source": [
    "from sklearn.preprocessing import MinMaxScaler\n",
    "\n",
    "# 🧮 Features to scale\n",
    "features_to_scale = [\n",
    "    \"total_sessions\",\n",
    "    \"cancellation_rate\",\n",
    "    \"discount_usage_rate\",\n",
    "    \"total_nights\",\n",
    "    \"total_checked_bags\",\n",
    "    \"total_base_fare\"\n",
    "]\n",
    "\n",
    "# 🔁 Standardize values to [0, 1]\n",
    "scaler = MinMaxScaler()\n",
    "X_scaled = scaler.fit_transform(df_user_features[features_to_scale])\n",
    "\n",
    "# 💾 Store scaled features in new DataFrame\n",
    "df_scaled = pd.DataFrame(X_scaled, columns=features_to_scale)\n",
    "df_scaled[\"user_id\"] = df_user_features[\"user_id\"].values\n",
    "\n",
    "print(\"✅ Scaled features ready for clustering.\")\n",
    "df_scaled.head()\n"
   ]
  },
  {
   "cell_type": "markdown",
   "id": "6d0f5124",
   "metadata": {},
   "source": [
    "#### <span style=\"color:#800020;\">◼</span> Export Gold Tables for Manual AWS S3 Upload"
   ]
  },
  {
   "cell_type": "code",
   "execution_count": 25,
   "id": "6b433c04",
   "metadata": {},
   "outputs": [
    {
     "name": "stdout",
     "output_type": "stream",
     "text": [
      "✅ Exported: gold_exports/flights_gold.csv\n",
      "✅ Exported: gold_exports/users_gold.csv\n",
      "✅ Exported: gold_exports/hotels_gold.csv\n",
      "✅ Exported: gold_exports/sessions_gold.csv\n",
      "✅ Exported: gold_exports/user_features_gold.csv\n"
     ]
    }
   ],
   "source": [
    "import pandas as pd\n",
    "import os\n",
    "\n",
    "# Gold DataFrames (filtered for cohort and ready for clustering)\n",
    "df_flights_final = df_flights_processed\n",
    "df_hotels_final = df_hotels_processed\n",
    "df_sessions_final = df_sessions_processed\n",
    "df_users_final = df_users_processed\n",
    "\n",
    "# Folder to save locally before manual S3 upload\n",
    "gold_local_path = \"gold_exports/\"\n",
    "os.makedirs(gold_local_path, exist_ok=True)\n",
    "\n",
    "# Tables to save\n",
    "tables = {\n",
    "    \"flights_gold\": df_flights_final,\n",
    "    \"users_gold\": df_users_final,\n",
    "    \"hotels_gold\": df_hotels_final,\n",
    "    \"sessions_gold\": df_sessions_final,\n",
    "    \"user_features_gold\": df_user_features  # Newly added gold-layer export\n",
    "}\n",
    "\n",
    "# Save each table as CSV locally\n",
    "for name, df in tables.items():\n",
    "    try:\n",
    "        path = os.path.join(gold_local_path, f\"{name}.csv\")\n",
    "        df.to_csv(path, index=False)\n",
    "        print(f\"✅ Exported: {path}\")\n",
    "    except Exception as e:\n",
    "        print(f\"❌ Error in {name}: {e}\")\n"
   ]
  },
  {
   "cell_type": "markdown",
   "id": "accf281c",
   "metadata": {},
   "source": [
    "### <span style=\"color:#4b5320;\">◼</span> Step 3 – Analyze and Apply K-Means Clustering"
   ]
  },
  {
   "cell_type": "markdown",
   "id": "32593bdc",
   "metadata": {},
   "source": [
    "**<span style=\"color:#1f77b4\">What we’ll do in this step:**\n",
    "\n",
    "- Decide how many clusters to try (e.g. k=3, k=4, k=5)\n",
    "\n",
    "- Fit the KMeans model on df_scaled (without user_id)\n",
    "\n",
    "- Store the assigned cluster label back in df_user_features"
   ]
  },
  {
   "cell_type": "markdown",
   "id": "425c041c",
   "metadata": {},
   "source": [
    "#### <span style=\"color:#800020;\">◼</span> Feature Correlation Matrix – Identify Redundancies Before Clustering"
   ]
  },
  {
   "cell_type": "code",
   "execution_count": 26,
   "id": "bac275f6",
   "metadata": {},
   "outputs": [
    {
     "data": {
      "image/png": "[encoded data removed]",
      "text/plain": [
       "<Figure size 1000x600 with 2 Axes>"
      ]
     },
     "metadata": {},
     "output_type": "display_data"
    }
   ],
   "source": [
    "import seaborn as sns\n",
    "import matplotlib.pyplot as plt\n",
    "\n",
    "# 🔍 Only numeric features for correlation\n",
    "# Step before clustering\n",
    "corr_data = df_user_features.drop(columns=[\"user_id\"], errors=\"ignore\")\n",
    "\n",
    "# Step after clustering (if 'cluster' is added)\n",
    "corr_data_with_cluster = df_user_features.drop(columns=[\"user_id\", \"cluster\"], errors=\"ignore\")\n",
    "\n",
    "# 📊 Plot the correlation matrix\n",
    "plt.figure(figsize=(10, 6))\n",
    "sns.heatmap(corr_data.corr(), annot=True, cmap=\"YlGnBu\", linewidths=0.5)\n",
    "plt.title(\"Correlation Matrix – User-Level Features\")\n",
    "plt.tight_layout()\n",
    "plt.show()\n"
   ]
  },
  {
   "cell_type": "markdown",
   "id": "0737b816",
   "metadata": {},
   "source": [
    "No strong multicollinearity → we don’t need to drop or merge features due to redundancy.\n",
    "\n",
    "The features are informationally diverse, which is great for clustering – K-Means can now form groups based on genuinely different behaviors."
   ]
  },
  {
   "cell_type": "markdown",
   "id": "61e42edb",
   "metadata": {},
   "source": [
    "#### <span style=\"color:#800020;\">◼</span> Determine Optimal `k` – Elbow Curve for K-Means"
   ]
  },
  {
   "cell_type": "markdown",
   "id": "e53db0f1",
   "metadata": {},
   "source": [
    "We use the elbow method to plot inertia (clustering error) for a range of cluster counts.  \n",
    "The \"elbow point\" indicates a good balance between cluster compactness and generalization."
   ]
  },
  {
   "cell_type": "code",
   "execution_count": 27,
   "id": "4da59cd8",
   "metadata": {},
   "outputs": [
    {
     "data": {
      "image/png": "[encoded data removed]",
      "text/plain": [
       "<Figure size 800x400 with 1 Axes>"
      ]
     },
     "metadata": {},
     "output_type": "display_data"
    }
   ],
   "source": [
    "from sklearn.cluster import KMeans\n",
    "import matplotlib.pyplot as plt\n",
    "\n",
    "# Drop user_id column before clustering\n",
    "X_features = df_scaled.drop(columns=[\"user_id\"])\n",
    "\n",
    "# Try different k values\n",
    "inertia = []\n",
    "k_range = range(1, 11)\n",
    "\n",
    "for k in k_range:\n",
    "    kmeans_model = KMeans(n_clusters=k, random_state=42, n_init=\"auto\")\n",
    "    kmeans_model.fit(X_features)\n",
    "    inertia.append(kmeans_model.inertia_)\n",
    "\n",
    "# Plot elbow curve\n",
    "plt.figure(figsize=(8, 4))\n",
    "plt.plot(k_range, inertia, marker=\"o\")\n",
    "plt.title(\"Elbow Curve – K-Means Inertia vs. Cluster Count\")\n",
    "plt.xlabel(\"Number of Clusters (k)\")\n",
    "plt.ylabel(\"Inertia\")\n",
    "plt.grid(True)\n",
    "plt.tight_layout()\n",
    "plt.show()"
   ]
  },
  {
   "cell_type": "markdown",
   "id": "517af197",
   "metadata": {},
   "source": [
    "#### <span style=\"color:#800020;\">◼</span> Apply KMeans clustering with `k = 4` and assign each user a cluster label for further analysis."
   ]
  },
  {
   "cell_type": "code",
   "execution_count": 33,
   "id": "72a83695",
   "metadata": {},
   "outputs": [
    {
     "data": {
      "image/png": "[encoded data removed]",
      "text/plain": [
       "<Figure size 800x500 with 1 Axes>"
      ]
     },
     "metadata": {},
     "output_type": "display_data"
    }
   ],
   "source": [
    "from sklearn.cluster import KMeans\n",
    "from sklearn.decomposition import PCA\n",
    "import matplotlib.pyplot as plt\n",
    "\n",
    "# 🎯 Drop user_id for clustering\n",
    "X_features = df_scaled.drop(columns=[\"user_id\"])\n",
    "\n",
    "# 🔢 Set number of clusters from elbow method\n",
    "k = 4  # ⬅️ ggf. anpassen\n",
    "\n",
    "# 🚀 Apply K-Means clustering\n",
    "kmeans_model = KMeans(n_clusters=k, random_state=42, n_init=\"auto\")\n",
    "df_scaled[\"cluster\"] = kmeans_model.fit_predict(X_features)\n",
    "\n",
    "# 🔄 Add cluster labels to original user features\n",
    "df_user_features[\"cluster\"] = df_scaled[\"cluster\"]\n",
    "\n",
    "# 🎨 PCA for 2D visualization\n",
    "pca = PCA(n_components=2)\n",
    "components = pca.fit_transform(X_features)\n",
    "\n",
    "# 📊 Plot PCA projection with clusters\n",
    "plt.figure(figsize=(8, 5))\n",
    "scatter = plt.scatter(\n",
    "    components[:, 0], components[:, 1],\n",
    "    c=df_scaled[\"cluster\"],\n",
    "    cmap=\"Set2\",\n",
    "    s=40,\n",
    "    edgecolor='k'\n",
    ")\n",
    "plt.title(f\"User Segmentation – PCA Projection (k={k})\")\n",
    "plt.xlabel(\"PCA Component 1\")\n",
    "plt.ylabel(\"PCA Component 2\")\n",
    "plt.grid(True)\n",
    "plt.legend(*scatter.legend_elements(), title=\"Cluster\")\n",
    "plt.tight_layout()\n",
    "plt.show()\n"
   ]
  },
  {
   "cell_type": "markdown",
   "id": "fdff5324",
   "metadata": {},
   "source": [
    "**<span style=\"color:#1f77b4\">What I think is happening:**<br>\n",
    "<br>\n",
    "- The users on the left (green) are one type – maybe low spenders or low activity.\n",
    "\n",
    "- The users on the right (blue) seem very different – maybe they book a lot or spend more.\n",
    "\n",
    "- The yellow ones are more spread out, so maybe they’re a mixed group.\n",
    "\n",
    "- The gray ones are very tight and close – maybe their behavior is really similar.\n",
    "\n",
    "- I can't say exactly what each group means just by looking at the chart, so I plan to check the average behavior per cluster next."
   ]
  },
  {
   "cell_type": "markdown",
   "id": "24b2d31d",
   "metadata": {},
   "source": [
    "### <span style=\"color:#4b5320;\">◼</span> Step 4 – Interpret Clusters & Assign Perks"
   ]
  },
  {
   "cell_type": "code",
   "execution_count": 34,
   "id": "1dc3bd94",
   "metadata": {},
   "outputs": [
    {
     "data": {
      "image/png": "[encoded data removed]",
      "text/plain": [
       "<Figure size 1000x600 with 1 Axes>"
      ]
     },
     "metadata": {},
     "output_type": "display_data"
    }
   ],
   "source": [
    "# Calculate cluster-wise means from the scaled data\n",
    "scaled_means = df_scaled.drop(columns=\"user_id\").groupby(\"cluster\").mean()\n",
    "\n",
    "# Transpose the DataFrame for better plotting (features on x-axis)\n",
    "scaled_means.T.plot(kind=\"bar\", figsize=(10, 6), colormap=\"Set2\")\n",
    "\n",
    "plt.title(\"Average Scaled Feature Values per Cluster\")\n",
    "plt.ylabel(\"Scaled Value (0–1)\")\n",
    "plt.xlabel(\"Feature\")\n",
    "plt.xticks(rotation=45)\n",
    "plt.grid(True)\n",
    "plt.tight_layout()\n",
    "plt.show()\n"
   ]
  },
  {
   "cell_type": "markdown",
   "id": "7c705447",
   "metadata": {},
   "source": [
    "**<span style=\"color:#1f77b4\">Cluster Interpretation (based on the bar chart)**\n",
    "\n",
    "| Cluster    | What I see |\n",
    "|------------|------------|\n",
    "| **Cluster 0** | These users have **high checked bags** and **high base fares**, but **few sessions**. Maybe they travel rarely, but when they do, they **spend more** and **bring more luggage**. |\n",
    "| **Cluster 1** | They use **a lot of discounts**, have **medium cancellation rates**, and **spend less overall**. Sounds like **budget-conscious travelers** who book carefully. |\n",
    "| **Cluster 2** | This group is **high on almost everything** – sessions, nights, bags, fare. They look like **power users**, but also **cancel the most**. Maybe they book a lot but often change plans. |\n",
    "| **Cluster 3** | This group is **low to medium on all features**. Not much stands out. They seem like **average or low-engagement users**. |\n"
   ]
  },
  {
   "cell_type": "markdown",
   "id": "41677000",
   "metadata": {},
   "source": [
    "We now examine each cluster’s average behavior to determine which **perk** fits best. This is based on aggregated metrics like discount usage, cancellations, and travel activity. We calculate mean feature values for each cluster to detect dominant patterns."
   ]
  },
  {
   "cell_type": "code",
   "execution_count": 30,
   "id": "03df0556",
   "metadata": {},
   "outputs": [
    {
     "data": {
      "text/html": [
       "<style type=\"text/css\">\n",
       "#T_61c9f_row0_col0 {\n",
       "  background-color: #d3eeb3;\n",
       "  color: #000000;\n",
       "}\n",
       "#T_61c9f_row0_col1 {\n",
       "  background-color: #2195c0;\n",
       "  color: #f1f1f1;\n",
       "}\n",
       "#T_61c9f_row0_col2, #T_61c9f_row0_col6, #T_61c9f_row1_col0, #T_61c9f_row1_col3, #T_61c9f_row2_col1, #T_61c9f_row2_col4, #T_61c9f_row2_col5 {\n",
       "  background-color: #081d58;\n",
       "  color: #f1f1f1;\n",
       "}\n",
       "#T_61c9f_row0_col3 {\n",
       "  background-color: #13266f;\n",
       "  color: #f1f1f1;\n",
       "}\n",
       "#T_61c9f_row0_col4 {\n",
       "  background-color: #52bcc2;\n",
       "  color: #000000;\n",
       "}\n",
       "#T_61c9f_row0_col5 {\n",
       "  background-color: #57bec1;\n",
       "  color: #000000;\n",
       "}\n",
       "#T_61c9f_row1_col1, #T_61c9f_row1_col2, #T_61c9f_row1_col4, #T_61c9f_row1_col5, #T_61c9f_row1_col6, #T_61c9f_row2_col0, #T_61c9f_row3_col2, #T_61c9f_row3_col3 {\n",
       "  background-color: #ffffd9;\n",
       "  color: #000000;\n",
       "}\n",
       "#T_61c9f_row2_col2 {\n",
       "  background-color: #feffd8;\n",
       "  color: #000000;\n",
       "}\n",
       "#T_61c9f_row2_col3 {\n",
       "  background-color: #2ea3c2;\n",
       "  color: #f1f1f1;\n",
       "}\n",
       "#T_61c9f_row2_col6 {\n",
       "  background-color: #24439b;\n",
       "  color: #f1f1f1;\n",
       "}\n",
       "#T_61c9f_row3_col0 {\n",
       "  background-color: #0c2060;\n",
       "  color: #f1f1f1;\n",
       "}\n",
       "#T_61c9f_row3_col1 {\n",
       "  background-color: #fdfed5;\n",
       "  color: #000000;\n",
       "}\n",
       "#T_61c9f_row3_col4 {\n",
       "  background-color: #f8fcc9;\n",
       "  color: #000000;\n",
       "}\n",
       "#T_61c9f_row3_col5 {\n",
       "  background-color: #f8fcca;\n",
       "  color: #000000;\n",
       "}\n",
       "#T_61c9f_row3_col6 {\n",
       "  background-color: #f9fdcb;\n",
       "  color: #000000;\n",
       "}\n",
       "</style>\n",
       "<table id=\"T_61c9f\">\n",
       "  <thead>\n",
       "    <tr>\n",
       "      <th class=\"blank level0\" >&nbsp;</th>\n",
       "      <th id=\"T_61c9f_level0_col0\" class=\"col_heading level0 col0\" >user_id</th>\n",
       "      <th id=\"T_61c9f_level0_col1\" class=\"col_heading level0 col1\" >total_sessions</th>\n",
       "      <th id=\"T_61c9f_level0_col2\" class=\"col_heading level0 col2\" >cancellation_rate</th>\n",
       "      <th id=\"T_61c9f_level0_col3\" class=\"col_heading level0 col3\" >discount_usage_rate</th>\n",
       "      <th id=\"T_61c9f_level0_col4\" class=\"col_heading level0 col4\" >total_nights</th>\n",
       "      <th id=\"T_61c9f_level0_col5\" class=\"col_heading level0 col5\" >total_checked_bags</th>\n",
       "      <th id=\"T_61c9f_level0_col6\" class=\"col_heading level0 col6\" >total_base_fare</th>\n",
       "    </tr>\n",
       "    <tr>\n",
       "      <th class=\"index_name level0\" >cluster</th>\n",
       "      <th class=\"blank col0\" >&nbsp;</th>\n",
       "      <th class=\"blank col1\" >&nbsp;</th>\n",
       "      <th class=\"blank col2\" >&nbsp;</th>\n",
       "      <th class=\"blank col3\" >&nbsp;</th>\n",
       "      <th class=\"blank col4\" >&nbsp;</th>\n",
       "      <th class=\"blank col5\" >&nbsp;</th>\n",
       "      <th class=\"blank col6\" >&nbsp;</th>\n",
       "    </tr>\n",
       "  </thead>\n",
       "  <tbody>\n",
       "    <tr>\n",
       "      <th id=\"T_61c9f_level0_row0\" class=\"row_heading level0 row0\" >0</th>\n",
       "      <td id=\"T_61c9f_row0_col0\" class=\"data row0 col0\" >521160.72</td>\n",
       "      <td id=\"T_61c9f_row0_col1\" class=\"data row0 col1\" >7.94</td>\n",
       "      <td id=\"T_61c9f_row0_col2\" class=\"data row0 col2\" >0.13</td>\n",
       "      <td id=\"T_61c9f_row0_col3\" class=\"data row0 col3\" >0.37</td>\n",
       "      <td id=\"T_61c9f_row0_col4\" class=\"data row0 col4\" >9.10</td>\n",
       "      <td id=\"T_61c9f_row0_col5\" class=\"data row0 col5\" >1.61</td>\n",
       "      <td id=\"T_61c9f_row0_col6\" class=\"data row0 col6\" >2131.96</td>\n",
       "    </tr>\n",
       "    <tr>\n",
       "      <th id=\"T_61c9f_level0_row1\" class=\"row_heading level0 row1\" >1</th>\n",
       "      <td id=\"T_61c9f_row1_col0\" class=\"data row1 col0\" >566847.31</td>\n",
       "      <td id=\"T_61c9f_row1_col1\" class=\"data row1 col1\" >7.39</td>\n",
       "      <td id=\"T_61c9f_row1_col2\" class=\"data row1 col2\" >0.00</td>\n",
       "      <td id=\"T_61c9f_row1_col3\" class=\"data row1 col3\" >0.39</td>\n",
       "      <td id=\"T_61c9f_row1_col4\" class=\"data row1 col4\" >4.72</td>\n",
       "      <td id=\"T_61c9f_row1_col5\" class=\"data row1 col5\" >0.77</td>\n",
       "      <td id=\"T_61c9f_row1_col6\" class=\"data row1 col6\" >701.58</td>\n",
       "    </tr>\n",
       "    <tr>\n",
       "      <th id=\"T_61c9f_level0_row2\" class=\"row_heading level0 row2\" >2</th>\n",
       "      <td id=\"T_61c9f_row2_col0\" class=\"data row2 col0\" >508899.73</td>\n",
       "      <td id=\"T_61c9f_row2_col1\" class=\"data row2 col1\" >8.28</td>\n",
       "      <td id=\"T_61c9f_row2_col2\" class=\"data row2 col2\" >0.00</td>\n",
       "      <td id=\"T_61c9f_row2_col3\" class=\"data row2 col3\" >0.26</td>\n",
       "      <td id=\"T_61c9f_row2_col4\" class=\"data row2 col4\" >14.10</td>\n",
       "      <td id=\"T_61c9f_row2_col5\" class=\"data row2 col5\" >2.62</td>\n",
       "      <td id=\"T_61c9f_row2_col6\" class=\"data row2 col6\" >1890.95</td>\n",
       "    </tr>\n",
       "    <tr>\n",
       "      <th id=\"T_61c9f_level0_row3\" class=\"row_heading level0 row3\" >3</th>\n",
       "      <td id=\"T_61c9f_row3_col0\" class=\"data row3 col0\" >565791.28</td>\n",
       "      <td id=\"T_61c9f_row3_col1\" class=\"data row3 col1\" >7.40</td>\n",
       "      <td id=\"T_61c9f_row3_col2\" class=\"data row3 col2\" >0.00</td>\n",
       "      <td id=\"T_61c9f_row3_col3\" class=\"data row3 col3\" >0.10</td>\n",
       "      <td id=\"T_61c9f_row3_col4\" class=\"data row3 col4\" >5.21</td>\n",
       "      <td id=\"T_61c9f_row3_col5\" class=\"data row3 col5\" >0.86</td>\n",
       "      <td id=\"T_61c9f_row3_col6\" class=\"data row3 col6\" >764.01</td>\n",
       "    </tr>\n",
       "  </tbody>\n",
       "</table>\n"
      ],
      "text/plain": [
       "<pandas.io.formats.style.Styler at 0x26a7af4f380>"
      ]
     },
     "execution_count": 30,
     "metadata": {},
     "output_type": "execute_result"
    }
   ],
   "source": [
    "# Calculate average behavior per cluster\n",
    "cluster_summary_labels = df_user_features.groupby(\"cluster\").mean(numeric_only=True)\n",
    "cluster_summary_labels.style.background_gradient(cmap=\"YlGnBu\").format(\"{:.2f}\")\n",
    "\n"
   ]
  },
  {
   "cell_type": "markdown",
   "id": "68d57d99",
   "metadata": {},
   "source": [
    "**<span style=\"color:#1f77b4\">Cluster Interpretation & Perk Assignment**\n",
    "| Cluster | Behavioral Summary                                                                 | Assigned Perk                  |\n",
    "|---------|-------------------------------------------------------------------------------------|--------------------------------|\n",
    "| 0       | High discount usage, low cancellations, active in both flights and hotels          | 🎁 Exclusive Discounts         |\n",
    "| 1       | Low spenders, few sessions, little engagement                                      | 🧳 Free Checked Bag            |\n",
    "| 2       | High cancellation rate, medium session volume                                      | ❌ No Cancellation Fees        |\n",
    "| 3       | Frequent hotel+flight usage, long nights, high fares                               | 🏨 1 Night Free with Flight    |\n"
   ]
  },
  {
   "cell_type": "markdown",
   "id": "e58c6716",
   "metadata": {},
   "source": [
    "# <span style=\"color:#e67e22;\">◼</span> **Machine Learning - Model**"
   ]
  },
  {
   "cell_type": "markdown",
   "id": "3369c372",
   "metadata": {},
   "source": [
    "## 1. Trial – Random Forest Classifier (Baseline)  \n",
    "- **class_weight=\"balanced\"**  \n",
    "- **Repeated Stratified K-Fold (20x)**  \n",
    "- **Manual Weak Fold Analysis (precision < 0.70)**  \n",
    "- **Boxplot + Line Plot**\n"
   ]
  },
  {
   "cell_type": "code",
   "execution_count": 31,
   "id": "404d8668",
   "metadata": {},
   "outputs": [
    {
     "name": "stdout",
     "output_type": "stream",
     "text": [
      "\n",
      "📊 Aggregated Results (100 iterations):\n",
      "Precision (weighted): 0.9897 ± 0.0013\n",
      "Recall    (weighted): 0.9897 ± 0.0013\n",
      "F1-Score  (weighted): 0.9896 ± 0.0013\n",
      "Accuracy             : 0.9897 ± 0.0013\n",
      "\n",
      "✅ No weak folds detected (precision < 0.70)\n"
     ]
    },
    {
     "data": {
      "image/png": "[encoded data removed]",
      "text/plain": [
       "<Figure size 1000x600 with 1 Axes>"
      ]
     },
     "metadata": {},
     "output_type": "display_data"
    },
    {
     "data": {
      "image/png": "[encoded data removed]",
      "text/plain": [
       "<Figure size 1200x600 with 1 Axes>"
      ]
     },
     "metadata": {},
     "output_type": "display_data"
    }
   ],
   "source": [
    "from sklearn.ensemble import RandomForestClassifier\n",
    "from sklearn.model_selection import RepeatedStratifiedKFold\n",
    "from sklearn.metrics import precision_score, recall_score, f1_score, accuracy_score\n",
    "import numpy as np\n",
    "import pandas as pd\n",
    "import matplotlib.pyplot as plt\n",
    "\n",
    "# Features and target\n",
    "X_features = df_user_features[[\n",
    "    \"total_sessions\",\n",
    "    \"cancellation_rate\",\n",
    "    \"discount_usage_rate\",\n",
    "    \"total_nights\",\n",
    "    \"total_checked_bags\",\n",
    "    \"total_base_fare\"\n",
    "]]\n",
    "y_labels = df_user_features[\"cluster\"]\n",
    "\n",
    "# Cross-validation setup\n",
    "rskf = RepeatedStratifiedKFold(n_splits=5, n_repeats=20, random_state=42)\n",
    "all_splits = list(rskf.split(X_features, y_labels))\n",
    "\n",
    "# Collectors\n",
    "precision_scores = []\n",
    "recall_scores = []\n",
    "f1_scores = []\n",
    "accuracy_scores = []\n",
    "bad_folds = []\n",
    "\n",
    "# CV loop\n",
    "for i, (train_index, test_index) in enumerate(all_splits):\n",
    "    X_train, X_test = X_features.iloc[train_index], X_features.iloc[test_index]\n",
    "    y_train, y_test = y_labels.iloc[train_index], y_labels.iloc[test_index]\n",
    "\n",
    "    clf = RandomForestClassifier(n_estimators=100, random_state=42, class_weight=\"balanced\")\n",
    "    clf.fit(X_train, y_train)\n",
    "    y_pred = clf.predict(X_test)\n",
    "\n",
    "    precision = precision_score(y_test, y_pred, average='weighted', zero_division=0)\n",
    "    recall = recall_score(y_test, y_pred, average='weighted', zero_division=0)\n",
    "    f1 = f1_score(y_test, y_pred, average='weighted', zero_division=0)\n",
    "    accuracy = accuracy_score(y_test, y_pred)\n",
    "\n",
    "    precision_scores.append(precision)\n",
    "    recall_scores.append(recall)\n",
    "    f1_scores.append(f1)\n",
    "    accuracy_scores.append(accuracy)\n",
    "\n",
    "    if precision < 0.70:\n",
    "        bad_folds.append({\n",
    "            \"fold\": i,\n",
    "            \"precision\": round(precision, 4),\n",
    "            \"recall\": round(recall, 4),\n",
    "            \"f1\": round(f1, 4),\n",
    "            \"accuracy\": round(accuracy, 4),\n",
    "            \"y_test\": y_test.value_counts().to_dict(),\n",
    "            \"y_pred\": pd.Series(y_pred).value_counts().to_dict()\n",
    "        })\n",
    "\n",
    "# Summary\n",
    "print(\"\\n📊 Aggregated Results (100 iterations):\")\n",
    "print(f\"Precision (weighted): {np.mean(precision_scores):.4f} ± {np.std(precision_scores):.4f}\")\n",
    "print(f\"Recall    (weighted): {np.mean(recall_scores):.4f} ± {np.std(recall_scores):.4f}\")\n",
    "print(f\"F1-Score  (weighted): {np.mean(f1_scores):.4f} ± {np.std(f1_scores):.4f}\")\n",
    "print(f\"Accuracy             : {np.mean(accuracy_scores):.4f} ± {np.std(accuracy_scores):.4f}\")\n",
    "\n",
    "# Report weak folds\n",
    "if bad_folds:\n",
    "    print(f\"\\n⚠️ {len(bad_folds)} folds with precision < 0.70\")\n",
    "\n",
    "    # Export to CSV\n",
    "    export_data = []\n",
    "    for fold in bad_folds:\n",
    "        for label in sorted(set(list(fold[\"y_test\"].keys()) + list(fold[\"y_pred\"].keys()))):\n",
    "            export_data.append({\n",
    "                \"fold\": fold[\"fold\"],\n",
    "                \"precision\": fold[\"precision\"],\n",
    "                \"recall\": fold[\"recall\"],\n",
    "                \"f1\": fold[\"f1\"],\n",
    "                \"accuracy\": fold[\"accuracy\"],\n",
    "                \"label\": label,\n",
    "                \"y_test_count\": fold[\"y_test\"].get(label, 0),\n",
    "                \"y_pred_count\": fold[\"y_pred\"].get(label, 0),\n",
    "            })\n",
    "    df_export_v1 = pd.DataFrame(export_data)\n",
    "    df_export_v1.to_csv(\"weak_folds_summary_1.csv\", index=False)\n",
    "    print(\"💾 Exported weak folds to 'weak_folds_summary_1.csv'\")\n",
    "\n",
    "    # Optional: visualize each bad fold\n",
    "    for fold in bad_folds:\n",
    "        labels = sorted(set(list(fold[\"y_test\"].keys()) + list(fold[\"y_pred\"].keys())))\n",
    "        y_test_vals = [fold[\"y_test\"].get(l, 0) for l in labels]\n",
    "        y_pred_vals = [fold[\"y_pred\"].get(l, 0) for l in labels]\n",
    "\n",
    "        x = np.arange(len(labels))\n",
    "        width = 0.35\n",
    "\n",
    "        plt.figure(figsize=(6, 4))\n",
    "        plt.bar(x - width/2, y_test_vals, width, label='y_test')\n",
    "        plt.bar(x + width/2, y_pred_vals, width, label='y_pred')\n",
    "        plt.xticks(x, labels)\n",
    "        plt.title(f\"Fold {fold['fold']} – Label distribution\")\n",
    "        plt.xlabel(\"Cluster Label\")\n",
    "        plt.ylabel(\"Count\")\n",
    "        plt.legend()\n",
    "        plt.tight_layout()\n",
    "        plt.show()\n",
    "else:\n",
    "    print(\"\\n✅ No weak folds detected (precision < 0.70)\")\n",
    "\n",
    "# 📊 Boxplot\n",
    "plt.figure(figsize=(10, 6))\n",
    "plt.boxplot(\n",
    "    [precision_scores, recall_scores, f1_scores, accuracy_scores],\n",
    "    tick_labels=[\"Precision\", \"Recall\", \"F1-Score\", \"Accuracy\"]\n",
    ")\n",
    "\n",
    "plt.title(\"Distribution of Metrics (Repeated Stratified K-Fold)\")\n",
    "plt.ylabel(\"Score\")\n",
    "plt.grid(True)\n",
    "plt.tight_layout()\n",
    "plt.show()\n",
    "\n",
    "# 📈 Line Plot\n",
    "plt.figure(figsize=(12, 6))\n",
    "plt.plot(precision_scores, label=\"Precision\")\n",
    "plt.plot(recall_scores, label=\"Recall\")\n",
    "plt.plot(f1_scores, label=\"F1-Score\")\n",
    "plt.plot(accuracy_scores, label=\"Accuracy\")\n",
    "plt.title(\"Metrics over 100 Iterations\")\n",
    "plt.xlabel(\"Iteration\")\n",
    "plt.ylabel(\"Score\")\n",
    "plt.legend()\n",
    "plt.grid(True)\n",
    "plt.tight_layout()\n",
    "plt.show()\n"
   ]
  },
  {
   "cell_type": "markdown",
   "id": "4391e7cb",
   "metadata": {},
   "source": [
    "## 2. Trial – Random Forest Classifier (with GridSearch)  \n",
    "- **class_weight=\"balanced\"**  \n",
    "- **Repeated Stratified K-Fold**  \n",
    "- **GridSearchCV**  \n",
    "- **Weak Fold Export (precision < 0.70)**  \n",
    "- **Boxplot + Line Plot**\n"
   ]
  },
  {
   "cell_type": "code",
   "execution_count": 32,
   "id": "1feb7947",
   "metadata": {},
   "outputs": [
    {
     "ename": "KeyboardInterrupt",
     "evalue": "",
     "output_type": "error",
     "traceback": [
      "\u001b[31m---------------------------------------------------------------------------\u001b[39m",
      "\u001b[31mKeyboardInterrupt\u001b[39m                         Traceback (most recent call last)",
      "\u001b[36mCell\u001b[39m\u001b[36m \u001b[39m\u001b[32mIn[32]\u001b[39m\u001b[32m, line 40\u001b[39m\n\u001b[32m     38\u001b[39m base_model = RandomForestClassifier(class_weight=\u001b[33m\"\u001b[39m\u001b[33mbalanced\u001b[39m\u001b[33m\"\u001b[39m, random_state=\u001b[32m42\u001b[39m)\n\u001b[32m     39\u001b[39m grid_search = GridSearchCV(base_model, param_grid, cv=rskf, scoring=scoring, refit=\u001b[33m\"\u001b[39m\u001b[33mf1\u001b[39m\u001b[33m\"\u001b[39m, n_jobs=-\u001b[32m1\u001b[39m)\n\u001b[32m---> \u001b[39m\u001b[32m40\u001b[39m \u001b[43mgrid_search\u001b[49m\u001b[43m.\u001b[49m\u001b[43mfit\u001b[49m\u001b[43m(\u001b[49m\u001b[43mX_features\u001b[49m\u001b[43m,\u001b[49m\u001b[43m \u001b[49m\u001b[43my_labels\u001b[49m\u001b[43m)\u001b[49m\n\u001b[32m     42\u001b[39m \u001b[38;5;66;03m# Best parameters\u001b[39;00m\n\u001b[32m     43\u001b[39m best_params = grid_search.best_params_\n",
      "\u001b[36mFile \u001b[39m\u001b[32md:\\Git-GitHub\\Repositories\\Mastery-Project-Masterschool\\mastery-project-masterschool\\.venv\\Lib\\site-packages\\sklearn\\base.py:1389\u001b[39m, in \u001b[36m_fit_context.<locals>.decorator.<locals>.wrapper\u001b[39m\u001b[34m(estimator, *args, **kwargs)\u001b[39m\n\u001b[32m   1382\u001b[39m     estimator._validate_params()\n\u001b[32m   1384\u001b[39m \u001b[38;5;28;01mwith\u001b[39;00m config_context(\n\u001b[32m   1385\u001b[39m     skip_parameter_validation=(\n\u001b[32m   1386\u001b[39m         prefer_skip_nested_validation \u001b[38;5;129;01mor\u001b[39;00m global_skip_validation\n\u001b[32m   1387\u001b[39m     )\n\u001b[32m   1388\u001b[39m ):\n\u001b[32m-> \u001b[39m\u001b[32m1389\u001b[39m     \u001b[38;5;28;01mreturn\u001b[39;00m \u001b[43mfit_method\u001b[49m\u001b[43m(\u001b[49m\u001b[43mestimator\u001b[49m\u001b[43m,\u001b[49m\u001b[43m \u001b[49m\u001b[43m*\u001b[49m\u001b[43margs\u001b[49m\u001b[43m,\u001b[49m\u001b[43m \u001b[49m\u001b[43m*\u001b[49m\u001b[43m*\u001b[49m\u001b[43mkwargs\u001b[49m\u001b[43m)\u001b[49m\n",
      "\u001b[36mFile \u001b[39m\u001b[32md:\\Git-GitHub\\Repositories\\Mastery-Project-Masterschool\\mastery-project-masterschool\\.venv\\Lib\\site-packages\\sklearn\\model_selection\\_search.py:1024\u001b[39m, in \u001b[36mBaseSearchCV.fit\u001b[39m\u001b[34m(self, X, y, **params)\u001b[39m\n\u001b[32m   1018\u001b[39m     results = \u001b[38;5;28mself\u001b[39m._format_results(\n\u001b[32m   1019\u001b[39m         all_candidate_params, n_splits, all_out, all_more_results\n\u001b[32m   1020\u001b[39m     )\n\u001b[32m   1022\u001b[39m     \u001b[38;5;28;01mreturn\u001b[39;00m results\n\u001b[32m-> \u001b[39m\u001b[32m1024\u001b[39m \u001b[38;5;28;43mself\u001b[39;49m\u001b[43m.\u001b[49m\u001b[43m_run_search\u001b[49m\u001b[43m(\u001b[49m\u001b[43mevaluate_candidates\u001b[49m\u001b[43m)\u001b[49m\n\u001b[32m   1026\u001b[39m \u001b[38;5;66;03m# multimetric is determined here because in the case of a callable\u001b[39;00m\n\u001b[32m   1027\u001b[39m \u001b[38;5;66;03m# self.scoring the return type is only known after calling\u001b[39;00m\n\u001b[32m   1028\u001b[39m first_test_score = all_out[\u001b[32m0\u001b[39m][\u001b[33m\"\u001b[39m\u001b[33mtest_scores\u001b[39m\u001b[33m\"\u001b[39m]\n",
      "\u001b[36mFile \u001b[39m\u001b[32md:\\Git-GitHub\\Repositories\\Mastery-Project-Masterschool\\mastery-project-masterschool\\.venv\\Lib\\site-packages\\sklearn\\model_selection\\_search.py:1571\u001b[39m, in \u001b[36mGridSearchCV._run_search\u001b[39m\u001b[34m(self, evaluate_candidates)\u001b[39m\n\u001b[32m   1569\u001b[39m \u001b[38;5;28;01mdef\u001b[39;00m\u001b[38;5;250m \u001b[39m\u001b[34m_run_search\u001b[39m(\u001b[38;5;28mself\u001b[39m, evaluate_candidates):\n\u001b[32m   1570\u001b[39m \u001b[38;5;250m    \u001b[39m\u001b[33;03m\"\"\"Search all candidates in param_grid\"\"\"\u001b[39;00m\n\u001b[32m-> \u001b[39m\u001b[32m1571\u001b[39m     \u001b[43mevaluate_candidates\u001b[49m\u001b[43m(\u001b[49m\u001b[43mParameterGrid\u001b[49m\u001b[43m(\u001b[49m\u001b[38;5;28;43mself\u001b[39;49m\u001b[43m.\u001b[49m\u001b[43mparam_grid\u001b[49m\u001b[43m)\u001b[49m\u001b[43m)\u001b[49m\n",
      "\u001b[36mFile \u001b[39m\u001b[32md:\\Git-GitHub\\Repositories\\Mastery-Project-Masterschool\\mastery-project-masterschool\\.venv\\Lib\\site-packages\\sklearn\\model_selection\\_search.py:970\u001b[39m, in \u001b[36mBaseSearchCV.fit.<locals>.evaluate_candidates\u001b[39m\u001b[34m(candidate_params, cv, more_results)\u001b[39m\n\u001b[32m    962\u001b[39m \u001b[38;5;28;01mif\u001b[39;00m \u001b[38;5;28mself\u001b[39m.verbose > \u001b[32m0\u001b[39m:\n\u001b[32m    963\u001b[39m     \u001b[38;5;28mprint\u001b[39m(\n\u001b[32m    964\u001b[39m         \u001b[33m\"\u001b[39m\u001b[33mFitting \u001b[39m\u001b[38;5;132;01m{0}\u001b[39;00m\u001b[33m folds for each of \u001b[39m\u001b[38;5;132;01m{1}\u001b[39;00m\u001b[33m candidates,\u001b[39m\u001b[33m\"\u001b[39m\n\u001b[32m    965\u001b[39m         \u001b[33m\"\u001b[39m\u001b[33m totalling \u001b[39m\u001b[38;5;132;01m{2}\u001b[39;00m\u001b[33m fits\u001b[39m\u001b[33m\"\u001b[39m.format(\n\u001b[32m    966\u001b[39m             n_splits, n_candidates, n_candidates * n_splits\n\u001b[32m    967\u001b[39m         )\n\u001b[32m    968\u001b[39m     )\n\u001b[32m--> \u001b[39m\u001b[32m970\u001b[39m out = \u001b[43mparallel\u001b[49m\u001b[43m(\u001b[49m\n\u001b[32m    971\u001b[39m \u001b[43m    \u001b[49m\u001b[43mdelayed\u001b[49m\u001b[43m(\u001b[49m\u001b[43m_fit_and_score\u001b[49m\u001b[43m)\u001b[49m\u001b[43m(\u001b[49m\n\u001b[32m    972\u001b[39m \u001b[43m        \u001b[49m\u001b[43mclone\u001b[49m\u001b[43m(\u001b[49m\u001b[43mbase_estimator\u001b[49m\u001b[43m)\u001b[49m\u001b[43m,\u001b[49m\n\u001b[32m    973\u001b[39m \u001b[43m        \u001b[49m\u001b[43mX\u001b[49m\u001b[43m,\u001b[49m\n\u001b[32m    974\u001b[39m \u001b[43m        \u001b[49m\u001b[43my\u001b[49m\u001b[43m,\u001b[49m\n\u001b[32m    975\u001b[39m \u001b[43m        \u001b[49m\u001b[43mtrain\u001b[49m\u001b[43m=\u001b[49m\u001b[43mtrain\u001b[49m\u001b[43m,\u001b[49m\n\u001b[32m    976\u001b[39m \u001b[43m        \u001b[49m\u001b[43mtest\u001b[49m\u001b[43m=\u001b[49m\u001b[43mtest\u001b[49m\u001b[43m,\u001b[49m\n\u001b[32m    977\u001b[39m \u001b[43m        \u001b[49m\u001b[43mparameters\u001b[49m\u001b[43m=\u001b[49m\u001b[43mparameters\u001b[49m\u001b[43m,\u001b[49m\n\u001b[32m    978\u001b[39m \u001b[43m        \u001b[49m\u001b[43msplit_progress\u001b[49m\u001b[43m=\u001b[49m\u001b[43m(\u001b[49m\u001b[43msplit_idx\u001b[49m\u001b[43m,\u001b[49m\u001b[43m \u001b[49m\u001b[43mn_splits\u001b[49m\u001b[43m)\u001b[49m\u001b[43m,\u001b[49m\n\u001b[32m    979\u001b[39m \u001b[43m        \u001b[49m\u001b[43mcandidate_progress\u001b[49m\u001b[43m=\u001b[49m\u001b[43m(\u001b[49m\u001b[43mcand_idx\u001b[49m\u001b[43m,\u001b[49m\u001b[43m \u001b[49m\u001b[43mn_candidates\u001b[49m\u001b[43m)\u001b[49m\u001b[43m,\u001b[49m\n\u001b[32m    980\u001b[39m \u001b[43m        \u001b[49m\u001b[43m*\u001b[49m\u001b[43m*\u001b[49m\u001b[43mfit_and_score_kwargs\u001b[49m\u001b[43m,\u001b[49m\n\u001b[32m    981\u001b[39m \u001b[43m    \u001b[49m\u001b[43m)\u001b[49m\n\u001b[32m    982\u001b[39m \u001b[43m    \u001b[49m\u001b[38;5;28;43;01mfor\u001b[39;49;00m\u001b[43m \u001b[49m\u001b[43m(\u001b[49m\u001b[43mcand_idx\u001b[49m\u001b[43m,\u001b[49m\u001b[43m \u001b[49m\u001b[43mparameters\u001b[49m\u001b[43m)\u001b[49m\u001b[43m,\u001b[49m\u001b[43m \u001b[49m\u001b[43m(\u001b[49m\u001b[43msplit_idx\u001b[49m\u001b[43m,\u001b[49m\u001b[43m \u001b[49m\u001b[43m(\u001b[49m\u001b[43mtrain\u001b[49m\u001b[43m,\u001b[49m\u001b[43m \u001b[49m\u001b[43mtest\u001b[49m\u001b[43m)\u001b[49m\u001b[43m)\u001b[49m\u001b[43m \u001b[49m\u001b[38;5;129;43;01min\u001b[39;49;00m\u001b[43m \u001b[49m\u001b[43mproduct\u001b[49m\u001b[43m(\u001b[49m\n\u001b[32m    983\u001b[39m \u001b[43m        \u001b[49m\u001b[38;5;28;43menumerate\u001b[39;49m\u001b[43m(\u001b[49m\u001b[43mcandidate_params\u001b[49m\u001b[43m)\u001b[49m\u001b[43m,\u001b[49m\n\u001b[32m    984\u001b[39m \u001b[43m        \u001b[49m\u001b[38;5;28;43menumerate\u001b[39;49m\u001b[43m(\u001b[49m\u001b[43mcv\u001b[49m\u001b[43m.\u001b[49m\u001b[43msplit\u001b[49m\u001b[43m(\u001b[49m\u001b[43mX\u001b[49m\u001b[43m,\u001b[49m\u001b[43m \u001b[49m\u001b[43my\u001b[49m\u001b[43m,\u001b[49m\u001b[43m \u001b[49m\u001b[43m*\u001b[49m\u001b[43m*\u001b[49m\u001b[43mrouted_params\u001b[49m\u001b[43m.\u001b[49m\u001b[43msplitter\u001b[49m\u001b[43m.\u001b[49m\u001b[43msplit\u001b[49m\u001b[43m)\u001b[49m\u001b[43m)\u001b[49m\u001b[43m,\u001b[49m\n\u001b[32m    985\u001b[39m \u001b[43m    \u001b[49m\u001b[43m)\u001b[49m\n\u001b[32m    986\u001b[39m \u001b[43m\u001b[49m\u001b[43m)\u001b[49m\n\u001b[32m    988\u001b[39m \u001b[38;5;28;01mif\u001b[39;00m \u001b[38;5;28mlen\u001b[39m(out) < \u001b[32m1\u001b[39m:\n\u001b[32m    989\u001b[39m     \u001b[38;5;28;01mraise\u001b[39;00m \u001b[38;5;167;01mValueError\u001b[39;00m(\n\u001b[32m    990\u001b[39m         \u001b[33m\"\u001b[39m\u001b[33mNo fits were performed. \u001b[39m\u001b[33m\"\u001b[39m\n\u001b[32m    991\u001b[39m         \u001b[33m\"\u001b[39m\u001b[33mWas the CV iterator empty? \u001b[39m\u001b[33m\"\u001b[39m\n\u001b[32m    992\u001b[39m         \u001b[33m\"\u001b[39m\u001b[33mWere there no candidates?\u001b[39m\u001b[33m\"\u001b[39m\n\u001b[32m    993\u001b[39m     )\n",
      "\u001b[36mFile \u001b[39m\u001b[32md:\\Git-GitHub\\Repositories\\Mastery-Project-Masterschool\\mastery-project-masterschool\\.venv\\Lib\\site-packages\\sklearn\\utils\\parallel.py:77\u001b[39m, in \u001b[36mParallel.__call__\u001b[39m\u001b[34m(self, iterable)\u001b[39m\n\u001b[32m     72\u001b[39m config = get_config()\n\u001b[32m     73\u001b[39m iterable_with_config = (\n\u001b[32m     74\u001b[39m     (_with_config(delayed_func, config), args, kwargs)\n\u001b[32m     75\u001b[39m     \u001b[38;5;28;01mfor\u001b[39;00m delayed_func, args, kwargs \u001b[38;5;129;01min\u001b[39;00m iterable\n\u001b[32m     76\u001b[39m )\n\u001b[32m---> \u001b[39m\u001b[32m77\u001b[39m \u001b[38;5;28;01mreturn\u001b[39;00m \u001b[38;5;28;43msuper\u001b[39;49m\u001b[43m(\u001b[49m\u001b[43m)\u001b[49m\u001b[43m.\u001b[49m\u001b[34;43m__call__\u001b[39;49m\u001b[43m(\u001b[49m\u001b[43miterable_with_config\u001b[49m\u001b[43m)\u001b[49m\n",
      "\u001b[36mFile \u001b[39m\u001b[32md:\\Git-GitHub\\Repositories\\Mastery-Project-Masterschool\\mastery-project-masterschool\\.venv\\Lib\\site-packages\\joblib\\parallel.py:2007\u001b[39m, in \u001b[36mParallel.__call__\u001b[39m\u001b[34m(self, iterable)\u001b[39m\n\u001b[32m   2001\u001b[39m \u001b[38;5;66;03m# The first item from the output is blank, but it makes the interpreter\u001b[39;00m\n\u001b[32m   2002\u001b[39m \u001b[38;5;66;03m# progress until it enters the Try/Except block of the generator and\u001b[39;00m\n\u001b[32m   2003\u001b[39m \u001b[38;5;66;03m# reaches the first `yield` statement. This starts the asynchronous\u001b[39;00m\n\u001b[32m   2004\u001b[39m \u001b[38;5;66;03m# dispatch of the tasks to the workers.\u001b[39;00m\n\u001b[32m   2005\u001b[39m \u001b[38;5;28mnext\u001b[39m(output)\n\u001b[32m-> \u001b[39m\u001b[32m2007\u001b[39m \u001b[38;5;28;01mreturn\u001b[39;00m output \u001b[38;5;28;01mif\u001b[39;00m \u001b[38;5;28mself\u001b[39m.return_generator \u001b[38;5;28;01melse\u001b[39;00m \u001b[38;5;28;43mlist\u001b[39;49m\u001b[43m(\u001b[49m\u001b[43moutput\u001b[49m\u001b[43m)\u001b[49m\n",
      "\u001b[36mFile \u001b[39m\u001b[32md:\\Git-GitHub\\Repositories\\Mastery-Project-Masterschool\\mastery-project-masterschool\\.venv\\Lib\\site-packages\\joblib\\parallel.py:1650\u001b[39m, in \u001b[36mParallel._get_outputs\u001b[39m\u001b[34m(self, iterator, pre_dispatch)\u001b[39m\n\u001b[32m   1647\u001b[39m     \u001b[38;5;28;01myield\u001b[39;00m\n\u001b[32m   1649\u001b[39m     \u001b[38;5;28;01mwith\u001b[39;00m \u001b[38;5;28mself\u001b[39m._backend.retrieval_context():\n\u001b[32m-> \u001b[39m\u001b[32m1650\u001b[39m         \u001b[38;5;28;01myield from\u001b[39;00m \u001b[38;5;28mself\u001b[39m._retrieve()\n\u001b[32m   1652\u001b[39m \u001b[38;5;28;01mexcept\u001b[39;00m \u001b[38;5;167;01mGeneratorExit\u001b[39;00m:\n\u001b[32m   1653\u001b[39m     \u001b[38;5;66;03m# The generator has been garbage collected before being fully\u001b[39;00m\n\u001b[32m   1654\u001b[39m     \u001b[38;5;66;03m# consumed. This aborts the remaining tasks if possible and warn\u001b[39;00m\n\u001b[32m   1655\u001b[39m     \u001b[38;5;66;03m# the user if necessary.\u001b[39;00m\n\u001b[32m   1656\u001b[39m     \u001b[38;5;28mself\u001b[39m._exception = \u001b[38;5;28;01mTrue\u001b[39;00m\n",
      "\u001b[36mFile \u001b[39m\u001b[32md:\\Git-GitHub\\Repositories\\Mastery-Project-Masterschool\\mastery-project-masterschool\\.venv\\Lib\\site-packages\\joblib\\parallel.py:1762\u001b[39m, in \u001b[36mParallel._retrieve\u001b[39m\u001b[34m(self)\u001b[39m\n\u001b[32m   1757\u001b[39m \u001b[38;5;66;03m# If the next job is not ready for retrieval yet, we just wait for\u001b[39;00m\n\u001b[32m   1758\u001b[39m \u001b[38;5;66;03m# async callbacks to progress.\u001b[39;00m\n\u001b[32m   1759\u001b[39m \u001b[38;5;28;01mif\u001b[39;00m ((\u001b[38;5;28mlen\u001b[39m(\u001b[38;5;28mself\u001b[39m._jobs) == \u001b[32m0\u001b[39m) \u001b[38;5;129;01mor\u001b[39;00m\n\u001b[32m   1760\u001b[39m     (\u001b[38;5;28mself\u001b[39m._jobs[\u001b[32m0\u001b[39m].get_status(\n\u001b[32m   1761\u001b[39m         timeout=\u001b[38;5;28mself\u001b[39m.timeout) == TASK_PENDING)):\n\u001b[32m-> \u001b[39m\u001b[32m1762\u001b[39m     \u001b[43mtime\u001b[49m\u001b[43m.\u001b[49m\u001b[43msleep\u001b[49m\u001b[43m(\u001b[49m\u001b[32;43m0.01\u001b[39;49m\u001b[43m)\u001b[49m\n\u001b[32m   1763\u001b[39m     \u001b[38;5;28;01mcontinue\u001b[39;00m\n\u001b[32m   1765\u001b[39m \u001b[38;5;66;03m# We need to be careful: the job list can be filling up as\u001b[39;00m\n\u001b[32m   1766\u001b[39m \u001b[38;5;66;03m# we empty it and Python list are not thread-safe by\u001b[39;00m\n\u001b[32m   1767\u001b[39m \u001b[38;5;66;03m# default hence the use of the lock\u001b[39;00m\n",
      "\u001b[31mKeyboardInterrupt\u001b[39m: "
     ]
    }
   ],
   "source": [
    "from sklearn.ensemble import RandomForestClassifier\n",
    "from sklearn.model_selection import RepeatedStratifiedKFold, GridSearchCV\n",
    "from sklearn.metrics import precision_score, recall_score, f1_score, accuracy_score, make_scorer\n",
    "import numpy as np\n",
    "import pandas as pd\n",
    "import matplotlib.pyplot as plt\n",
    "\n",
    "# Features and target\n",
    "X_features = df_user_features[[\n",
    "    \"total_sessions\",\n",
    "    \"cancellation_rate\",\n",
    "    \"discount_usage_rate\",\n",
    "    \"total_nights\",\n",
    "    \"total_checked_bags\",\n",
    "    \"total_base_fare\"\n",
    "]]\n",
    "y_labels = df_user_features[\"cluster\"]\n",
    "\n",
    "# Cross-validation setup\n",
    "rskf = RepeatedStratifiedKFold(n_splits=5, n_repeats=1, random_state=42)\n",
    "\n",
    "# Parameter grid for tuning\n",
    "param_grid = {\n",
    "    \"n_estimators\": [50, 100, 150],\n",
    "    \"max_depth\": [None, 5, 10],\n",
    "    \"min_samples_split\": [2, 5]\n",
    "}\n",
    "\n",
    "# Scoring dictionary\n",
    "scoring = {\n",
    "    \"precision\": make_scorer(precision_score, average='weighted', zero_division=0),\n",
    "    \"recall\": make_scorer(recall_score, average='weighted', zero_division=0),\n",
    "    \"f1\": make_scorer(f1_score, average='weighted', zero_division=0),\n",
    "    \"accuracy\": make_scorer(accuracy_score)\n",
    "}\n",
    "\n",
    "# GridSearchCV setup\n",
    "base_model = RandomForestClassifier(class_weight=\"balanced\", random_state=42)\n",
    "grid_search = GridSearchCV(base_model, param_grid, cv=rskf, scoring=scoring, refit=\"f1\", n_jobs=-1)\n",
    "grid_search.fit(X_features, y_labels)\n",
    "\n",
    "# Best parameters\n",
    "best_params = grid_search.best_params_\n",
    "print(\"\\n🏆 Best Parameters Found:\")\n",
    "print(best_params)\n",
    "\n",
    "# Best estimator\n",
    "best_model = grid_search.best_estimator_\n",
    "\n",
    "# Full evaluation\n",
    "rskf_full = RepeatedStratifiedKFold(n_splits=5, n_repeats=20, random_state=42)\n",
    "all_splits = list(rskf_full.split(X_features, y_labels))\n",
    "\n",
    "precision_scores = []\n",
    "recall_scores = []\n",
    "f1_scores = []\n",
    "accuracy_scores = []\n",
    "bad_folds = []\n",
    "\n",
    "for i, (train_index, test_index) in enumerate(all_splits):\n",
    "    X_train, X_test = X_features.iloc[train_index], X_features.iloc[test_index]\n",
    "    y_train, y_test = y_labels.iloc[train_index], y_labels.iloc[test_index]\n",
    "\n",
    "    best_model.fit(X_train, y_train)\n",
    "    y_pred = best_model.predict(X_test)\n",
    "\n",
    "    precision = precision_score(y_test, y_pred, average='weighted', zero_division=0)\n",
    "    recall = recall_score(y_test, y_pred, average='weighted', zero_division=0)\n",
    "    f1 = f1_score(y_test, y_pred, average='weighted', zero_division=0)\n",
    "    accuracy = accuracy_score(y_test, y_pred)\n",
    "\n",
    "    precision_scores.append(precision)\n",
    "    recall_scores.append(recall)\n",
    "    f1_scores.append(f1)\n",
    "    accuracy_scores.append(accuracy)\n",
    "\n",
    "    if precision < 0.70:\n",
    "        bad_folds.append({\n",
    "            \"fold\": i,\n",
    "            \"precision\": round(precision, 4),\n",
    "            \"recall\": round(recall, 4),\n",
    "            \"f1\": round(f1, 4),\n",
    "            \"accuracy\": round(accuracy, 4),\n",
    "            \"y_test\": y_test.value_counts().to_dict(),\n",
    "            \"y_pred\": pd.Series(y_pred).value_counts().to_dict()\n",
    "        })\n",
    "\n",
    "# Summary\n",
    "print(\"\\n📊 Aggregated Results (100 iterations):\")\n",
    "print(f\"Precision (weighted): {np.mean(precision_scores):.4f} ± {np.std(precision_scores):.4f}\")\n",
    "print(f\"Recall    (weighted): {np.mean(recall_scores):.4f} ± {np.std(recall_scores):.4f}\")\n",
    "print(f\"F1-Score  (weighted): {np.mean(f1_scores):.4f} ± {np.std(f1_scores):.4f}\")\n",
    "print(f\"Accuracy             : {np.mean(accuracy_scores):.4f} ± {np.std(accuracy_scores):.4f}\")\n",
    "\n",
    "# Export weak folds\n",
    "if bad_folds:\n",
    "    print(f\"\\n⚠️ {len(bad_folds)} folds with precision < 0.70\")\n",
    "    export_data = []\n",
    "    for fold in bad_folds:\n",
    "        for label in sorted(set(list(fold[\"y_test\"].keys()) + list(fold[\"y_pred\"].keys()))):\n",
    "            export_data.append({\n",
    "                \"fold\": fold[\"fold\"],\n",
    "                \"precision\": fold[\"precision\"],\n",
    "                \"recall\": fold[\"recall\"],\n",
    "                \"f1\": fold[\"f1\"],\n",
    "                \"accuracy\": fold[\"accuracy\"],\n",
    "                \"label\": label,\n",
    "                \"y_test_count\": fold[\"y_test\"].get(label, 0),\n",
    "                \"y_pred_count\": fold[\"y_pred\"].get(label, 0),\n",
    "            })\n",
    "\n",
    "    df_export_v1 = pd.DataFrame(export_data)\n",
    "    df_export_v1.to_csv(\"weak_folds_summary_2.csv\", index=False)\n",
    "    print(\"💾 Exported weak folds to 'weak_folds_summary_2.csv'\")\n",
    "\n",
    "    seen_folds = set()\n",
    "    for fold in bad_folds:\n",
    "        fold_id = fold[\"fold\"]\n",
    "        if fold_id in seen_folds:\n",
    "            continue\n",
    "        seen_folds.add(fold_id)\n",
    "\n",
    "        labels = sorted(set(list(fold[\"y_test\"].keys()) + list(fold[\"y_pred\"].keys())))\n",
    "        y_test_vals = [fold[\"y_test\"].get(label, 0) for label in labels]\n",
    "        y_pred_vals = [fold[\"y_pred\"].get(label, 0) for label in labels]\n",
    "\n",
    "        x = np.arange(len(labels))\n",
    "        width = 0.35\n",
    "\n",
    "        plt.figure(figsize=(6, 4))\n",
    "        plt.bar(x - width/2, y_test_vals, width, label='y_test', color='royalblue')\n",
    "        plt.bar(x + width/2, y_pred_vals, width, label='y_pred', color='darkorange')\n",
    "        plt.xticks(x, labels)\n",
    "        plt.xlabel(\"Cluster Label\")\n",
    "        plt.ylabel(\"Count\")\n",
    "        plt.title(f\"Fold {fold_id} – Label distribution\")\n",
    "        plt.legend()\n",
    "        plt.grid(axis='y')\n",
    "        plt.tight_layout()\n",
    "        plt.show()\n",
    "else:\n",
    "    print(\"\\n✅ No weak folds detected (precision < 0.70)\")\n",
    "\n",
    "# 📊 Boxplot\n",
    "plt.figure(figsize=(10, 6))\n",
    "plt.boxplot(\n",
    "    [precision_scores, recall_scores, f1_scores, accuracy_scores],\n",
    "    tick_labels=[\"Precision\", \"Recall\", \"F1-Score\", \"Accuracy\"]\n",
    ")\n",
    "plt.title(\"Distribution of Metrics (Repeated Stratified K-Fold)\")\n",
    "plt.ylabel(\"Score\")\n",
    "plt.grid(True)\n",
    "plt.tight_layout()\n",
    "plt.show()\n",
    "\n",
    "# 📈 Line Plot\n",
    "plt.figure(figsize=(12, 6))\n",
    "plt.plot(precision_scores, label=\"Precision\")\n",
    "plt.plot(recall_scores, label=\"Recall\")\n",
    "plt.plot(f1_scores, label=\"F1-Score\")\n",
    "plt.plot(accuracy_scores, label=\"Accuracy\")\n",
    "plt.title(\"Metrics over 100 Iterations\")\n",
    "plt.xlabel(\"Iteration\")\n",
    "plt.ylabel(\"Score\")\n",
    "plt.legend()\n",
    "plt.grid(True)\n",
    "plt.tight_layout()\n",
    "plt.show()\n"
   ]
  },
  {
   "cell_type": "markdown",
   "id": "983bb1de",
   "metadata": {},
   "source": [
    "## 3. Trial – XGBoost Classifier  \n",
    "- **Tree Method: hist**  \n",
    "- **Repeated Stratified K-Fold**  \n",
    "- **GridSearchCV**  \n",
    "- **Weak Fold Export (precision < 0.70)**  \n",
    "- **Boxplot + Line Plot**  "
   ]
  },
  {
   "cell_type": "code",
   "execution_count": null,
   "id": "255a73f4",
   "metadata": {},
   "outputs": [],
   "source": [
    "from xgboost import XGBClassifier\n",
    "from sklearn.model_selection import RepeatedStratifiedKFold, GridSearchCV\n",
    "from sklearn.metrics import precision_score, recall_score, f1_score, accuracy_score, make_scorer\n",
    "import numpy as np\n",
    "import pandas as pd\n",
    "import matplotlib.pyplot as plt\n",
    "\n",
    "# Features and target\n",
    "X_features = df_user_features[[\n",
    "    \"total_sessions\",\n",
    "    \"cancellation_rate\",\n",
    "    \"discount_usage_rate\",\n",
    "    \"total_nights\",\n",
    "    \"total_checked_bags\",\n",
    "    \"total_base_fare\"\n",
    "]]\n",
    "y_labels = df_user_features[\"cluster\"]\n",
    "\n",
    "# Cross-validation setup\n",
    "rskf = RepeatedStratifiedKFold(n_splits=5, n_repeats=1, random_state=42)\n",
    "\n",
    "# Grid for efficient tuning\n",
    "param_grid = {\n",
    "    \"n_estimators\": [50],\n",
    "    \"max_depth\": [3, 5],\n",
    "    \"learning_rate\": [0.1],\n",
    "    \"subsample\": [1.0]\n",
    "}\n",
    "\n",
    "# Scoring\n",
    "scoring = {\n",
    "    \"precision\": make_scorer(precision_score, average='weighted', zero_division=0),\n",
    "    \"recall\": make_scorer(recall_score, average='weighted', zero_division=0),\n",
    "    \"f1\": make_scorer(f1_score, average='weighted', zero_division=0),\n",
    "    \"accuracy\": make_scorer(accuracy_score)\n",
    "}\n",
    "\n",
    "# CPU-only XGBoost\n",
    "base_model = XGBClassifier(\n",
    "    eval_metric='mlogloss',\n",
    "    tree_method=\"hist\",\n",
    "    random_state=42\n",
    ")\n",
    "\n",
    "# GridSearchCV\n",
    "grid_search = GridSearchCV(\n",
    "    base_model,\n",
    "    param_grid,\n",
    "    cv=rskf,\n",
    "    scoring=scoring,\n",
    "    refit=\"f1\",\n",
    "    n_jobs=2,\n",
    "    error_score='raise'\n",
    ")\n",
    "grid_search.fit(X_features, y_labels)\n",
    "\n",
    "# Best params\n",
    "best_params = grid_search.best_params_\n",
    "print(\"\\n🏆 Best Parameters Found:\")\n",
    "print(best_params)\n",
    "\n",
    "# Best model\n",
    "best_model = grid_search.best_estimator_\n",
    "\n",
    "# Full CV\n",
    "rskf_full = RepeatedStratifiedKFold(n_splits=5, n_repeats=20, random_state=42)\n",
    "all_splits = list(rskf_full.split(X_features, y_labels))\n",
    "\n",
    "precision_scores = []\n",
    "recall_scores = []\n",
    "f1_scores = []\n",
    "accuracy_scores = []\n",
    "bad_folds = []\n",
    "\n",
    "for i, (train_index, test_index) in enumerate(all_splits):\n",
    "    X_train, X_test = X_features.iloc[train_index], X_features.iloc[test_index]\n",
    "    y_train, y_test = y_labels.iloc[train_index], y_labels.iloc[test_index]\n",
    "\n",
    "    best_model.fit(X_train, y_train)\n",
    "    y_pred = best_model.predict(X_test)\n",
    "\n",
    "    precision = precision_score(y_test, y_pred, average='weighted', zero_division=0)\n",
    "    recall = recall_score(y_test, y_pred, average='weighted', zero_division=0)\n",
    "    f1 = f1_score(y_test, y_pred, average='weighted', zero_division=0)\n",
    "    accuracy = accuracy_score(y_test, y_pred)\n",
    "\n",
    "    precision_scores.append(precision)\n",
    "    recall_scores.append(recall)\n",
    "    f1_scores.append(f1)\n",
    "    accuracy_scores.append(accuracy)\n",
    "\n",
    "    if precision < 0.70:\n",
    "        bad_folds.append({\n",
    "            \"fold\": i,\n",
    "            \"precision\": round(precision, 4),\n",
    "            \"recall\": round(recall, 4),\n",
    "            \"f1\": round(f1, 4),\n",
    "            \"accuracy\": round(accuracy, 4),\n",
    "            \"y_test\": y_test.value_counts().to_dict(),\n",
    "            \"y_pred\": pd.Series(y_pred).value_counts().to_dict()\n",
    "        })\n",
    "\n",
    "# Summary\n",
    "print(\"\\n📊 Aggregated Results (100 iterations):\")\n",
    "print(f\"Precision (weighted): {np.mean(precision_scores):.4f} ± {np.std(precision_scores):.4f}\")\n",
    "print(f\"Recall    (weighted): {np.mean(recall_scores):.4f} ± {np.std(recall_scores):.4f}\")\n",
    "print(f\"F1-Score  (weighted): {np.mean(f1_scores):.4f} ± {np.std(f1_scores):.4f}\")\n",
    "print(f\"Accuracy             : {np.mean(accuracy_scores):.4f} ± {np.std(accuracy_scores):.4f}\")\n",
    "\n",
    "# Export weak folds\n",
    "if bad_folds:\n",
    "    print(f\"\\n⚠️ {len(bad_folds)} folds with precision < 0.70\")\n",
    "\n",
    "    export_data = []\n",
    "    for fold in bad_folds:\n",
    "        for label in sorted(set(list(fold[\"y_test\"].keys()) + list(fold[\"y_pred\"].keys()))):\n",
    "            export_data.append({\n",
    "                \"fold\": fold[\"fold\"],\n",
    "                \"precision\": fold[\"precision\"],\n",
    "                \"recall\": fold[\"recall\"],\n",
    "                \"f1\": fold[\"f1\"],\n",
    "                \"accuracy\": fold[\"accuracy\"],\n",
    "                \"label\": label,\n",
    "                \"y_test_count\": fold[\"y_test\"].get(label, 0),\n",
    "                \"y_pred_count\": fold[\"y_pred\"].get(label, 0),\n",
    "            })\n",
    "\n",
    "    df_export_v1 = pd.DataFrame(export_data)\n",
    "    df_export_v1.to_csv(\"weak_folds_summary_xgb.csv\", index=False)\n",
    "    print(\"💾 Exported weak folds to 'weak_folds_summary_xgb.csv'\")\n",
    "\n",
    "    seen_folds = set()\n",
    "    for fold in bad_folds:\n",
    "        fold_id = fold[\"fold\"]\n",
    "        if fold_id in seen_folds:\n",
    "            continue\n",
    "        seen_folds.add(fold_id)\n",
    "\n",
    "        labels = sorted(set(list(fold[\"y_test\"].keys()) + list(fold[\"y_pred\"].keys())))\n",
    "        y_test_vals = [fold[\"y_test\"].get(label, 0) for label in labels]\n",
    "        y_pred_vals = [fold[\"y_pred\"].get(label, 0) for label in labels]\n",
    "\n",
    "        x = np.arange(len(labels))\n",
    "        width = 0.35\n",
    "\n",
    "        plt.figure(figsize=(6, 4))\n",
    "        plt.bar(x - width/2, y_test_vals, width, label='y_test', color='royalblue')\n",
    "        plt.bar(x + width/2, y_pred_vals, width, label='y_pred', color='darkorange')\n",
    "        plt.xticks(x, labels)\n",
    "        plt.xlabel(\"Cluster Label\")\n",
    "        plt.ylabel(\"Count\")\n",
    "        plt.title(f\"Fold {fold_id} – Label distribution\")\n",
    "        plt.legend()\n",
    "        plt.grid(axis='y')\n",
    "        plt.tight_layout()\n",
    "        plt.show()\n",
    "else:\n",
    "    print(\"\\n✅ No weak folds detected (precision < 0.70)\")\n",
    "\n",
    "# 📊 Boxplot\n",
    "plt.figure(figsize=(10, 6))\n",
    "plt.boxplot(\n",
    "    [precision_scores, recall_scores, f1_scores, accuracy_scores],\n",
    "    tick_labels=[\"Precision\", \"Recall\", \"F1-Score\", \"Accuracy\"]\n",
    ")\n",
    "plt.title(\"Distribution of Metrics (XGBoost Repeated Stratified K-Fold)\")\n",
    "plt.ylabel(\"Score\")\n",
    "plt.grid(True)\n",
    "plt.tight_layout()\n",
    "plt.show()\n",
    "\n",
    "# 📈 Line Plot\n",
    "plt.figure(figsize=(12, 6))\n",
    "plt.plot(precision_scores, label=\"Precision\")\n",
    "plt.plot(recall_scores, label=\"Recall\")\n",
    "plt.plot(f1_scores, label=\"F1-Score\")\n",
    "plt.plot(accuracy_scores, label=\"Accuracy\")\n",
    "plt.title(\"XGBoost Metrics over 100 Iterations\")\n",
    "plt.xlabel(\"Iteration\")\n",
    "plt.ylabel(\"Score\")\n",
    "plt.legend()\n",
    "plt.grid(True)\n",
    "plt.tight_layout()\n",
    "plt.show()\n"
   ]
  },
  {
   "cell_type": "markdown",
   "id": "a0c71977",
   "metadata": {},
   "source": [
    "## 4. Trial – VotingClassifier (Random Forest + XGBoost)  \n",
    "- **Soft Voting**  \n",
    "- **Repeated Stratified K-Fold**  \n",
    "- **ROC-AUC Score Included**  \n",
    "- **Weak Fold Export (precision < 0.70)**  \n"
   ]
  },
  {
   "cell_type": "code",
   "execution_count": null,
   "id": "f28cc355",
   "metadata": {},
   "outputs": [],
   "source": [
    "from sklearn.ensemble import RandomForestClassifier, VotingClassifier\n",
    "from xgboost import XGBClassifier\n",
    "from sklearn.model_selection import RepeatedStratifiedKFold\n",
    "from sklearn.metrics import precision_score, recall_score, f1_score, accuracy_score, roc_auc_score\n",
    "import numpy as np\n",
    "import pandas as pd\n",
    "import matplotlib.pyplot as plt\n",
    "\n",
    "# Features and target\n",
    "X_features = df_user_features[[\n",
    "    \"total_sessions\",\n",
    "    \"cancellation_rate\",\n",
    "    \"discount_usage_rate\",\n",
    "    \"total_nights\",\n",
    "    \"total_checked_bags\",\n",
    "    \"total_base_fare\"\n",
    "]]\n",
    "y_labels = df_user_features[\"cluster\"]\n",
    "\n",
    "# Base models\n",
    "rf = RandomForestClassifier(\n",
    "    n_estimators=50,\n",
    "    max_depth=None,\n",
    "    min_samples_split=5,\n",
    "    class_weight=\"balanced\",\n",
    "    random_state=42\n",
    ")\n",
    "\n",
    "xgb = XGBClassifier(\n",
    "    learning_rate=0.1,\n",
    "    max_depth=3,\n",
    "    n_estimators=50,\n",
    "    subsample=1.0,\n",
    "    tree_method=\"hist\",\n",
    "    eval_metric=\"mlogloss\",\n",
    "    random_state=42\n",
    ")\n",
    "\n",
    "# Voting classifier (soft voting)\n",
    "voting_model = VotingClassifier(\n",
    "    estimators=[(\"rf\", rf), (\"xgb\", xgb)],\n",
    "    voting=\"soft\"\n",
    ")\n",
    "\n",
    "# Cross-validation setup\n",
    "rskf = RepeatedStratifiedKFold(n_splits=5, n_repeats=20, random_state=42)\n",
    "all_splits = list(rskf.split(X_features, y_labels))\n",
    "\n",
    "# Collectors\n",
    "precision_scores = []\n",
    "recall_scores = []\n",
    "f1_scores = []\n",
    "accuracy_scores = []\n",
    "auc_scores = []\n",
    "bad_folds = []\n",
    "\n",
    "for i, (train_idx, test_idx) in enumerate(all_splits):\n",
    "    X_train, X_test = X_features.iloc[train_idx], X_features.iloc[test_idx]\n",
    "    y_train, y_test = y_labels.iloc[train_idx], y_labels.iloc[test_idx]\n",
    "\n",
    "    voting_model.fit(X_train, y_train)\n",
    "    y_pred = voting_model.predict(X_test)\n",
    "    y_proba = voting_model.predict_proba(X_test)\n",
    "\n",
    "    precision = precision_score(y_test, y_pred, average=\"weighted\", zero_division=0)\n",
    "    recall = recall_score(y_test, y_pred, average=\"weighted\", zero_division=0)\n",
    "    f1 = f1_score(y_test, y_pred, average=\"weighted\", zero_division=0)\n",
    "    accuracy = accuracy_score(y_test, y_pred)\n",
    "\n",
    "    try:\n",
    "        auc = roc_auc_score(y_test, y_proba, multi_class=\"ovr\", average=\"weighted\")\n",
    "    except:\n",
    "        auc = np.nan  # Fallback for folds with missing classes\n",
    "\n",
    "    precision_scores.append(precision)\n",
    "    recall_scores.append(recall)\n",
    "    f1_scores.append(f1)\n",
    "    accuracy_scores.append(accuracy)\n",
    "    auc_scores.append(auc)\n",
    "\n",
    "    if precision < 0.70:\n",
    "        bad_folds.append({\n",
    "            \"fold\": i,\n",
    "            \"precision\": round(precision, 4),\n",
    "            \"recall\": round(recall, 4),\n",
    "            \"f1\": round(f1, 4),\n",
    "            \"accuracy\": round(accuracy, 4),\n",
    "            \"roc_auc\": round(auc, 4) if not np.isnan(auc) else \"NaN\",\n",
    "            \"y_test\": y_test.value_counts().to_dict(),\n",
    "            \"y_pred\": pd.Series(y_pred).value_counts().to_dict()\n",
    "        })\n",
    "\n",
    "# Summary\n",
    "print(\"\\n📊 Aggregated Results (100 iterations):\")\n",
    "print(f\"Precision (weighted): {np.mean(precision_scores):.4f} ± {np.std(precision_scores):.4f}\")\n",
    "print(f\"Recall    (weighted): {np.mean(recall_scores):.4f} ± {np.std(recall_scores):.4f}\")\n",
    "print(f\"F1-Score  (weighted): {np.mean(f1_scores):.4f} ± {np.std(f1_scores):.4f}\")\n",
    "print(f\"Accuracy             : {np.mean(accuracy_scores):.4f} ± {np.std(accuracy_scores):.4f}\")\n",
    "print(f\"ROC-AUC              : {np.nanmean(auc_scores):.4f} ± {np.nanstd(auc_scores):.4f}\")\n",
    "\n",
    "# Export & Visualize weak folds\n",
    "if bad_folds:\n",
    "    print(f\"\\n⚠️ {len(bad_folds)} folds with precision < 0.70\")\n",
    "\n",
    "    export_data = []\n",
    "    for fold in bad_folds:\n",
    "        for label in sorted(set(list(fold[\"y_test\"].keys()) + list(fold[\"y_pred\"].keys()))):\n",
    "            export_data.append({\n",
    "                \"fold\": fold[\"fold\"],\n",
    "                \"precision\": fold[\"precision\"],\n",
    "                \"recall\": fold[\"recall\"],\n",
    "                \"f1\": fold[\"f1\"],\n",
    "                \"accuracy\": fold[\"accuracy\"],\n",
    "                \"roc_auc\": fold[\"roc_auc\"],\n",
    "                \"label\": label,\n",
    "                \"y_test_count\": fold[\"y_test\"].get(label, 0),\n",
    "                \"y_pred_count\": fold[\"y_pred\"].get(label, 0),\n",
    "            })\n",
    "\n",
    "    df_export_v1 = pd.DataFrame(export_data)\n",
    "    df_export_v1.to_csv(\"weak_folds_summary_voting.csv\", index=False)\n",
    "    print(\"💾 Exported weak folds to 'weak_folds_summary_voting.csv'\")\n",
    "\n",
    "    seen_folds = set()\n",
    "    for fold in bad_folds:\n",
    "        fold_id = fold[\"fold\"]\n",
    "        if fold_id in seen_folds:\n",
    "            continue\n",
    "        seen_folds.add(fold_id)\n",
    "\n",
    "        labels = sorted(set(list(fold[\"y_test\"].keys()) + list(fold[\"y_pred\"].keys())))\n",
    "        y_test_vals = [fold[\"y_test\"].get(label, 0) for label in labels]\n",
    "        y_pred_vals = [fold[\"y_pred\"].get(label, 0) for label in labels]\n",
    "\n",
    "        x = np.arange(len(labels))\n",
    "        width = 0.35\n",
    "\n",
    "        plt.figure(figsize=(6, 4))\n",
    "        plt.bar(x - width/2, y_test_vals, width, label='y_test', color='royalblue')\n",
    "        plt.bar(x + width/2, y_pred_vals, width, label='y_pred', color='darkorange')\n",
    "        plt.xticks(x, labels)\n",
    "        plt.xlabel(\"Cluster Label\")\n",
    "        plt.ylabel(\"Count\")\n",
    "        plt.title(f\"Fold {fold_id} – Label distribution\")\n",
    "        plt.legend()\n",
    "        plt.grid(axis='y')\n",
    "        plt.tight_layout()\n",
    "        plt.show()\n",
    "else:\n",
    "    print(\"\\n✅ No weak folds detected (precision < 0.70)\")\n",
    "\n",
    "# 📊 Boxplot (incl. ROC-AUC)\n",
    "plt.figure(figsize=(10, 6))\n",
    "plt.boxplot(\n",
    "    [precision_scores, recall_scores, f1_scores, accuracy_scores, [a for a in auc_scores if not np.isnan(a)]],\n",
    "    tick_labels=[\"Precision\", \"Recall\", \"F1-Score\", \"Accuracy\", \"ROC-AUC\"]\n",
    ")\n",
    "plt.title(\"VotingClassifier – Metric Distribution (CV)\")\n",
    "plt.ylabel(\"Score\")\n",
    "plt.grid(True)\n",
    "plt.tight_layout()\n",
    "plt.show()\n",
    "\n",
    "# 📈 Line Plot (incl. ROC-AUC)\n",
    "plt.figure(figsize=(12, 6))\n",
    "plt.plot(precision_scores, label=\"Precision\")\n",
    "plt.plot(recall_scores, label=\"Recall\")\n",
    "plt.plot(f1_scores, label=\"F1-Score\")\n",
    "plt.plot(accuracy_scores, label=\"Accuracy\")\n",
    "plt.plot(auc_scores, label=\"ROC-AUC\")\n",
    "plt.title(\"VotingClassifier – Metrics over 100 Iterations\")\n",
    "plt.xlabel(\"Iteration\")\n",
    "plt.ylabel(\"Score\")\n",
    "plt.legend()\n",
    "plt.grid(True)\n",
    "plt.tight_layout()\n",
    "plt.show()\n"
   ]
  },
  {
   "cell_type": "markdown",
   "id": "ace2085f",
   "metadata": {},
   "source": [
    "## **Model Development Summary – Random Forest, XGBoost, and VotingClassifier**\n",
    "\n",
    "---\n",
    "\n",
    "### **1. Dataset Context**\n",
    "\n",
    "The modeling process is based on a user behavior dataset containing **79 users**, each with at least 7 sessions since 2023-01-04. The classification target is a 4-class cluster label distribution:\n",
    "\n",
    "| Cluster | Count | Percentage |\n",
    "|---------|--------|------------|\n",
    "| 3       | 34     | 43.0%      |\n",
    "| 1       | 23     | 29.1%      |\n",
    "| 0       | 14     | 17.7%      |\n",
    "| 2       | 8      | 10.1%      |\n",
    "\n",
    "The imbalance—especially for class 2—affects model stability, particularly in folds with few samples from rare classes.\n",
    "\n",
    "---\n",
    "\n",
    "### **1. Trial – Random Forest Classifier (Baseline)**\n",
    "\n",
    "- `class_weight=\"balanced\"`  \n",
    "- Repeated Stratified K-Fold (5x20)  \n",
    "- No tuning  \n",
    "- Weak fold export (none detected)  \n",
    "- Visuals: boxplot + line plot\n",
    "\n",
    "**Result**  \n",
    "- **Precision**: 0.9897 ± 0.0013  \n",
    "- **Recall**: 0.9897 ± 0.0013  \n",
    "- **F1-Score**: 0.9896 ± 0.0013  \n",
    "- **Accuracy**: 0.9897 ± 0.0013  \n",
    "\n",
    "✅ No weak folds were detected. All metrics were tightly clustered with minimal variance, indicating consistent baseline performance.\n",
    "\n",
    "---\n",
    "\n",
    "### **2. Trial – Random Forest + GridSearchCV**\n",
    "\n",
    "- `class_weight=\"balanced\"`  \n",
    "- Tuned via GridSearchCV  \n",
    "- Best params: `{'max_depth': None, 'min_samples_split': 2, 'n_estimators': 150}`  \n",
    "- Repeated Stratified K-Fold (5x20)  \n",
    "- Weak fold export (none detected)  \n",
    "- Visuals: boxplot + line plot\n",
    "\n",
    "**Result**  \n",
    "- **Precision**: 0.9898 ± 0.0013  \n",
    "- **Recall**: 0.9898 ± 0.0013  \n",
    "- **F1-Score**: 0.9897 ± 0.0013  \n",
    "- **Accuracy**: 0.9898 ± 0.0013  \n",
    "\n",
    "Tuning improved general performance and consistency across iterations.\n",
    "\n",
    "---\n",
    "\n",
    "### **3. Trial – XGBoost Classifier**\n",
    "\n",
    "- `tree_method=\"hist\"` for CPU optimization  \n",
    "- Tuned via GridSearchCV  \n",
    "- Best params: `{'learning_rate': 0.1, 'max_depth': 5, 'n_estimators': 50, 'subsample': 1.0}`  \n",
    "- Repeated Stratified K-Fold (5x20)  \n",
    "- Weak fold export (none detected)  \n",
    "- Visuals: boxplot + line plot\n",
    "\n",
    "**Result**  \n",
    "- **Precision**: 0.9842 ± 0.0017  \n",
    "- **Recall**: 0.9842 ± 0.0017  \n",
    "- **F1-Score**: 0.9841 ± 0.0017  \n",
    "- **Accuracy**: 0.9842 ± 0.0017  \n",
    "\n",
    "Compared to Random Forest, XGBoost showed slightly lower average scores with more spread—suggesting sensitivity to class imbalance.\n",
    "\n",
    "---\n",
    "\n",
    "### **4. Trial – VotingClassifier (Random Forest + XGBoost)**\n",
    "\n",
    "- Combined soft voting model  \n",
    "- GridSearch results reused  \n",
    "- RF with `class_weight=\"balanced\"`  \n",
    "- ROC-AUC added  \n",
    "- Weak fold export (none detected)  \n",
    "- Visuals: extended with ROC-AUC in boxplot & line plot\n",
    "\n",
    "**Result**  \n",
    "- **Precision**: 0.9878 ± 0.0013  \n",
    "- **Recall**: 0.9879 ± 0.0013  \n",
    "- **F1-Score**: 0.9878 ± 0.0013  \n",
    "- **Accuracy**: 0.9879 ± 0.0013  \n",
    "- **ROC-AUC**: 0.9997 ± 0.0001  \n",
    "\n",
    "VotingClassifier delivered near-perfect AUC with highly stable classification results—confirming it as the most balanced model across metrics.\n",
    "\n",
    "---\n",
    "\n",
    "## **Cluster Validation – Linking Classification to Perk Assignment**\n",
    "\n",
    "KMeans clustering (k=4) was used to define user segments based on behavior. Each group was then interpreted and validated by predicting cluster membership using behavioral features only.\n",
    "\n",
    "| Cluster | Segment Summary                                 | Classification Accuracy | Assigned Perk               |\n",
    "|---------|-------------------------------------------------|--------------------------|------------------------------|\n",
    "| 0       | Rare flyers, high spenders, check in more bags  | 2/3 correct              | 🎁 Exclusive Discounts        |\n",
    "| 1       | Budget-conscious, discount users, moderate cancels | 5/5 correct              | 🧳 Free Checked Bag           |\n",
    "| 2       | High-frequency users, many cancellations        | 1/1 correct              | ❌ No Cancellation Fees       |\n",
    "| 3       | Steady users, average behavior across metrics   | 7/7 correct              | 🏨 1 Night Free with Flight   |\n",
    "\n",
    "Segments 1–3 exhibited high internal consistency. Cluster 0 showed more behavioral variance and may benefit from future re-segmentation.\n"
   ]
  },
  {
   "cell_type": "markdown",
   "id": "17ef082c",
   "metadata": {},
   "source": [
    "## **From Clusters to Perks – Methodological Approach to Perk Assignment**"
   ]
  },
  {
   "cell_type": "markdown",
   "id": "c943c09e",
   "metadata": {},
   "source": [
    "\n",
    "After forming the clusters using **KMeans (k=4)**, I analyzed each cluster to identify typical **behavioral patterns** such as booking frequency, use of discounts, cancellation rates, and number of checked bags.\n",
    "\n",
    "To ensure these patterns were consistent and distinctive, I applied a **classification model (e.g., Decision Tree or RandomForest)** to predict cluster membership using behavioral features only.\n",
    "\n",
    "The **more accurately a cluster could be predicted**, the more consistent the behavior within it, which supports confident and targeted perk assignment.\n",
    "\n",
    "**The perk assignment was based on the following reasoning:**\n",
    "\n",
    "- **Cluster 0**: infrequent flyers, high spenders, more checked bags → 🧠 value-driven and exclusivity-seeking → 🎁 *Exclusive Discounts*\n",
    "- **Cluster 1**: budget-conscious, high use of discounts, moderate cancellations → 💼 value-focused users → 🧳 *Free Checked Bag*\n",
    "- **Cluster 2**: frequent users with many cancellations → ❌ risk-averse users → *No Cancellation Fees*\n",
    "- **Cluster 3**: steady usage, average behavior across metrics → 🏨 stable base users → *1 Night Free with Flight*\n",
    "\n",
    "This approach ensures that perks are **behavior-based** and **targeted** to each customer segment.\n",
    "\n",
    "| Cluster | Segment Summary                                 | Classification Accuracy | Assigned Perk               |\n",
    "|---------|-------------------------------------------------|--------------------------|------------------------------|\n",
    "| 0       | Rare flyers, high spenders, check in more bags  | 2/3 correct              | 🎁 Exclusive Discounts        |\n",
    "| 1       | Budget-conscious, discount users, moderate cancels | 5/5 correct              | 🧳 Free Checked Bag           |\n",
    "| 2       | High-frequency users, many cancellations        | 1/1 correct              | ❌ No Cancellation Fees       |\n",
    "| 3       | Steady users, average behavior across metrics   | 7/7 correct              | 🏨 1 Night Free with Flight   |\n"
   ]
  },
  {
   "cell_type": "markdown",
   "id": "176d02dc",
   "metadata": {},
   "source": []
  },
  {
   "cell_type": "markdown",
   "id": "7b5d56eb",
   "metadata": {},
   "source": []
  }
 ],
 "metadata": {
  "kernelspec": {
   "display_name": "Python (mastery-project)",
   "language": "python",
   "name": "mastery-env"
  },
  "language_info": {
   "codemirror_mode": {
    "name": "ipython",
    "version": 3
   },
   "file_extension": ".py",
   "mimetype": "text/x-python",
   "name": "python",
   "nbconvert_exporter": "python",
   "pygments_lexer": "ipython3",
   "version": "3.13.2"
  }
 },
 "nbformat": 4,
 "nbformat_minor": 5
}
